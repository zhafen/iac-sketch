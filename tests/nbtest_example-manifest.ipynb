{
 "cells": [
  {
   "cell_type": "code",
   "execution_count": null,
   "id": "266a5975",
   "metadata": {},
   "outputs": [],
   "source": [
    "import os"
   ]
  },
  {
   "cell_type": "code",
   "execution_count": null,
   "id": "b360b827",
   "metadata": {},
   "outputs": [],
   "source": [
    "import pandas as pd\n",
    "import networkx as nx"
   ]
  },
  {
   "cell_type": "code",
   "execution_count": null,
   "id": "5c5aebc7",
   "metadata": {},
   "outputs": [],
   "source": [
    "from iac_sketch import data, etl, sketch, transform\n",
    "from iac_sketch.extract import extract_python, extract_yaml\n",
    "from iac_sketch import system_tests"
   ]
  },
  {
   "cell_type": "code",
   "execution_count": null,
   "id": "ac98ff0e",
   "metadata": {},
   "outputs": [],
   "source": [
    "# DEBUG\n",
    "import importlib\n",
    "\n",
    "importlib.reload(data)\n",
    "importlib.reload(extract_yaml)\n",
    "importlib.reload(extract_python)\n",
    "importlib.reload(etl)\n",
    "importlib.reload(transform)\n",
    "importlib.reload(system_tests)\n",
    "importlib.reload(sketch)"
   ]
  },
  {
   "cell_type": "code",
   "execution_count": null,
   "id": "686a2af6",
   "metadata": {},
   "outputs": [],
   "source": [
    "architect = sketch.Architect(\n",
    "    root_dir=\"./test_data\",\n",
    "    filename_patterns=[\n",
    "        \"./example_manifest/**/*.yaml\",\n",
    "        \"./example_manifest/**/*.py\",\n",
    "    ],\n",
    ")\n",
    "registry = architect.perform_registry_etl()\n",
    "tests, test_results = architect.validate_registry(\n",
    "    min_priority=0.7,\n",
    "    allowed_infrastructure=[\"research_analytics_infrastructure\"],\n",
    ")"
   ]
  },
  {
   "cell_type": "code",
   "execution_count": null,
   "id": "91c85fe6",
   "metadata": {},
   "outputs": [],
   "source": [
    "entity_sources.groupby(\"source\")"
   ]
  },
  {
   "cell_type": "code",
   "execution_count": null,
   "id": "e57021ae",
   "metadata": {},
   "outputs": [],
   "source": [
    "# Entities to document (exclude system-defined entities)\n",
    "excluded_sources = [\"system\"]\n",
    "entity_sources = registry.view(\"entity_source\")\n",
    "is_duplicated = entity_sources.index.get_level_values(\"entity\").duplicated(keep=\"first\")\n",
    "entity_sources = registry.reset_index(entity_sources.loc[~is_duplicated])\n",
    "for source, entity_sources_ in entity_sources.groupby(\"source\"):\n",
    "    pass\n",
    "entity_sources_"
   ]
  },
  {
   "cell_type": "code",
   "execution_count": null,
   "id": "c9fc7547",
   "metadata": {},
   "outputs": [],
   "source": [
    "compinsts = registry.view(\"compinst\")"
   ]
  },
  {
   "cell_type": "code",
   "execution_count": null,
   "id": "b4a96582",
   "metadata": {},
   "outputs": [],
   "source": [
    "compinsts = registry.view(\"compinst\")\n",
    "i = 50\n",
    "entity_i = entity_sources_[\"entity\"].iloc[i]\n",
    "compinst_i = compinsts.loc[entity_i]\n",
    "print(entity_i)\n",
    "compinst_i"
   ]
  },
  {
   "cell_type": "code",
   "execution_count": null,
   "id": "3527a2d6",
   "metadata": {},
   "outputs": [],
   "source": [
    "j = -1\n",
    "comp_types_i = compinst_i[\"component_type\"].unique()\n",
    "comp_type_j = comp_types_i[j]\n",
    "output_j = f\"**{comp_type_j}:**\"\n",
    "comps_j = registry.view(comp_type_j).loc[entity_i]\n",
    "\n",
    "comps_j"
   ]
  },
  {
   "cell_type": "code",
   "execution_count": null,
   "id": "c358c934",
   "metadata": {},
   "outputs": [],
   "source": [
    "# If comps_j is a series then there's just one component of this type for this entity\n",
    "if isinstance(comps_j, pd.Series):\n",
    "\n",
    "    # Rename, just for consistent display\n",
    "    comp_j = comps_j"
   ]
  },
  {
   "cell_type": "code",
   "execution_count": null,
   "id": "a3887f08",
   "metadata": {},
   "outputs": [],
   "source": [
    "# If there's a value, we put it right after the component type\n",
    "if not pd.isna(comp_j[\"value\"]):\n",
    "    output_j += f\" {comp_j['value']}\\n\"\n",
    "else:\n",
    "    output_j += \"\\n\"\n",
    "\n",
    "# The other fields we list as bullet points\n",
    "skipped_fields = [\"comp_key\", \"value\"]\n",
    "for field, val in comp_j.items():\n",
    "    if field in skipped_fields or pd.isna(val):\n",
    "        continue\n",
    "    output_j += f\"- {field}: {val}\\n\""
   ]
  },
  {
   "cell_type": "code",
   "execution_count": null,
   "id": "ea824c4b",
   "metadata": {},
   "outputs": [],
   "source": [
    "# Visualize the graph\n",
    "nx.draw(registry.graph, with_labels=True)"
   ]
  },
  {
   "cell_type": "code",
   "execution_count": null,
   "id": "5a7304c2",
   "metadata": {},
   "outputs": [],
   "source": [
    "import ast"
   ]
  },
  {
   "cell_type": "code",
   "execution_count": null,
   "id": "69a35d09",
   "metadata": {},
   "outputs": [],
   "source": [
    "with open(\"../iac_sketch/etl.py\", \"r\") as f:\n",
    "    source = f.read()\n",
    "tree = ast.parse(source)\n",
    "tree"
   ]
  },
  {
   "cell_type": "code",
   "execution_count": null,
   "id": "34d31dae",
   "metadata": {},
   "outputs": [],
   "source": [
    "list(ast.iter_child_nodes(tree))"
   ]
  },
  {
   "cell_type": "code",
   "execution_count": null,
   "id": "c4184b51",
   "metadata": {},
   "outputs": [],
   "source": [
    "import ast"
   ]
  },
  {
   "cell_type": "code",
   "execution_count": null,
   "id": "eb9e4bba",
   "metadata": {},
   "outputs": [],
   "source": [
    "node = ast.parse(\"\"\"\n",
    "def my_function(x) -> int:\n",
    "    return x + 1\n",
    "\n",
    "x = my_function(5)\n",
    "\"\"\")"
   ]
  },
  {
   "cell_type": "code",
   "execution_count": null,
   "id": "c3e10d1e",
   "metadata": {},
   "outputs": [],
   "source": [
    "nt = ast.NodeTransformer()\n",
    "nt.visit(node)"
   ]
  },
  {
   "cell_type": "code",
   "execution_count": null,
   "id": "b2c4142f",
   "metadata": {},
   "outputs": [],
   "source": [
    "nt = ast.NodeVisitor()\n",
    "nt.visit(node)"
   ]
  },
  {
   "cell_type": "code",
   "execution_count": null,
   "id": "b45823ca",
   "metadata": {},
   "outputs": [],
   "source": [
    "list(ast.iter_child_nodes(node.body[1]))"
   ]
  },
  {
   "cell_type": "code",
   "execution_count": null,
   "id": "a718dae1",
   "metadata": {},
   "outputs": [],
   "source": [
    "node.body[1].value.func.ctx"
   ]
  },
  {
   "cell_type": "code",
   "execution_count": null,
   "id": "7312b6fc",
   "metadata": {},
   "outputs": [],
   "source": [
    "node.body[0].__class__.__name__"
   ]
  },
  {
   "cell_type": "code",
   "execution_count": null,
   "id": "231f1a3d",
   "metadata": {},
   "outputs": [],
   "source": [
    "node.body[0]._fields"
   ]
  },
  {
   "cell_type": "code",
   "execution_count": null,
   "id": "81148f4b",
   "metadata": {},
   "outputs": [],
   "source": [
    "node.body[0].body[0].value._fields"
   ]
  },
  {
   "cell_type": "code",
   "execution_count": null,
   "id": "4a450f36",
   "metadata": {},
   "outputs": [],
   "source": [
    "visitor = ComponentVisitor()"
   ]
  },
  {
   "cell_type": "code",
   "execution_count": null,
   "id": "ae7226ee",
   "metadata": {},
   "outputs": [],
   "source": [
    "visitor.visit(tree)"
   ]
  },
  {
   "cell_type": "code",
   "execution_count": null,
   "id": "f86ab7d0",
   "metadata": {},
   "outputs": [],
   "source": [
    "pd.DataFrame(visitor.components)"
   ]
  },
  {
   "cell_type": "code",
   "execution_count": null,
   "id": "649bc81d",
   "metadata": {},
   "outputs": [],
   "source": [
    "type(tree.body[-1])"
   ]
  },
  {
   "cell_type": "code",
   "execution_count": null,
   "id": "c01f6ec4",
   "metadata": {},
   "outputs": [],
   "source": [
    "dict(ast.iter_fields(child_node))"
   ]
  },
  {
   "cell_type": "code",
   "execution_count": null,
   "id": "2e919220",
   "metadata": {},
   "outputs": [],
   "source": [
    "components = []\n",
    "for child_node in ast.iter_child_nodes(tree.body[-1]):\n",
    "    comp_i = {\n",
    "        \"component_type\": type(child_node).__name__\n",
    "    }\n",
    "    components.append(comp_i)\n",
    "\n",
    "components"
   ]
  },
  {
   "cell_type": "code",
   "execution_count": null,
   "id": "79e8ff08",
   "metadata": {},
   "outputs": [],
   "source": [
    "tree.body[-1].__dir__()"
   ]
  },
  {
   "cell_type": "code",
   "execution_count": null,
   "id": "afc61d6a",
   "metadata": {},
   "outputs": [],
   "source": []
  },
  {
   "cell_type": "code",
   "execution_count": null,
   "id": "836f8c24",
   "metadata": {},
   "outputs": [],
   "source": [
    "for item in ast.iter_fields(tree.body[-1].body[-1]):\n",
    "    print(item)"
   ]
  },
  {
   "cell_type": "code",
   "execution_count": null,
   "id": "eb91955e",
   "metadata": {},
   "outputs": [],
   "source": [
    "visitor.visit(tree.body[-1])"
   ]
  },
  {
   "cell_type": "code",
   "execution_count": null,
   "id": "ca2adbda",
   "metadata": {},
   "outputs": [],
   "source": [
    "ast.walk(visitor.visit(tree))"
   ]
  },
  {
   "cell_type": "code",
   "execution_count": null,
   "id": "cac97308",
   "metadata": {},
   "outputs": [],
   "source": [
    "for item in ast.walk(tree):\n",
    "    print(item)"
   ]
  },
  {
   "cell_type": "code",
   "execution_count": null,
   "id": "750796db",
   "metadata": {},
   "outputs": [],
   "source": [
    "visitor.visit_Constant(tree)"
   ]
  },
  {
   "cell_type": "code",
   "execution_count": null,
   "id": "2b642bac",
   "metadata": {},
   "outputs": [],
   "source": [
    "components = {}\n",
    "for field, value in ast.iter_fields(tree):\n",
    "    print(field, value)\n",
    "    if isinstance(value, str)"
   ]
  },
  {
   "cell_type": "code",
   "execution_count": null,
   "id": "0bf1ed17",
   "metadata": {},
   "outputs": [],
   "source": [
    "for item in ast.iter_child_nodes(transform_sys_tree):\n",
    "    print(item)"
   ]
  },
  {
   "cell_type": "code",
   "execution_count": null,
   "id": "61c1d237",
   "metadata": {},
   "outputs": [],
   "source": [
    "ast.get_source_segment(source, transform_sys_tree)"
   ]
  },
  {
   "cell_type": "code",
   "execution_count": null,
   "id": "2e2de8e6",
   "metadata": {},
   "outputs": [],
   "source": [
    "ast.get_docstring(transform_sys_tree)"
   ]
  },
  {
   "cell_type": "code",
   "execution_count": null,
   "id": "27060240",
   "metadata": {},
   "outputs": [],
   "source": [
    "isinstance(transform_sys_tree, ast.AST)"
   ]
  },
  {
   "cell_type": "code",
   "execution_count": null,
   "id": "704eab93",
   "metadata": {},
   "outputs": [],
   "source": []
  }
 ],
 "metadata": {
  "kernelspec": {
   "display_name": "iac-sketch",
   "language": "python",
   "name": "python3"
  },
  "language_info": {
   "codemirror_mode": {
    "name": "ipython",
    "version": 3
   },
   "file_extension": ".py",
   "mimetype": "text/x-python",
   "name": "python",
   "nbconvert_exporter": "python",
   "pygments_lexer": "ipython3",
   "version": "3.13.1"
  }
 },
 "nbformat": 4,
 "nbformat_minor": 5
}
