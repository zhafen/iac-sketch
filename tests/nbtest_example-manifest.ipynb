{
 "cells": [
  {
   "cell_type": "code",
   "execution_count": null,
   "id": "266a5975",
   "metadata": {},
   "outputs": [],
   "source": [
    "import json\n",
    "import os"
   ]
  },
  {
   "cell_type": "code",
   "execution_count": null,
   "id": "b360b827",
   "metadata": {},
   "outputs": [],
   "source": [
    "import pandas as pd\n",
    "import networkx as nx"
   ]
  },
  {
   "cell_type": "code",
   "execution_count": null,
   "id": "5c5aebc7",
   "metadata": {},
   "outputs": [],
   "source": [
    "from iac_sketch import data, etl, sketch, transform\n",
    "from iac_sketch.extract import extract_python, extract_yaml\n",
    "from iac_sketch import system_tests"
   ]
  },
  {
   "cell_type": "code",
   "execution_count": null,
   "id": "ac98ff0e",
   "metadata": {},
   "outputs": [],
   "source": [
    "# DEBUG\n",
    "import importlib\n",
    "\n",
    "importlib.reload(data)\n",
    "importlib.reload(extract_yaml)\n",
    "importlib.reload(extract_python)\n",
    "importlib.reload(etl)\n",
    "importlib.reload(transform)\n",
    "importlib.reload(system_tests)\n",
    "importlib.reload(sketch)"
   ]
  },
  {
   "cell_type": "code",
   "execution_count": null,
   "id": "686a2af6",
   "metadata": {},
   "outputs": [],
   "source": [
    "architect = sketch.Architect(\n",
    "    root_dir=\"./test_data/healthcare_example\",\n",
    "    filename_patterns=[\n",
    "        \"./manifest/**/*.yaml\",\n",
    "        \"./ra_lib/**/*.py\",\n",
    "    ],\n",
    ")\n",
    "registry = architect.perform_registry_etl()\n",
    "tests, test_results = architect.validate_registry(\n",
    "    min_priority=0.7,\n",
    "    allowed_infrastructure=[\"research_analytics_infrastructure\"],\n",
    ")"
   ]
  },
  {
   "cell_type": "code",
   "execution_count": null,
   "id": "c8bd1384",
   "metadata": {},
   "outputs": [],
   "source": [
    "# Select entities to export\n",
    "entities = (\n",
    "    registry.view(\"entity_source\")\n",
    "    .query(\"source == 'user'\")\n",
    "    .index.get_level_values(\"entity\")\n",
    "    .unique()\n",
    ")\n",
    "entities"
   ]
  },
  {
   "cell_type": "code",
   "execution_count": null,
   "id": "fade0cbc",
   "metadata": {},
   "outputs": [],
   "source": [
    "# Get component instances for those entities\n",
    "# and add the component types themselves to the list of entities.\n",
    "# Repeat until no new entities are found\n",
    "compinsts = registry.view(\"compinst\")\n",
    "n_current = len(entities)\n",
    "n_new = n_current\n",
    "while n_new > 0:\n",
    "    new_entities = compinsts.loc[entities, \"component_type\"].unique()\n",
    "    entities = entities.union(new_entities)\n",
    "    n_new = len(entities) - n_current\n",
    "    n_current = len(entities)\n",
    "entities"
   ]
  },
  {
   "cell_type": "code",
   "execution_count": null,
   "id": "db5b4d19",
   "metadata": {},
   "outputs": [],
   "source": [
    "# Get nodes data\n",
    "entity_data = []\n",
    "skip_types = [\"compdef\"]\n",
    "for entity in entities:\n",
    "    entity_data_i = registry.view_entity(\n",
    "        entity,\n",
    "        output_yaml=False,\n",
    "        print_output=False,\n",
    "    )\n",
    "\n",
    "    entity_data_i = {k: v for k, v in entity_data_i.items() if k not in skip_types}\n",
    "\n",
    "    entity_data_str_i = json.dumps(entity_data_i)\n",
    "    entity_data.append((entity, entity_data_str_i))"
   ]
  },
  {
   "cell_type": "code",
   "execution_count": null,
   "id": "7807e6d5",
   "metadata": {},
   "outputs": [],
   "source": [
    "# Get edges data\n",
    "links = registry.view(\"link\").query(\"source.isin(@entities) & target.isin(@entities)\")"
   ]
  },
  {
   "cell_type": "code",
   "execution_count": null,
   "id": "38ffcf18",
   "metadata": {},
   "outputs": [],
   "source": [
    "# Build graph\n",
    "graph = nx.from_pandas_edgelist(\n",
    "    links,\n",
    "    source=\"source\",\n",
    "    target=\"target\",\n",
    "    edge_key=\"link_type\",\n",
    "    create_using=nx.MultiDiGraph,\n",
    ")\n",
    "graph.add_nodes_from(entity_data)"
   ]
  },
  {
   "cell_type": "code",
   "execution_count": null,
   "id": "6e8e7feb",
   "metadata": {},
   "outputs": [],
   "source": [
    "# Export to graph ML\n",
    "nx.write_graphml(graph, \"./healthcare_example.graphml\")"
   ]
  },
  {
   "cell_type": "code",
   "execution_count": null,
   "id": "2ec8ceb3",
   "metadata": {},
   "outputs": [],
   "source": []
  }
 ],
 "metadata": {
  "kernelspec": {
   "display_name": "iac-sketch",
   "language": "python",
   "name": "python3"
  },
  "language_info": {
   "codemirror_mode": {
    "name": "ipython",
    "version": 3
   },
   "file_extension": ".py",
   "mimetype": "text/x-python",
   "name": "python",
   "nbconvert_exporter": "python",
   "pygments_lexer": "ipython3",
   "version": "3.13.1"
  }
 },
 "nbformat": 4,
 "nbformat_minor": 5
}
