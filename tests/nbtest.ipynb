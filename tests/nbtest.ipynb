{
 "cells": [
  {
   "cell_type": "code",
   "execution_count": null,
   "id": "b360b827",
   "metadata": {},
   "outputs": [],
   "source": [
    "import pandas as pd\n",
    "import networkx as nx"
   ]
  },
  {
   "cell_type": "code",
   "execution_count": null,
   "id": "5c5aebc7",
   "metadata": {},
   "outputs": [],
   "source": [
    "from iac_sketch import data, etl, sketch, transform, system_tests"
   ]
  },
  {
   "cell_type": "code",
   "execution_count": null,
   "id": "ac98ff0e",
   "metadata": {},
   "outputs": [],
   "source": [
    "# DEBUG\n",
    "import importlib\n",
    "\n",
    "importlib.reload(data)\n",
    "importlib.reload(etl)\n",
    "importlib.reload(sketch)\n",
    "importlib.reload(transform)\n",
    "importlib.reload(system_tests)\n",
    "# architect = sketch.Architect(\"../public/components\")\n",
    "# registry = architect.parse()"
   ]
  },
  {
   "cell_type": "code",
   "execution_count": null,
   "id": "686a2af6",
   "metadata": {},
   "outputs": [],
   "source": [
    "architect = sketch.Architect()\n",
    "registry = architect.perform_registry_etl()\n",
    "tests, test_results = architect.validate_registry()\n",
    "tests"
   ]
  },
  {
   "cell_type": "code",
   "execution_count": null,
   "id": "152567a6",
   "metadata": {},
   "outputs": [],
   "source": [
    "with pd.option_context('display.max_colwidth', None):\n",
    "    print(tests.query(\"errors.notna() and errors != ''\")[\"errors\"])"
   ]
  },
  {
   "cell_type": "code",
   "execution_count": null,
   "id": "c586874f",
   "metadata": {},
   "outputs": [],
   "source": [
    "# Show results\n",
    "for test_key, test_result in test_results.items():\n",
    "    print(f\"{test_key}:\")\n",
    "    display(test_result)\n",
    "    print(\"\")"
   ]
  },
  {
   "cell_type": "code",
   "execution_count": null,
   "id": "ea824c4b",
   "metadata": {},
   "outputs": [],
   "source": [
    "# Create a directed graph from the DataFrame\n",
    "graph = nx.from_pandas_edgelist(\n",
    "    registry[\"link\"],\n",
    "    source=\"source\",\n",
    "    target=\"target\",\n",
    "    edge_key=\"link_type\",\n",
    "    create_using=nx.DiGraph,\n",
    ")\n",
    "\n",
    "# Visualize the graph\n",
    "nx.draw(graph, with_labels=True)"
   ]
  },
  {
   "cell_type": "code",
   "execution_count": null,
   "id": "3886c192",
   "metadata": {},
   "outputs": [],
   "source": [
    "graph.add_nodes_from(registry.entities)"
   ]
  },
  {
   "cell_type": "code",
   "execution_count": null,
   "id": "c34e0022",
   "metadata": {},
   "outputs": [],
   "source": [
    "connected_components = [_ for _ in nx.connected_components(graph.to_undirected())]\n",
    "metadata = registry[\"metadata\"].set_index(\"entity\")\n",
    "metadata[\"connected_component_category\"] = -1\n",
    "for i, comps in enumerate(connected_components):\n",
    "    metadata.loc[list(comps), \"connected_component_category\"] = i"
   ]
  },
  {
   "cell_type": "code",
   "execution_count": null,
   "id": "4f36f99f",
   "metadata": {},
   "outputs": [],
   "source": [
    "pair_connectivity = nx.all_pairs_node_connectivity(graph)"
   ]
  },
  {
   "cell_type": "code",
   "execution_count": null,
   "id": "eb3535dc",
   "metadata": {},
   "outputs": [],
   "source": []
  }
 ],
 "metadata": {
  "kernelspec": {
   "display_name": "iac-sketch",
   "language": "python",
   "name": "python3"
  },
  "language_info": {
   "codemirror_mode": {
    "name": "ipython",
    "version": 3
   },
   "file_extension": ".py",
   "mimetype": "text/x-python",
   "name": "python",
   "nbconvert_exporter": "python",
   "pygments_lexer": "ipython3",
   "version": "3.13.1"
  }
 },
 "nbformat": 4,
 "nbformat_minor": 5
}
