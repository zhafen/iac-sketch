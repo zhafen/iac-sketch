{
 "cells": [
  {
   "cell_type": "code",
   "execution_count": 1,
   "id": "b360b827",
   "metadata": {},
   "outputs": [],
   "source": [
    "import pandas as pd"
   ]
  },
  {
   "cell_type": "code",
   "execution_count": 2,
   "id": "5c5aebc7",
   "metadata": {},
   "outputs": [],
   "source": [
    "from iac_sketch import data, parse, sketch"
   ]
  },
  {
   "cell_type": "code",
   "execution_count": 68,
   "id": "ac98ff0e",
   "metadata": {},
   "outputs": [],
   "source": [
    "# DEBUG\n",
    "import importlib\n",
    "\n",
    "importlib.reload(data)\n",
    "importlib.reload(parse)\n",
    "importlib.reload(sketch)\n",
    "architect = sketch.Architect(\"../public/components\")\n",
    "registry = architect.parse()"
   ]
  },
  {
   "cell_type": "code",
   "execution_count": 69,
   "id": "0d8131b6",
   "metadata": {},
   "outputs": [
    {
     "data": {
      "text/html": [
       "<div>\n",
       "<style scoped>\n",
       "    .dataframe tbody tr th:only-of-type {\n",
       "        vertical-align: middle;\n",
       "    }\n",
       "\n",
       "    .dataframe tbody tr th {\n",
       "        vertical-align: top;\n",
       "    }\n",
       "\n",
       "    .dataframe thead th {\n",
       "        text-align: right;\n",
       "    }\n",
       "</style>\n",
       "<table border=\"1\" class=\"dataframe\">\n",
       "  <thead>\n",
       "    <tr style=\"text-align: right;\">\n",
       "      <th></th>\n",
       "      <th>entity</th>\n",
       "      <th>comp_ind</th>\n",
       "      <th>links</th>\n",
       "      <th>link_type</th>\n",
       "    </tr>\n",
       "  </thead>\n",
       "  <tbody>\n",
       "    <tr>\n",
       "      <th>0</th>\n",
       "      <td>request_workflow</td>\n",
       "      <td>1</td>\n",
       "      <td>accept_request --&gt; build_report\\nbuild_report ...</td>\n",
       "      <td>dependency</td>\n",
       "    </tr>\n",
       "    <tr>\n",
       "      <th>1</th>\n",
       "      <td>build_report</td>\n",
       "      <td>2</td>\n",
       "      <td>define_report --&gt; set_up_environment\\nset_up_e...</td>\n",
       "      <td>dependency</td>\n",
       "    </tr>\n",
       "    <tr>\n",
       "      <th>2</th>\n",
       "      <td>run_report</td>\n",
       "      <td>2</td>\n",
       "      <td>run_etl --&gt; run_cohort_notebook\\nrun_cohort_no...</td>\n",
       "      <td>dependency</td>\n",
       "    </tr>\n",
       "  </tbody>\n",
       "</table>\n",
       "</div>"
      ],
      "text/plain": [
       "             entity  comp_ind  \\\n",
       "0  request_workflow         1   \n",
       "1      build_report         2   \n",
       "2        run_report         2   \n",
       "\n",
       "                                               links   link_type  \n",
       "0  accept_request --> build_report\\nbuild_report ...  dependency  \n",
       "1  define_report --> set_up_environment\\nset_up_e...  dependency  \n",
       "2  run_etl --> run_cohort_notebook\\nrun_cohort_no...  dependency  "
      ]
     },
     "execution_count": 69,
     "metadata": {},
     "output_type": "execute_result"
    }
   ],
   "source": [
    "links = registry[\"links\"]\n",
    "links"
   ]
  },
  {
   "cell_type": "code",
   "execution_count": 70,
   "id": "73d37d83",
   "metadata": {},
   "outputs": [
    {
     "data": {
      "text/html": [
       "<div>\n",
       "<style scoped>\n",
       "    .dataframe tbody tr th:only-of-type {\n",
       "        vertical-align: middle;\n",
       "    }\n",
       "\n",
       "    .dataframe tbody tr th {\n",
       "        vertical-align: top;\n",
       "    }\n",
       "\n",
       "    .dataframe thead th {\n",
       "        text-align: right;\n",
       "    }\n",
       "</style>\n",
       "<table border=\"1\" class=\"dataframe\">\n",
       "  <thead>\n",
       "    <tr style=\"text-align: right;\">\n",
       "      <th></th>\n",
       "      <th>entity</th>\n",
       "      <th>comp_ind</th>\n",
       "      <th>link_type</th>\n",
       "      <th>source</th>\n",
       "      <th>target</th>\n",
       "    </tr>\n",
       "  </thead>\n",
       "  <tbody>\n",
       "    <tr>\n",
       "      <th>0</th>\n",
       "      <td>request_workflow</td>\n",
       "      <td>1</td>\n",
       "      <td>dependency</td>\n",
       "      <td>accept_request</td>\n",
       "      <td>build_report</td>\n",
       "    </tr>\n",
       "    <tr>\n",
       "      <th>1</th>\n",
       "      <td>request_workflow</td>\n",
       "      <td>1</td>\n",
       "      <td>dependency</td>\n",
       "      <td>build_report</td>\n",
       "      <td>deliver_report</td>\n",
       "    </tr>\n",
       "    <tr>\n",
       "      <th>2</th>\n",
       "      <td>build_report</td>\n",
       "      <td>2</td>\n",
       "      <td>dependency</td>\n",
       "      <td>define_report</td>\n",
       "      <td>set_up_environment</td>\n",
       "    </tr>\n",
       "    <tr>\n",
       "      <th>3</th>\n",
       "      <td>build_report</td>\n",
       "      <td>2</td>\n",
       "      <td>dependency</td>\n",
       "      <td>set_up_environment</td>\n",
       "      <td>set_up_report</td>\n",
       "    </tr>\n",
       "    <tr>\n",
       "      <th>4</th>\n",
       "      <td>build_report</td>\n",
       "      <td>2</td>\n",
       "      <td>dependency</td>\n",
       "      <td>set_up_report</td>\n",
       "      <td>work_on_report</td>\n",
       "    </tr>\n",
       "    <tr>\n",
       "      <th>5</th>\n",
       "      <td>build_report</td>\n",
       "      <td>2</td>\n",
       "      <td>dependency</td>\n",
       "      <td>work_on_report</td>\n",
       "      <td>get_feedback_on_report</td>\n",
       "    </tr>\n",
       "    <tr>\n",
       "      <th>6</th>\n",
       "      <td>build_report</td>\n",
       "      <td>2</td>\n",
       "      <td>dependency</td>\n",
       "      <td>get_feedback_on_report</td>\n",
       "      <td>work_on_report</td>\n",
       "    </tr>\n",
       "    <tr>\n",
       "      <th>7</th>\n",
       "      <td>build_report</td>\n",
       "      <td>2</td>\n",
       "      <td>dependency</td>\n",
       "      <td>get_feedback_on_report</td>\n",
       "      <td>finalize_report</td>\n",
       "    </tr>\n",
       "    <tr>\n",
       "      <th>8</th>\n",
       "      <td>run_report</td>\n",
       "      <td>2</td>\n",
       "      <td>dependency</td>\n",
       "      <td>run_etl</td>\n",
       "      <td>run_cohort_notebook</td>\n",
       "    </tr>\n",
       "    <tr>\n",
       "      <th>9</th>\n",
       "      <td>run_report</td>\n",
       "      <td>2</td>\n",
       "      <td>dependency</td>\n",
       "      <td>run_cohort_notebook</td>\n",
       "      <td>run_report_notebook</td>\n",
       "    </tr>\n",
       "  </tbody>\n",
       "</table>\n",
       "</div>"
      ],
      "text/plain": [
       "             entity  comp_ind   link_type                   source  \\\n",
       "0  request_workflow         1  dependency          accept_request    \n",
       "1  request_workflow         1  dependency            build_report    \n",
       "2      build_report         2  dependency           define_report    \n",
       "3      build_report         2  dependency      set_up_environment    \n",
       "4      build_report         2  dependency           set_up_report    \n",
       "5      build_report         2  dependency          work_on_report    \n",
       "6      build_report         2  dependency  get_feedback_on_report    \n",
       "7      build_report         2  dependency  get_feedback_on_report    \n",
       "8        run_report         2  dependency                 run_etl    \n",
       "9        run_report         2  dependency     run_cohort_notebook    \n",
       "\n",
       "                    target  \n",
       "0             build_report  \n",
       "1           deliver_report  \n",
       "2       set_up_environment  \n",
       "3            set_up_report  \n",
       "4           work_on_report  \n",
       "5   get_feedback_on_report  \n",
       "6           work_on_report  \n",
       "7          finalize_report  \n",
       "8      run_cohort_notebook  \n",
       "9      run_report_notebook  "
      ]
     },
     "execution_count": 70,
     "metadata": {},
     "output_type": "execute_result"
    }
   ],
   "source": [
    "# Parse the links\n",
    "exploded_links = (\n",
    "    links[\"links\"]\n",
    "    # Split on newlines\n",
    "    .str.strip()\n",
    "    .str.split(\"\\n\")\n",
    "    .explode()\n",
    "    # Split on arrows\n",
    "    .str.strip()\n",
    "    .str.split(\"-->\", expand=True)\n",
    "    # Rename columns\n",
    "    .rename(columns={0: \"source\", 1: \"target\"})\n",
    ")\n",
    "# Add the parsed results back to the original DataFrame\n",
    "links = links.join(exploded_links).drop(columns=[\"links\"]).reset_index(drop=True)\n",
    "links"
   ]
  },
  {
   "cell_type": "code",
   "execution_count": 85,
   "id": "903cb4dc",
   "metadata": {},
   "outputs": [],
   "source": [
    "registry.entities.at[0, \"component_entity\"] = \"algorithm\""
   ]
  },
  {
   "cell_type": "code",
   "execution_count": 83,
   "id": "3eb7104b",
   "metadata": {},
   "outputs": [
    {
     "data": {
      "text/plain": [
       "<pandas.core.groupby.generic.DataFrameGroupBy object at 0x11dd471d0>"
      ]
     },
     "execution_count": 83,
     "metadata": {},
     "output_type": "execute_result"
    }
   ],
   "source": [
    "entities_by_group = registry.entities.groupby(\"component_entity\")\n",
    "entities_by_group"
   ]
  },
  {
   "cell_type": "code",
   "execution_count": 91,
   "id": "59580f58",
   "metadata": {},
   "outputs": [
    {
     "data": {
      "text/plain": [
       "<pandas.core.groupby.generic.DataFrameGroupBy object at 0x11dd471d0>"
      ]
     },
     "execution_count": 91,
     "metadata": {},
     "output_type": "execute_result"
    }
   ],
   "source": [
    "entities_by_group"
   ]
  },
  {
   "cell_type": "code",
   "execution_count": null,
   "id": "0e6f48fb",
   "metadata": {},
   "outputs": [],
   "source": [
    "# Get the new comp index, using the metadata\n",
    "links[\"comp_ind\"] = links.groupby(\"entity\").cumcount()\n",
    "links[\"comp_ind\"] += links.merge(registry[\"metadata\"], on=\"entity\", how=\"left\")[\"n_comps\"]\n"
   ]
  },
  {
   "cell_type": "code",
   "execution_count": null,
   "id": "e40d66fc",
   "metadata": {},
   "outputs": [
    {
     "data": {
      "text/plain": [
       "0    3\n",
       "1    4\n",
       "2    4\n",
       "3    5\n",
       "4    6\n",
       "5    7\n",
       "6    8\n",
       "7    9\n",
       "8    4\n",
       "9    5\n",
       "dtype: int64"
      ]
     },
     "execution_count": 72,
     "metadata": {},
     "output_type": "execute_result"
    }
   ],
   "source": [
    "(\n",
    "    links[\"comp_ind\"]\n",
    "    +\n",
    ")"
   ]
  },
  {
   "cell_type": "code",
   "execution_count": 8,
   "id": "49780048",
   "metadata": {},
   "outputs": [
    {
     "data": {
      "text/html": [
       "<div>\n",
       "<style scoped>\n",
       "    .dataframe tbody tr th:only-of-type {\n",
       "        vertical-align: middle;\n",
       "    }\n",
       "\n",
       "    .dataframe tbody tr th {\n",
       "        vertical-align: top;\n",
       "    }\n",
       "\n",
       "    .dataframe thead th {\n",
       "        text-align: right;\n",
       "    }\n",
       "</style>\n",
       "<table border=\"1\" class=\"dataframe\">\n",
       "  <thead>\n",
       "    <tr style=\"text-align: right;\">\n",
       "      <th></th>\n",
       "      <th>entity</th>\n",
       "      <th>status</th>\n",
       "      <th>requester [person]</th>\n",
       "      <th>input</th>\n",
       "    </tr>\n",
       "  </thead>\n",
       "  <tbody>\n",
       "    <tr>\n",
       "      <th>0</th>\n",
       "      <td>accept_request</td>\n",
       "      <td>in design</td>\n",
       "      <td>The person seeking to submit a request.</td>\n",
       "      <td>NaN</td>\n",
       "    </tr>\n",
       "    <tr>\n",
       "      <th>1</th>\n",
       "      <td>deliver_report</td>\n",
       "      <td>new</td>\n",
       "      <td>NaN</td>\n",
       "      <td>NaN</td>\n",
       "    </tr>\n",
       "    <tr>\n",
       "      <th>2</th>\n",
       "      <td>archive_data_products</td>\n",
       "      <td>new</td>\n",
       "      <td>NaN</td>\n",
       "      <td>NaN</td>\n",
       "    </tr>\n",
       "    <tr>\n",
       "      <th>3</th>\n",
       "      <td>framework_manifest_data</td>\n",
       "      <td>in design</td>\n",
       "      <td>NaN</td>\n",
       "      <td>NaN</td>\n",
       "    </tr>\n",
       "    <tr>\n",
       "      <th>4</th>\n",
       "      <td>framework_manifest_documentation</td>\n",
       "      <td>new</td>\n",
       "      <td>NaN</td>\n",
       "      <td>NaN</td>\n",
       "    </tr>\n",
       "    <tr>\n",
       "      <th>5</th>\n",
       "      <td>power_users</td>\n",
       "      <td>new</td>\n",
       "      <td>NaN</td>\n",
       "      <td>NaN</td>\n",
       "    </tr>\n",
       "    <tr>\n",
       "      <th>6</th>\n",
       "      <td>audit_cohorts</td>\n",
       "      <td>new</td>\n",
       "      <td>NaN</td>\n",
       "      <td>NaN</td>\n",
       "    </tr>\n",
       "  </tbody>\n",
       "</table>\n",
       "</div>"
      ],
      "text/plain": [
       "                             entity     status  \\\n",
       "0                    accept_request  in design   \n",
       "1                    deliver_report        new   \n",
       "2             archive_data_products        new   \n",
       "3           framework_manifest_data  in design   \n",
       "4  framework_manifest_documentation        new   \n",
       "5                       power_users        new   \n",
       "6                     audit_cohorts        new   \n",
       "\n",
       "                        requester [person] input  \n",
       "0  The person seeking to submit a request.   NaN  \n",
       "1                                      NaN   NaN  \n",
       "2                                      NaN   NaN  \n",
       "3                                      NaN   NaN  \n",
       "4                                      NaN   NaN  \n",
       "5                                      NaN   NaN  \n",
       "6                                      NaN   NaN  "
      ]
     },
     "execution_count": 8,
     "metadata": {},
     "output_type": "execute_result"
    }
   ],
   "source": [
    "# Find invalid requirements\n",
    "reqs = registry.view([\"requirement\", \"status\", \"task\", \"input\"])\n",
    "is_valid = reqs[\"status\"].isin([\"closed\", \"removed\"])\n",
    "invalid_reqs = reqs.loc[~is_valid]\n",
    "invalid_reqs"
   ]
  },
  {
   "cell_type": "code",
   "execution_count": 62,
   "id": "ec4b2c73",
   "metadata": {},
   "outputs": [
    {
     "data": {
      "text/html": [
       "<div>\n",
       "<style scoped>\n",
       "    .dataframe tbody tr th:only-of-type {\n",
       "        vertical-align: middle;\n",
       "    }\n",
       "\n",
       "    .dataframe tbody tr th {\n",
       "        vertical-align: top;\n",
       "    }\n",
       "\n",
       "    .dataframe thead th {\n",
       "        text-align: right;\n",
       "    }\n",
       "</style>\n",
       "<table border=\"1\" class=\"dataframe\">\n",
       "  <thead>\n",
       "    <tr style=\"text-align: right;\">\n",
       "      <th></th>\n",
       "      <th>entity</th>\n",
       "      <th>status</th>\n",
       "    </tr>\n",
       "  </thead>\n",
       "  <tbody>\n",
       "    <tr>\n",
       "      <th>0</th>\n",
       "      <td>basic_report_test</td>\n",
       "      <td>new</td>\n",
       "    </tr>\n",
       "    <tr>\n",
       "      <th>1</th>\n",
       "      <td>no_irb_test</td>\n",
       "      <td>new</td>\n",
       "    </tr>\n",
       "    <tr>\n",
       "      <th>2</th>\n",
       "      <td>updated_report_test</td>\n",
       "      <td>new</td>\n",
       "    </tr>\n",
       "    <tr>\n",
       "      <th>3</th>\n",
       "      <td>updated_report_new_analyst_test</td>\n",
       "      <td>new</td>\n",
       "    </tr>\n",
       "  </tbody>\n",
       "</table>\n",
       "</div>"
      ],
      "text/plain": [
       "                            entity status\n",
       "0                basic_report_test    new\n",
       "1                      no_irb_test    new\n",
       "2              updated_report_test    new\n",
       "3  updated_report_new_analyst_test    new"
      ]
     },
     "execution_count": 62,
     "metadata": {},
     "output_type": "execute_result"
    }
   ],
   "source": [
    "# Find invalid testcases\n",
    "registry.view([\"testcase\", \"status\"])"
   ]
  },
  {
   "cell_type": "code",
   "execution_count": null,
   "id": "ac6a74ed",
   "metadata": {},
   "outputs": [],
   "source": []
  }
 ],
 "metadata": {
  "kernelspec": {
   "display_name": "iac-sketch",
   "language": "python",
   "name": "python3"
  },
  "language_info": {
   "codemirror_mode": {
    "name": "ipython",
    "version": 3
   },
   "file_extension": ".py",
   "mimetype": "text/x-python",
   "name": "python",
   "nbconvert_exporter": "python",
   "pygments_lexer": "ipython3",
   "version": "3.13.2"
  }
 },
 "nbformat": 4,
 "nbformat_minor": 5
}
