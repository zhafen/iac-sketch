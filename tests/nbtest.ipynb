{
 "cells": [
  {
   "cell_type": "code",
   "execution_count": null,
   "id": "b360b827",
   "metadata": {},
   "outputs": [],
   "source": [
    "import pandas as pd\n",
    "import networkx as nx"
   ]
  },
  {
   "cell_type": "code",
   "execution_count": null,
   "id": "5c5aebc7",
   "metadata": {},
   "outputs": [],
   "source": [
    "from iac_sketch import data, etl, sketch, transform"
   ]
  },
  {
   "cell_type": "code",
   "execution_count": null,
   "id": "ac98ff0e",
   "metadata": {},
   "outputs": [],
   "source": [
    "# DEBUG\n",
    "import importlib\n",
    "\n",
    "importlib.reload(data)\n",
    "importlib.reload(etl)\n",
    "importlib.reload(transform)\n",
    "importlib.reload(sketch)\n",
    "# architect = sketch.Architect(\"../public/components\")\n",
    "# registry = architect.parse()"
   ]
  },
  {
   "cell_type": "code",
   "execution_count": null,
   "id": "a9cb4793",
   "metadata": {},
   "outputs": [],
   "source": [
    "import pandera.pandas as pa"
   ]
  },
  {
   "cell_type": "code",
   "execution_count": null,
   "id": "e55a921c",
   "metadata": {},
   "outputs": [],
   "source": [
    "extract_sys = etl.ExtractSystem()\n",
    "registry = extract_sys.extract_entities(\"../public/components/*yaml\")\n",
    "registry"
   ]
  },
  {
   "cell_type": "code",
   "execution_count": null,
   "id": "cd98f50a",
   "metadata": {},
   "outputs": [],
   "source": [
    "transform_sys = etl.TransformSystem()\n",
    "registry = transform_sys.apply_preprocess_transforms(registry)"
   ]
  },
  {
   "cell_type": "code",
   "execution_count": null,
   "id": "2903288e",
   "metadata": {},
   "outputs": [],
   "source": [
    "registry[\"component\"]"
   ]
  },
  {
   "cell_type": "code",
   "execution_count": null,
   "id": "0f445464",
   "metadata": {},
   "outputs": [],
   "source": [
    "registry[\"metadata\"]"
   ]
  },
  {
   "cell_type": "code",
   "execution_count": null,
   "id": "ea824c4b",
   "metadata": {},
   "outputs": [],
   "source": [
    "# Create a directed graph from the DataFrame\n",
    "graph = nx.from_pandas_edgelist(\n",
    "    registry[\"link\"],\n",
    "    source=\"source\",\n",
    "    target=\"target\",\n",
    "    edge_key=\"link_type\",\n",
    "    create_using=nx.DiGraph,\n",
    ")\n",
    "\n",
    "# Visualize the graph\n",
    "nx.draw(graph, with_labels=True)"
   ]
  },
  {
   "cell_type": "code",
   "execution_count": null,
   "id": "3886c192",
   "metadata": {},
   "outputs": [],
   "source": [
    "graph.add_nodes_from(registry[\"metadata\"][\"entity\"].values)"
   ]
  },
  {
   "cell_type": "code",
   "execution_count": null,
   "id": "c34e0022",
   "metadata": {},
   "outputs": [],
   "source": [
    "connected_components = [_ for _ in nx.connected_components(graph.to_undirected())]\n",
    "metadata = registry[\"metadata\"].set_index(\"entity\")\n",
    "metadata[\"connected_component_category\"] = -1\n",
    "for i, comps in enumerate(connected_components):\n",
    "    metadata.loc[list(comps), \"connected_component_category\"] = i"
   ]
  },
  {
   "cell_type": "code",
   "execution_count": null,
   "id": "4f36f99f",
   "metadata": {},
   "outputs": [],
   "source": [
    "pair_connectivity = nx.all_pairs_node_connectivity(graph)"
   ]
  },
  {
   "cell_type": "code",
   "execution_count": null,
   "id": "35d124af",
   "metadata": {},
   "outputs": [],
   "source": [
    "sum(pair_connectivity[\"accept_request\"].values()) > 0"
   ]
  },
  {
   "cell_type": "code",
   "execution_count": null,
   "id": "49780048",
   "metadata": {},
   "outputs": [],
   "source": [
    "# Find invalid requirements\n",
    "reqs = registry.view([\"requirement\", \"status\", \"task\", \"input\"])\n",
    "is_valid = reqs[\"status\"].isin([\"closed\", \"removed\"])\n",
    "invalid_reqs = reqs.loc[~is_valid]\n",
    "invalid_reqs"
   ]
  },
  {
   "cell_type": "code",
   "execution_count": null,
   "id": "ec4b2c73",
   "metadata": {},
   "outputs": [],
   "source": [
    "# Find invalid testcases\n",
    "registry.view([\"testcase\", \"status\"])"
   ]
  },
  {
   "cell_type": "code",
   "execution_count": null,
   "id": "9bb0927a",
   "metadata": {},
   "outputs": [],
   "source": [
    "import base64\n",
    "import io, requests\n",
    "from IPython.display import Image, display\n",
    "from PIL import Image as im\n",
    "import matplotlib.pyplot as plt"
   ]
  },
  {
   "cell_type": "code",
   "execution_count": null,
   "id": "c9a98519",
   "metadata": {},
   "outputs": [],
   "source": [
    "def mm(graph):\n",
    "    graphbytes = graph.encode(\"utf8\")\n",
    "    base64_bytes = base64.urlsafe_b64encode(graphbytes)\n",
    "    base64_string = base64_bytes.decode(\"ascii\")\n",
    "    img = im.open(\n",
    "        io.BytesIO(requests.get(\"https://mermaid.ink/img/\" + base64_string).content)\n",
    "    )\n",
    "    plt.imshow(img)\n",
    "    plt.axis(\"off\")  # allow to hide axis"
   ]
  },
  {
   "cell_type": "code",
   "execution_count": null,
   "id": "01bd53ba",
   "metadata": {},
   "outputs": [],
   "source": [
    "graph = \"\"\"\n",
    "graph LR;\n",
    "    A--> B & C & D\n",
    "    B--> A & E\n",
    "    C--> A & E\n",
    "    D--> A\n",
    "    E--> B & C & D\n",
    "\"\"\""
   ]
  },
  {
   "cell_type": "code",
   "execution_count": null,
   "id": "508777ce",
   "metadata": {},
   "outputs": [],
   "source": []
  },
  {
   "cell_type": "code",
   "execution_count": null,
   "id": "352366e6",
   "metadata": {},
   "outputs": [],
   "source": [
    "graphbytes = graph.encode(\"utf8\")\n",
    "base64_bytes = base64.urlsafe_b64encode(graphbytes)\n",
    "base64_string = base64_bytes.decode(\"ascii\")\n",
    "result = requests.get(\"https://mermaid.ink/img/\" + base64_string).content\n",
    "parsed_result = io.BytesIO(result)\n",
    "img = im.open(parsed_result)\n",
    "img"
   ]
  },
  {
   "cell_type": "code",
   "execution_count": null,
   "id": "ac6a74ed",
   "metadata": {},
   "outputs": [],
   "source": [
    "mm(\n",
    "    \"\"\"\n",
    "flowchart LR;\n",
    "    A--> B & C & D\n",
    "    B--> A & E\n",
    "    C--> A & E\n",
    "    D--> A & E\n",
    "    E--> B & C & D\n",
    "\"\"\"\n",
    ")"
   ]
  },
  {
   "cell_type": "code",
   "execution_count": null,
   "id": "eb3535dc",
   "metadata": {},
   "outputs": [],
   "source": []
  }
 ],
 "metadata": {
  "kernelspec": {
   "display_name": ".venv",
   "language": "python",
   "name": "python3"
  },
  "language_info": {
   "codemirror_mode": {
    "name": "ipython",
    "version": 3
   },
   "file_extension": ".py",
   "mimetype": "text/x-python",
   "name": "python",
   "nbconvert_exporter": "python",
   "pygments_lexer": "ipython3",
   "version": "3.13.1"
  }
 },
 "nbformat": 4,
 "nbformat_minor": 5
}
