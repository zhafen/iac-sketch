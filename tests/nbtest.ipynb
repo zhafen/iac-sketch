{
 "cells": [
  {
   "cell_type": "code",
   "execution_count": null,
   "id": "266a5975",
   "metadata": {},
   "outputs": [],
   "source": [
    "import os"
   ]
  },
  {
   "cell_type": "code",
   "execution_count": 1,
   "id": "b360b827",
   "metadata": {},
   "outputs": [],
   "source": [
    "import pandas as pd\n",
    "import networkx as nx"
   ]
  },
  {
   "cell_type": "code",
   "execution_count": 2,
   "id": "5c5aebc7",
   "metadata": {},
   "outputs": [],
   "source": [
    "from iac_sketch import data, etl, sketch, transform\n",
    "from iac_sketch.extract import extract_python, extract_yaml\n",
    "from iac_sketch import system_tests"
   ]
  },
  {
   "cell_type": "code",
   "execution_count": 3,
   "id": "ac98ff0e",
   "metadata": {},
   "outputs": [
    {
     "data": {
      "text/plain": [
       "<module 'iac_sketch.sketch' from '/Users/zhafen/repos/iac-sketch/iac_sketch/sketch.py'>"
      ]
     },
     "execution_count": 3,
     "metadata": {},
     "output_type": "execute_result"
    }
   ],
   "source": [
    "# DEBUG\n",
    "import importlib\n",
    "\n",
    "importlib.reload(extract_yaml)\n",
    "importlib.reload(extract_python)\n",
    "importlib.reload(etl)\n",
    "importlib.reload(data)\n",
    "importlib.reload(transform)\n",
    "importlib.reload(system_tests)\n",
    "importlib.reload(sketch)"
   ]
  },
  {
   "cell_type": "code",
   "execution_count": null,
   "id": "686a2af6",
   "metadata": {},
   "outputs": [
    {
     "name": "stdout",
     "output_type": "stream",
     "text": [
      "entity: iac_sketch/system_tests.test_designed\n",
      "requirement: fully_designed\n",
      "priority: 0.9\n",
      "description:\n",
      "    Each [requirement] entity has at least one [satisfies] entity or one [child]\n",
      "    entity.\n",
      "test_passed: False\n",
      "failed_components:\n"
     ]
    },
    {
     "data": {
      "text/html": [
       "<div>\n",
       "<style scoped>\n",
       "    .dataframe tbody tr th:only-of-type {\n",
       "        vertical-align: middle;\n",
       "    }\n",
       "\n",
       "    .dataframe tbody tr th {\n",
       "        vertical-align: top;\n",
       "    }\n",
       "\n",
       "    .dataframe thead th {\n",
       "        text-align: right;\n",
       "    }\n",
       "</style>\n",
       "<table border=\"1\" class=\"dataframe\">\n",
       "  <thead>\n",
       "    <tr style=\"text-align: right;\">\n",
       "      <th></th>\n",
       "      <th>entity</th>\n",
       "      <th>comp_key</th>\n",
       "      <th>priority</th>\n",
       "      <th>value</th>\n",
       "      <th>link.link_type</th>\n",
       "      <th>link.source</th>\n",
       "      <th>link.target</th>\n",
       "      <th>status.comp_key</th>\n",
       "      <th>status.value</th>\n",
       "    </tr>\n",
       "  </thead>\n",
       "  <tbody>\n",
       "    <tr>\n",
       "      <th>1</th>\n",
       "      <td>documents_system_architecture</td>\n",
       "      <td>1</td>\n",
       "      <td>0.5</td>\n",
       "      <td>iac_sketch_infrastructure</td>\n",
       "      <td>NaN</td>\n",
       "      <td>NaN</td>\n",
       "      <td>NaN</td>\n",
       "      <td>NaN</td>\n",
       "      <td>NaN</td>\n",
       "    </tr>\n",
       "    <tr>\n",
       "      <th>4</th>\n",
       "      <td>facilitates_a_source_of_truth</td>\n",
       "      <td>0</td>\n",
       "      <td>0.5</td>\n",
       "      <td>iac_sketch_infrastructure</td>\n",
       "      <td>NaN</td>\n",
       "      <td>NaN</td>\n",
       "      <td>NaN</td>\n",
       "      <td>NaN</td>\n",
       "      <td>NaN</td>\n",
       "    </tr>\n",
       "    <tr>\n",
       "      <th>18</th>\n",
       "      <td>records_system_architecture</td>\n",
       "      <td>0</td>\n",
       "      <td>0.5</td>\n",
       "      <td>iac_sketch_infrastructure</td>\n",
       "      <td>NaN</td>\n",
       "      <td>NaN</td>\n",
       "      <td>NaN</td>\n",
       "      <td>NaN</td>\n",
       "      <td>NaN</td>\n",
       "    </tr>\n",
       "    <tr>\n",
       "      <th>19</th>\n",
       "      <td>validates_system_architecture</td>\n",
       "      <td>1</td>\n",
       "      <td>0.5</td>\n",
       "      <td>iac_sketch_infrastructure</td>\n",
       "      <td>NaN</td>\n",
       "      <td>NaN</td>\n",
       "      <td>NaN</td>\n",
       "      <td>NaN</td>\n",
       "      <td>NaN</td>\n",
       "    </tr>\n",
       "  </tbody>\n",
       "</table>\n",
       "</div>"
      ],
      "text/plain": [
       "                           entity comp_key  priority  \\\n",
       "1   documents_system_architecture        1       0.5   \n",
       "4   facilitates_a_source_of_truth        0       0.5   \n",
       "18    records_system_architecture        0       0.5   \n",
       "19  validates_system_architecture        1       0.5   \n",
       "\n",
       "                        value link.link_type link.source link.target  \\\n",
       "1   iac_sketch_infrastructure            NaN         NaN         NaN   \n",
       "4   iac_sketch_infrastructure            NaN         NaN         NaN   \n",
       "18  iac_sketch_infrastructure            NaN         NaN         NaN   \n",
       "19  iac_sketch_infrastructure            NaN         NaN         NaN   \n",
       "\n",
       "   status.comp_key status.value  \n",
       "1              NaN          NaN  \n",
       "4              NaN          NaN  \n",
       "18             NaN          NaN  \n",
       "19             NaN          NaN  "
      ]
     },
     "metadata": {},
     "output_type": "display_data"
    },
    {
     "name": "stdout",
     "output_type": "stream",
     "text": [
      "--------------------------------------------------------------------------------\n",
      "\n",
      "entity: iac_sketch/system_tests.test_defined\n",
      "requirement: fully_defined\n",
      "priority: 0.8\n",
      "description:\n",
      "    All [compdef] entities are defined and valid.\n",
      "test_passed: True\n",
      "--------------------------------------------------------------------------------\n",
      "\n",
      "entity: iac_sketch/system_tests.test_implemented\n",
      "requirement: fully_implemented\n",
      "priority: 0.7\n",
      "description:\n",
      "    Meets the same criteria as \"fully_designed\" and all [satisfies] entities\n",
      "    either have a test that passes when executed or have a status of \"in\n",
      "    production\".\n",
      "test_passed: False\n",
      "failed_components:\n"
     ]
    },
    {
     "data": {
      "text/html": [
       "<div>\n",
       "<style scoped>\n",
       "    .dataframe tbody tr th:only-of-type {\n",
       "        vertical-align: middle;\n",
       "    }\n",
       "\n",
       "    .dataframe tbody tr th {\n",
       "        vertical-align: top;\n",
       "    }\n",
       "\n",
       "    .dataframe thead th {\n",
       "        text-align: right;\n",
       "    }\n",
       "</style>\n",
       "<table border=\"1\" class=\"dataframe\">\n",
       "  <thead>\n",
       "    <tr style=\"text-align: right;\">\n",
       "      <th></th>\n",
       "      <th>entity</th>\n",
       "      <th>comp_key</th>\n",
       "      <th>priority</th>\n",
       "      <th>value</th>\n",
       "      <th>link.link_type</th>\n",
       "      <th>link.source</th>\n",
       "      <th>link.target</th>\n",
       "      <th>status.comp_key</th>\n",
       "      <th>status.value</th>\n",
       "    </tr>\n",
       "  </thead>\n",
       "  <tbody>\n",
       "    <tr>\n",
       "      <th>0</th>\n",
       "      <td>can_incorporate_poorly_formed_components</td>\n",
       "      <td>1</td>\n",
       "      <td>0.5</td>\n",
       "      <td>iac_sketch_infrastructure</td>\n",
       "      <td>satisfies</td>\n",
       "      <td>test_can_incorporate_poorly_formed_components</td>\n",
       "      <td>can_incorporate_poorly_formed_components</td>\n",
       "      <td>NaN</td>\n",
       "      <td>NaN</td>\n",
       "    </tr>\n",
       "    <tr>\n",
       "      <th>1</th>\n",
       "      <td>documents_system_architecture</td>\n",
       "      <td>1</td>\n",
       "      <td>0.5</td>\n",
       "      <td>iac_sketch_infrastructure</td>\n",
       "      <td>NaN</td>\n",
       "      <td>NaN</td>\n",
       "      <td>NaN</td>\n",
       "      <td>NaN</td>\n",
       "      <td>NaN</td>\n",
       "    </tr>\n",
       "    <tr>\n",
       "      <th>4</th>\n",
       "      <td>facilitates_a_source_of_truth</td>\n",
       "      <td>0</td>\n",
       "      <td>0.5</td>\n",
       "      <td>iac_sketch_infrastructure</td>\n",
       "      <td>NaN</td>\n",
       "      <td>NaN</td>\n",
       "      <td>NaN</td>\n",
       "      <td>NaN</td>\n",
       "      <td>NaN</td>\n",
       "    </tr>\n",
       "    <tr>\n",
       "      <th>6</th>\n",
       "      <td>fully_connected</td>\n",
       "      <td>1</td>\n",
       "      <td>0.4</td>\n",
       "      <td>NaN</td>\n",
       "      <td>satisfies</td>\n",
       "      <td>iac_sketch/system_tests.test_connected</td>\n",
       "      <td>fully_connected</td>\n",
       "      <td>NaN</td>\n",
       "      <td>NaN</td>\n",
       "    </tr>\n",
       "    <tr>\n",
       "      <th>7</th>\n",
       "      <td>fully_defined</td>\n",
       "      <td>1</td>\n",
       "      <td>0.8</td>\n",
       "      <td>NaN</td>\n",
       "      <td>satisfies</td>\n",
       "      <td>iac_sketch/system_tests.test_defined</td>\n",
       "      <td>fully_defined</td>\n",
       "      <td>NaN</td>\n",
       "      <td>NaN</td>\n",
       "    </tr>\n",
       "    <tr>\n",
       "      <th>8</th>\n",
       "      <td>fully_designed</td>\n",
       "      <td>1</td>\n",
       "      <td>0.9</td>\n",
       "      <td>NaN</td>\n",
       "      <td>satisfies</td>\n",
       "      <td>iac_sketch/system_tests.test_designed</td>\n",
       "      <td>fully_designed</td>\n",
       "      <td>NaN</td>\n",
       "      <td>NaN</td>\n",
       "    </tr>\n",
       "    <tr>\n",
       "      <th>9</th>\n",
       "      <td>fully_implemented</td>\n",
       "      <td>1</td>\n",
       "      <td>0.7</td>\n",
       "      <td>NaN</td>\n",
       "      <td>satisfies</td>\n",
       "      <td>iac_sketch/system_tests.test_implemented</td>\n",
       "      <td>fully_implemented</td>\n",
       "      <td>NaN</td>\n",
       "      <td>NaN</td>\n",
       "    </tr>\n",
       "    <tr>\n",
       "      <th>17</th>\n",
       "      <td>no_forbidden_components</td>\n",
       "      <td>1</td>\n",
       "      <td>0.5</td>\n",
       "      <td>NaN</td>\n",
       "      <td>satisfies</td>\n",
       "      <td>iac_sketch/system_tests.test_no_forbidden_comp...</td>\n",
       "      <td>no_forbidden_components</td>\n",
       "      <td>NaN</td>\n",
       "      <td>NaN</td>\n",
       "    </tr>\n",
       "    <tr>\n",
       "      <th>18</th>\n",
       "      <td>records_system_architecture</td>\n",
       "      <td>0</td>\n",
       "      <td>0.5</td>\n",
       "      <td>iac_sketch_infrastructure</td>\n",
       "      <td>NaN</td>\n",
       "      <td>NaN</td>\n",
       "      <td>NaN</td>\n",
       "      <td>NaN</td>\n",
       "      <td>NaN</td>\n",
       "    </tr>\n",
       "    <tr>\n",
       "      <th>19</th>\n",
       "      <td>validates_system_architecture</td>\n",
       "      <td>1</td>\n",
       "      <td>0.5</td>\n",
       "      <td>iac_sketch_infrastructure</td>\n",
       "      <td>NaN</td>\n",
       "      <td>NaN</td>\n",
       "      <td>NaN</td>\n",
       "      <td>NaN</td>\n",
       "      <td>NaN</td>\n",
       "    </tr>\n",
       "  </tbody>\n",
       "</table>\n",
       "</div>"
      ],
      "text/plain": [
       "                                      entity comp_key  priority  \\\n",
       "0   can_incorporate_poorly_formed_components        1       0.5   \n",
       "1              documents_system_architecture        1       0.5   \n",
       "4              facilitates_a_source_of_truth        0       0.5   \n",
       "6                            fully_connected        1       0.4   \n",
       "7                              fully_defined        1       0.8   \n",
       "8                             fully_designed        1       0.9   \n",
       "9                          fully_implemented        1       0.7   \n",
       "17                   no_forbidden_components        1       0.5   \n",
       "18               records_system_architecture        0       0.5   \n",
       "19             validates_system_architecture        1       0.5   \n",
       "\n",
       "                        value link.link_type  \\\n",
       "0   iac_sketch_infrastructure      satisfies   \n",
       "1   iac_sketch_infrastructure            NaN   \n",
       "4   iac_sketch_infrastructure            NaN   \n",
       "6                         NaN      satisfies   \n",
       "7                         NaN      satisfies   \n",
       "8                         NaN      satisfies   \n",
       "9                         NaN      satisfies   \n",
       "17                        NaN      satisfies   \n",
       "18  iac_sketch_infrastructure            NaN   \n",
       "19  iac_sketch_infrastructure            NaN   \n",
       "\n",
       "                                          link.source  \\\n",
       "0       test_can_incorporate_poorly_formed_components   \n",
       "1                                                 NaN   \n",
       "4                                                 NaN   \n",
       "6              iac_sketch/system_tests.test_connected   \n",
       "7                iac_sketch/system_tests.test_defined   \n",
       "8               iac_sketch/system_tests.test_designed   \n",
       "9            iac_sketch/system_tests.test_implemented   \n",
       "17  iac_sketch/system_tests.test_no_forbidden_comp...   \n",
       "18                                                NaN   \n",
       "19                                                NaN   \n",
       "\n",
       "                                 link.target status.comp_key status.value  \n",
       "0   can_incorporate_poorly_formed_components             NaN          NaN  \n",
       "1                                        NaN             NaN          NaN  \n",
       "4                                        NaN             NaN          NaN  \n",
       "6                            fully_connected             NaN          NaN  \n",
       "7                              fully_defined             NaN          NaN  \n",
       "8                             fully_designed             NaN          NaN  \n",
       "9                          fully_implemented             NaN          NaN  \n",
       "17                   no_forbidden_components             NaN          NaN  \n",
       "18                                       NaN             NaN          NaN  \n",
       "19                                       NaN             NaN          NaN  "
      ]
     },
     "metadata": {},
     "output_type": "display_data"
    },
    {
     "name": "stdout",
     "output_type": "stream",
     "text": [
      "--------------------------------------------------------------------------------\n",
      "\n",
      "entity: iac_sketch/system_tests.test_no_forbidden_components\n",
      "requirement: no_forbidden_components\n",
      "priority: 0.5\n",
      "description:\n",
      "    No [error], [todo], or other \"forbidden\" components.\n",
      "test_passed: False\n",
      "failed_components:\n"
     ]
    },
    {
     "data": {
      "text/html": [
       "<div>\n",
       "<style scoped>\n",
       "    .dataframe tbody tr th:only-of-type {\n",
       "        vertical-align: middle;\n",
       "    }\n",
       "\n",
       "    .dataframe tbody tr th {\n",
       "        vertical-align: top;\n",
       "    }\n",
       "\n",
       "    .dataframe thead th {\n",
       "        text-align: right;\n",
       "    }\n",
       "</style>\n",
       "<table border=\"1\" class=\"dataframe\">\n",
       "  <thead>\n",
       "    <tr style=\"text-align: right;\">\n",
       "      <th></th>\n",
       "      <th></th>\n",
       "      <th>component_type</th>\n",
       "    </tr>\n",
       "    <tr>\n",
       "      <th>entity</th>\n",
       "      <th>comp_key</th>\n",
       "      <th></th>\n",
       "    </tr>\n",
       "  </thead>\n",
       "  <tbody>\n",
       "    <tr>\n",
       "      <th>FunctionDef</th>\n",
       "      <th>3</th>\n",
       "      <td>todo</td>\n",
       "    </tr>\n",
       "    <tr>\n",
       "      <th>Module</th>\n",
       "      <th>2</th>\n",
       "      <td>todo</td>\n",
       "    </tr>\n",
       "    <tr>\n",
       "      <th>child_component</th>\n",
       "      <th>1</th>\n",
       "      <td>todo</td>\n",
       "    </tr>\n",
       "    <tr>\n",
       "      <th>iac_sketch/etl.TransformSystem.build_graph_from_links</th>\n",
       "      <th>0</th>\n",
       "      <td>todo</td>\n",
       "    </tr>\n",
       "    <tr>\n",
       "      <th>iac_sketch/sketch.Architect.perform_registry_etl</th>\n",
       "      <th>2</th>\n",
       "      <td>todo</td>\n",
       "    </tr>\n",
       "    <tr>\n",
       "      <th rowspan=\"3\" valign=\"top\">iac_sketch/sketch.Architect.validate_registry</th>\n",
       "      <th>2</th>\n",
       "      <td>todo</td>\n",
       "    </tr>\n",
       "    <tr>\n",
       "      <th>3</th>\n",
       "      <td>todo</td>\n",
       "    </tr>\n",
       "    <tr>\n",
       "      <th>4</th>\n",
       "      <td>todo</td>\n",
       "    </tr>\n",
       "    <tr>\n",
       "      <th>iac_sketch/system_tests.test_implemented</th>\n",
       "      <th>2</th>\n",
       "      <td>todo</td>\n",
       "    </tr>\n",
       "    <tr>\n",
       "      <th>iac_sketch/system_tests.test_no_forbidden_components</th>\n",
       "      <th>2</th>\n",
       "      <td>todo</td>\n",
       "    </tr>\n",
       "    <tr>\n",
       "      <th>iac_sketch/transform.ComponentValidator</th>\n",
       "      <th>0</th>\n",
       "      <td>todo</td>\n",
       "    </tr>\n",
       "    <tr>\n",
       "      <th>parent</th>\n",
       "      <th>4</th>\n",
       "      <td>todo</td>\n",
       "    </tr>\n",
       "  </tbody>\n",
       "</table>\n",
       "</div>"
      ],
      "text/plain": [
       "                                                            component_type\n",
       "entity                                             comp_key               \n",
       "FunctionDef                                        3                  todo\n",
       "Module                                             2                  todo\n",
       "child_component                                    1                  todo\n",
       "iac_sketch/etl.TransformSystem.build_graph_from... 0                  todo\n",
       "iac_sketch/sketch.Architect.perform_registry_etl   2                  todo\n",
       "iac_sketch/sketch.Architect.validate_registry      2                  todo\n",
       "                                                   3                  todo\n",
       "                                                   4                  todo\n",
       "iac_sketch/system_tests.test_implemented           2                  todo\n",
       "iac_sketch/system_tests.test_no_forbidden_compo... 2                  todo\n",
       "iac_sketch/transform.ComponentValidator            0                  todo\n",
       "parent                                             4                  todo"
      ]
     },
     "metadata": {},
     "output_type": "display_data"
    },
    {
     "name": "stdout",
     "output_type": "stream",
     "text": [
      "--------------------------------------------------------------------------------\n",
      "\n",
      "entity: iac_sketch/system_tests.test_connected\n",
      "requirement: fully_connected\n",
      "priority: 0.4\n",
      "description:\n",
      "    The network composed of [link] components and entities as nodes is fully\n",
      "    connected.\n",
      "test_passed: False\n",
      "failed_components:\n"
     ]
    },
    {
     "data": {
      "text/html": [
       "<div>\n",
       "<style scoped>\n",
       "    .dataframe tbody tr th:only-of-type {\n",
       "        vertical-align: middle;\n",
       "    }\n",
       "\n",
       "    .dataframe tbody tr th {\n",
       "        vertical-align: top;\n",
       "    }\n",
       "\n",
       "    .dataframe thead th {\n",
       "        text-align: right;\n",
       "    }\n",
       "</style>\n",
       "<table border=\"1\" class=\"dataframe\">\n",
       "  <thead>\n",
       "    <tr style=\"text-align: right;\">\n",
       "      <th></th>\n",
       "      <th>connected_component_group</th>\n",
       "      <th>comp_key</th>\n",
       "    </tr>\n",
       "    <tr>\n",
       "      <th>entity</th>\n",
       "      <th></th>\n",
       "      <th></th>\n",
       "    </tr>\n",
       "  </thead>\n",
       "  <tbody>\n",
       "    <tr>\n",
       "      <th>Call</th>\n",
       "      <td>12</td>\n",
       "      <td>5</td>\n",
       "    </tr>\n",
       "    <tr>\n",
       "      <th>ClassDef</th>\n",
       "      <td>13</td>\n",
       "      <td>5</td>\n",
       "    </tr>\n",
       "    <tr>\n",
       "      <th>FunctionDef</th>\n",
       "      <td>14</td>\n",
       "      <td>6</td>\n",
       "    </tr>\n",
       "    <tr>\n",
       "      <th>Import</th>\n",
       "      <td>15</td>\n",
       "      <td>5</td>\n",
       "    </tr>\n",
       "    <tr>\n",
       "      <th>ImportFrom</th>\n",
       "      <td>16</td>\n",
       "      <td>5</td>\n",
       "    </tr>\n",
       "    <tr>\n",
       "      <th>...</th>\n",
       "      <td>...</td>\n",
       "      <td>...</td>\n",
       "    </tr>\n",
       "    <tr>\n",
       "      <th>test_can_incorporate_poorly_formed_components</th>\n",
       "      <td>2</td>\n",
       "      <td>5</td>\n",
       "    </tr>\n",
       "    <tr>\n",
       "      <th>todo</th>\n",
       "      <td>643</td>\n",
       "      <td>5</td>\n",
       "    </tr>\n",
       "    <tr>\n",
       "      <th>url</th>\n",
       "      <td>644</td>\n",
       "      <td>5</td>\n",
       "    </tr>\n",
       "    <tr>\n",
       "      <th>uses_consistent_ecs_terminology</th>\n",
       "      <td>3</td>\n",
       "      <td>5</td>\n",
       "    </tr>\n",
       "    <tr>\n",
       "      <th>validates_system_architecture</th>\n",
       "      <td>2</td>\n",
       "      <td>5</td>\n",
       "    </tr>\n",
       "  </tbody>\n",
       "</table>\n",
       "<p>679 rows × 2 columns</p>\n",
       "</div>"
      ],
      "text/plain": [
       "                                               connected_component_group  \\\n",
       "entity                                                                     \n",
       "Call                                                                  12   \n",
       "ClassDef                                                              13   \n",
       "FunctionDef                                                           14   \n",
       "Import                                                                15   \n",
       "ImportFrom                                                            16   \n",
       "...                                                                  ...   \n",
       "test_can_incorporate_poorly_formed_components                          2   \n",
       "todo                                                                 643   \n",
       "url                                                                  644   \n",
       "uses_consistent_ecs_terminology                                        3   \n",
       "validates_system_architecture                                          2   \n",
       "\n",
       "                                              comp_key  \n",
       "entity                                                  \n",
       "Call                                                 5  \n",
       "ClassDef                                             5  \n",
       "FunctionDef                                          6  \n",
       "Import                                               5  \n",
       "ImportFrom                                           5  \n",
       "...                                                ...  \n",
       "test_can_incorporate_poorly_formed_components        5  \n",
       "todo                                                 5  \n",
       "url                                                  5  \n",
       "uses_consistent_ecs_terminology                      5  \n",
       "validates_system_architecture                        5  \n",
       "\n",
       "[679 rows x 2 columns]"
      ]
     },
     "metadata": {},
     "output_type": "display_data"
    },
    {
     "name": "stdout",
     "output_type": "stream",
     "text": [
      "--------------------------------------------------------------------------------\n",
      "\n"
     ]
    }
   ],
   "source": [
    "architect = sketch.Architect(root_dir=\"..\")\n",
    "registry = architect.perform_registry_etl()\n",
    "tests, test_results = architect.validate_registry(\n",
    "    test_kwargs={\n",
    "        \"iac_sketch/system_tests.test_designed\": {\n",
    "            \"allowed_infrastructure\": [\"iac_sketch_infrastructure\"],\n",
    "        },\n",
    "        \"iac_sketch/system_tests.test_implemented\": {\n",
    "            \"allowed_infrastructure\": [\"iac_sketch_infrastructure\"],\n",
    "        },\n",
    "    }\n",
    ")"
   ]
  },
  {
   "cell_type": "code",
   "execution_count": null,
   "id": "ea824c4b",
   "metadata": {},
   "outputs": [],
   "source": [
    "# Visualize the graph\n",
    "nx.draw(registry.graph, with_labels=True)"
   ]
  },
  {
   "cell_type": "code",
   "execution_count": null,
   "id": "5a7304c2",
   "metadata": {},
   "outputs": [],
   "source": [
    "import ast"
   ]
  },
  {
   "cell_type": "code",
   "execution_count": null,
   "id": "69a35d09",
   "metadata": {},
   "outputs": [],
   "source": [
    "with open(\"../iac_sketch/etl.py\", \"r\") as f:\n",
    "    source = f.read()\n",
    "tree = ast.parse(source)\n",
    "tree"
   ]
  },
  {
   "cell_type": "code",
   "execution_count": null,
   "id": "34d31dae",
   "metadata": {},
   "outputs": [],
   "source": [
    "list(ast.iter_child_nodes(tree))"
   ]
  },
  {
   "cell_type": "code",
   "execution_count": null,
   "id": "c4184b51",
   "metadata": {},
   "outputs": [],
   "source": [
    "import ast"
   ]
  },
  {
   "cell_type": "code",
   "execution_count": null,
   "id": "eb9e4bba",
   "metadata": {},
   "outputs": [],
   "source": [
    "node = ast.parse(\"\"\"\n",
    "def my_function(x) -> int:\n",
    "    return x + 1\n",
    "\n",
    "x = my_function(5)\n",
    "\"\"\")"
   ]
  },
  {
   "cell_type": "code",
   "execution_count": null,
   "id": "c3e10d1e",
   "metadata": {},
   "outputs": [],
   "source": [
    "nt = ast.NodeTransformer()\n",
    "nt.visit(node)"
   ]
  },
  {
   "cell_type": "code",
   "execution_count": null,
   "id": "b2c4142f",
   "metadata": {},
   "outputs": [],
   "source": [
    "nt = ast.NodeVisitor()\n",
    "nt.visit(node)"
   ]
  },
  {
   "cell_type": "code",
   "execution_count": null,
   "id": "b45823ca",
   "metadata": {},
   "outputs": [],
   "source": [
    "list(ast.iter_child_nodes(node.body[1]))"
   ]
  },
  {
   "cell_type": "code",
   "execution_count": null,
   "id": "a718dae1",
   "metadata": {},
   "outputs": [],
   "source": [
    "node.body[1].value.func.ctx"
   ]
  },
  {
   "cell_type": "code",
   "execution_count": null,
   "id": "7312b6fc",
   "metadata": {},
   "outputs": [],
   "source": [
    "node.body[0].__class__.__name__"
   ]
  },
  {
   "cell_type": "code",
   "execution_count": null,
   "id": "231f1a3d",
   "metadata": {},
   "outputs": [],
   "source": [
    "node.body[0]._fields"
   ]
  },
  {
   "cell_type": "code",
   "execution_count": null,
   "id": "81148f4b",
   "metadata": {},
   "outputs": [],
   "source": [
    "node.body[0].body[0].value._fields"
   ]
  },
  {
   "cell_type": "code",
   "execution_count": null,
   "id": "4a450f36",
   "metadata": {},
   "outputs": [],
   "source": [
    "visitor = ComponentVisitor()"
   ]
  },
  {
   "cell_type": "code",
   "execution_count": null,
   "id": "ae7226ee",
   "metadata": {},
   "outputs": [],
   "source": [
    "visitor.visit(tree)"
   ]
  },
  {
   "cell_type": "code",
   "execution_count": null,
   "id": "f86ab7d0",
   "metadata": {},
   "outputs": [],
   "source": [
    "pd.DataFrame(visitor.components)"
   ]
  },
  {
   "cell_type": "code",
   "execution_count": null,
   "id": "649bc81d",
   "metadata": {},
   "outputs": [],
   "source": [
    "type(tree.body[-1])"
   ]
  },
  {
   "cell_type": "code",
   "execution_count": null,
   "id": "c01f6ec4",
   "metadata": {},
   "outputs": [],
   "source": [
    "dict(ast.iter_fields(child_node))"
   ]
  },
  {
   "cell_type": "code",
   "execution_count": null,
   "id": "2e919220",
   "metadata": {},
   "outputs": [],
   "source": [
    "components = []\n",
    "for child_node in ast.iter_child_nodes(tree.body[-1]):\n",
    "    comp_i = {\n",
    "        \"component_type\": type(child_node).__name__\n",
    "    }\n",
    "    components.append(comp_i)\n",
    "\n",
    "components"
   ]
  },
  {
   "cell_type": "code",
   "execution_count": null,
   "id": "79e8ff08",
   "metadata": {},
   "outputs": [],
   "source": [
    "tree.body[-1].__dir__()"
   ]
  },
  {
   "cell_type": "code",
   "execution_count": null,
   "id": "afc61d6a",
   "metadata": {},
   "outputs": [],
   "source": []
  },
  {
   "cell_type": "code",
   "execution_count": null,
   "id": "836f8c24",
   "metadata": {},
   "outputs": [],
   "source": [
    "for item in ast.iter_fields(tree.body[-1].body[-1]):\n",
    "    print(item)"
   ]
  },
  {
   "cell_type": "code",
   "execution_count": null,
   "id": "eb91955e",
   "metadata": {},
   "outputs": [],
   "source": [
    "visitor.visit(tree.body[-1])"
   ]
  },
  {
   "cell_type": "code",
   "execution_count": null,
   "id": "ca2adbda",
   "metadata": {},
   "outputs": [],
   "source": [
    "ast.walk(visitor.visit(tree))"
   ]
  },
  {
   "cell_type": "code",
   "execution_count": null,
   "id": "cac97308",
   "metadata": {},
   "outputs": [],
   "source": [
    "for item in ast.walk(tree):\n",
    "    print(item)"
   ]
  },
  {
   "cell_type": "code",
   "execution_count": null,
   "id": "750796db",
   "metadata": {},
   "outputs": [],
   "source": [
    "visitor.visit_Constant(tree)"
   ]
  },
  {
   "cell_type": "code",
   "execution_count": null,
   "id": "2b642bac",
   "metadata": {},
   "outputs": [],
   "source": [
    "components = {}\n",
    "for field, value in ast.iter_fields(tree):\n",
    "    print(field, value)\n",
    "    if isinstance(value, str)"
   ]
  },
  {
   "cell_type": "code",
   "execution_count": null,
   "id": "0bf1ed17",
   "metadata": {},
   "outputs": [],
   "source": [
    "for item in ast.iter_child_nodes(transform_sys_tree):\n",
    "    print(item)"
   ]
  },
  {
   "cell_type": "code",
   "execution_count": null,
   "id": "61c1d237",
   "metadata": {},
   "outputs": [],
   "source": [
    "ast.get_source_segment(source, transform_sys_tree)"
   ]
  },
  {
   "cell_type": "code",
   "execution_count": null,
   "id": "2e2de8e6",
   "metadata": {},
   "outputs": [],
   "source": [
    "ast.get_docstring(transform_sys_tree)"
   ]
  },
  {
   "cell_type": "code",
   "execution_count": null,
   "id": "27060240",
   "metadata": {},
   "outputs": [],
   "source": [
    "isinstance(transform_sys_tree, ast.AST)"
   ]
  },
  {
   "cell_type": "code",
   "execution_count": null,
   "id": "704eab93",
   "metadata": {},
   "outputs": [],
   "source": []
  }
 ],
 "metadata": {
  "kernelspec": {
   "display_name": "iac-sketch",
   "language": "python",
   "name": "python3"
  },
  "language_info": {
   "codemirror_mode": {
    "name": "ipython",
    "version": 3
   },
   "file_extension": ".py",
   "mimetype": "text/x-python",
   "name": "python",
   "nbconvert_exporter": "python",
   "pygments_lexer": "ipython3",
   "version": "3.13.1"
  }
 },
 "nbformat": 4,
 "nbformat_minor": 5
}
