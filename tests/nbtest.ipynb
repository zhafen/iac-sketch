{
 "cells": [
  {
   "cell_type": "code",
   "execution_count": 12,
   "id": "266a5975",
   "metadata": {},
   "outputs": [],
   "source": [
    "import os"
   ]
  },
  {
   "cell_type": "code",
   "execution_count": 1,
   "id": "b360b827",
   "metadata": {},
   "outputs": [],
   "source": [
    "import pandas as pd\n",
    "import networkx as nx"
   ]
  },
  {
   "cell_type": "code",
   "execution_count": 2,
   "id": "5c5aebc7",
   "metadata": {},
   "outputs": [],
   "source": [
    "from iac_sketch import data, etl, sketch, transform, system_tests\n",
    "from iac_sketch.extract import extract_python, extract_yaml"
   ]
  },
  {
   "cell_type": "code",
   "execution_count": 26,
   "id": "ac98ff0e",
   "metadata": {},
   "outputs": [
    {
     "data": {
      "text/plain": [
       "<module 'iac_sketch.sketch' from '/Users/zhafen/repos/iac-sketch/iac_sketch/sketch.py'>"
      ]
     },
     "execution_count": 26,
     "metadata": {},
     "output_type": "execute_result"
    }
   ],
   "source": [
    "# DEBUG\n",
    "import importlib\n",
    "\n",
    "importlib.reload(extract_yaml)\n",
    "importlib.reload(extract_python)\n",
    "importlib.reload(etl)\n",
    "importlib.reload(data)\n",
    "importlib.reload(transform)\n",
    "importlib.reload(system_tests)\n",
    "importlib.reload(sketch)"
   ]
  },
  {
   "cell_type": "code",
   "execution_count": 28,
   "id": "686a2af6",
   "metadata": {},
   "outputs": [],
   "source": [
    "architect = sketch.Architect(root_dir=os.path.abspath(\"..\"))\n",
    "registry = architect.perform_registry_etl()\n",
    "tests, test_results = architect.validate_registry()"
   ]
  },
  {
   "cell_type": "code",
   "execution_count": 34,
   "id": "7a412982",
   "metadata": {},
   "outputs": [
    {
     "data": {
      "text/html": [
       "<div>\n",
       "<style scoped>\n",
       "    .dataframe tbody tr th:only-of-type {\n",
       "        vertical-align: middle;\n",
       "    }\n",
       "\n",
       "    .dataframe tbody tr th {\n",
       "        vertical-align: top;\n",
       "    }\n",
       "\n",
       "    .dataframe thead th {\n",
       "        text-align: right;\n",
       "    }\n",
       "</style>\n",
       "<table border=\"1\" class=\"dataframe\">\n",
       "  <thead>\n",
       "    <tr style=\"text-align: right;\">\n",
       "      <th></th>\n",
       "      <th>test.comp_key</th>\n",
       "      <th>test.value</th>\n",
       "      <th>FunctionDef.name</th>\n",
       "      <th>FunctionDef.args</th>\n",
       "      <th>FunctionDef.body</th>\n",
       "      <th>FunctionDef.decorator_list</th>\n",
       "      <th>FunctionDef.returns</th>\n",
       "      <th>FunctionDef.type_comment</th>\n",
       "      <th>FunctionDef.type_params</th>\n",
       "      <th>FunctionDef.docstring</th>\n",
       "    </tr>\n",
       "    <tr>\n",
       "      <th>entity</th>\n",
       "      <th></th>\n",
       "      <th></th>\n",
       "      <th></th>\n",
       "      <th></th>\n",
       "      <th></th>\n",
       "      <th></th>\n",
       "      <th></th>\n",
       "      <th></th>\n",
       "      <th></th>\n",
       "      <th></th>\n",
       "    </tr>\n",
       "  </thead>\n",
       "  <tbody>\n",
       "    <tr>\n",
       "      <th>iac_sketch.system_tests.test_connected</th>\n",
       "      <td>0</td>\n",
       "      <td>&lt;NA&gt;</td>\n",
       "      <td>NaN</td>\n",
       "      <td>NaN</td>\n",
       "      <td>NaN</td>\n",
       "      <td>NaN</td>\n",
       "      <td>NaN</td>\n",
       "      <td>NaN</td>\n",
       "      <td>NaN</td>\n",
       "      <td>NaN</td>\n",
       "    </tr>\n",
       "    <tr>\n",
       "      <th>iac_sketch.system_tests.test_defined</th>\n",
       "      <td>0</td>\n",
       "      <td>&lt;NA&gt;</td>\n",
       "      <td>NaN</td>\n",
       "      <td>NaN</td>\n",
       "      <td>NaN</td>\n",
       "      <td>NaN</td>\n",
       "      <td>NaN</td>\n",
       "      <td>NaN</td>\n",
       "      <td>NaN</td>\n",
       "      <td>NaN</td>\n",
       "    </tr>\n",
       "    <tr>\n",
       "      <th>iac_sketch.system_tests.test_designed</th>\n",
       "      <td>0</td>\n",
       "      <td>&lt;NA&gt;</td>\n",
       "      <td>NaN</td>\n",
       "      <td>NaN</td>\n",
       "      <td>NaN</td>\n",
       "      <td>NaN</td>\n",
       "      <td>NaN</td>\n",
       "      <td>NaN</td>\n",
       "      <td>NaN</td>\n",
       "      <td>NaN</td>\n",
       "    </tr>\n",
       "    <tr>\n",
       "      <th>iac_sketch.system_tests.test_implemented</th>\n",
       "      <td>0</td>\n",
       "      <td>&lt;NA&gt;</td>\n",
       "      <td>NaN</td>\n",
       "      <td>NaN</td>\n",
       "      <td>NaN</td>\n",
       "      <td>NaN</td>\n",
       "      <td>NaN</td>\n",
       "      <td>NaN</td>\n",
       "      <td>NaN</td>\n",
       "      <td>NaN</td>\n",
       "    </tr>\n",
       "    <tr>\n",
       "      <th>iac_sketch.system_tests.test_no_forbidden_components</th>\n",
       "      <td>0</td>\n",
       "      <td>&lt;NA&gt;</td>\n",
       "      <td>NaN</td>\n",
       "      <td>NaN</td>\n",
       "      <td>NaN</td>\n",
       "      <td>NaN</td>\n",
       "      <td>NaN</td>\n",
       "      <td>NaN</td>\n",
       "      <td>NaN</td>\n",
       "      <td>NaN</td>\n",
       "    </tr>\n",
       "    <tr>\n",
       "      <th>test_executes_tests</th>\n",
       "      <td>1</td>\n",
       "      <td>&lt;NA&gt;</td>\n",
       "      <td>NaN</td>\n",
       "      <td>NaN</td>\n",
       "      <td>NaN</td>\n",
       "      <td>NaN</td>\n",
       "      <td>NaN</td>\n",
       "      <td>NaN</td>\n",
       "      <td>NaN</td>\n",
       "      <td>NaN</td>\n",
       "    </tr>\n",
       "    <tr>\n",
       "      <th>test_perform_registry_etl</th>\n",
       "      <td>1</td>\n",
       "      <td>&lt;NA&gt;</td>\n",
       "      <td>NaN</td>\n",
       "      <td>NaN</td>\n",
       "      <td>NaN</td>\n",
       "      <td>NaN</td>\n",
       "      <td>NaN</td>\n",
       "      <td>NaN</td>\n",
       "      <td>NaN</td>\n",
       "      <td>NaN</td>\n",
       "    </tr>\n",
       "  </tbody>\n",
       "</table>\n",
       "</div>"
      ],
      "text/plain": [
       "                                                   test.comp_key test.value  \\\n",
       "entity                                                                        \n",
       "iac_sketch.system_tests.test_connected                         0       <NA>   \n",
       "iac_sketch.system_tests.test_defined                           0       <NA>   \n",
       "iac_sketch.system_tests.test_designed                          0       <NA>   \n",
       "iac_sketch.system_tests.test_implemented                       0       <NA>   \n",
       "iac_sketch.system_tests.test_no_forbidden_compo...             0       <NA>   \n",
       "test_executes_tests                                            1       <NA>   \n",
       "test_perform_registry_etl                                      1       <NA>   \n",
       "\n",
       "                                                   FunctionDef.name  \\\n",
       "entity                                                                \n",
       "iac_sketch.system_tests.test_connected                          NaN   \n",
       "iac_sketch.system_tests.test_defined                            NaN   \n",
       "iac_sketch.system_tests.test_designed                           NaN   \n",
       "iac_sketch.system_tests.test_implemented                        NaN   \n",
       "iac_sketch.system_tests.test_no_forbidden_compo...              NaN   \n",
       "test_executes_tests                                             NaN   \n",
       "test_perform_registry_etl                                       NaN   \n",
       "\n",
       "                                                   FunctionDef.args  \\\n",
       "entity                                                                \n",
       "iac_sketch.system_tests.test_connected                          NaN   \n",
       "iac_sketch.system_tests.test_defined                            NaN   \n",
       "iac_sketch.system_tests.test_designed                           NaN   \n",
       "iac_sketch.system_tests.test_implemented                        NaN   \n",
       "iac_sketch.system_tests.test_no_forbidden_compo...              NaN   \n",
       "test_executes_tests                                             NaN   \n",
       "test_perform_registry_etl                                       NaN   \n",
       "\n",
       "                                                   FunctionDef.body  \\\n",
       "entity                                                                \n",
       "iac_sketch.system_tests.test_connected                          NaN   \n",
       "iac_sketch.system_tests.test_defined                            NaN   \n",
       "iac_sketch.system_tests.test_designed                           NaN   \n",
       "iac_sketch.system_tests.test_implemented                        NaN   \n",
       "iac_sketch.system_tests.test_no_forbidden_compo...              NaN   \n",
       "test_executes_tests                                             NaN   \n",
       "test_perform_registry_etl                                       NaN   \n",
       "\n",
       "                                                   FunctionDef.decorator_list  \\\n",
       "entity                                                                          \n",
       "iac_sketch.system_tests.test_connected                                    NaN   \n",
       "iac_sketch.system_tests.test_defined                                      NaN   \n",
       "iac_sketch.system_tests.test_designed                                     NaN   \n",
       "iac_sketch.system_tests.test_implemented                                  NaN   \n",
       "iac_sketch.system_tests.test_no_forbidden_compo...                        NaN   \n",
       "test_executes_tests                                                       NaN   \n",
       "test_perform_registry_etl                                                 NaN   \n",
       "\n",
       "                                                   FunctionDef.returns  \\\n",
       "entity                                                                   \n",
       "iac_sketch.system_tests.test_connected                             NaN   \n",
       "iac_sketch.system_tests.test_defined                               NaN   \n",
       "iac_sketch.system_tests.test_designed                              NaN   \n",
       "iac_sketch.system_tests.test_implemented                           NaN   \n",
       "iac_sketch.system_tests.test_no_forbidden_compo...                 NaN   \n",
       "test_executes_tests                                                NaN   \n",
       "test_perform_registry_etl                                          NaN   \n",
       "\n",
       "                                                   FunctionDef.type_comment  \\\n",
       "entity                                                                        \n",
       "iac_sketch.system_tests.test_connected                                  NaN   \n",
       "iac_sketch.system_tests.test_defined                                    NaN   \n",
       "iac_sketch.system_tests.test_designed                                   NaN   \n",
       "iac_sketch.system_tests.test_implemented                                NaN   \n",
       "iac_sketch.system_tests.test_no_forbidden_compo...                      NaN   \n",
       "test_executes_tests                                                     NaN   \n",
       "test_perform_registry_etl                                               NaN   \n",
       "\n",
       "                                                   FunctionDef.type_params  \\\n",
       "entity                                                                       \n",
       "iac_sketch.system_tests.test_connected                                 NaN   \n",
       "iac_sketch.system_tests.test_defined                                   NaN   \n",
       "iac_sketch.system_tests.test_designed                                  NaN   \n",
       "iac_sketch.system_tests.test_implemented                               NaN   \n",
       "iac_sketch.system_tests.test_no_forbidden_compo...                     NaN   \n",
       "test_executes_tests                                                    NaN   \n",
       "test_perform_registry_etl                                              NaN   \n",
       "\n",
       "                                                   FunctionDef.docstring  \n",
       "entity                                                                    \n",
       "iac_sketch.system_tests.test_connected                               NaN  \n",
       "iac_sketch.system_tests.test_defined                                 NaN  \n",
       "iac_sketch.system_tests.test_designed                                NaN  \n",
       "iac_sketch.system_tests.test_implemented                             NaN  \n",
       "iac_sketch.system_tests.test_no_forbidden_compo...                   NaN  \n",
       "test_executes_tests                                                  NaN  \n",
       "test_perform_registry_etl                                            NaN  "
      ]
     },
     "execution_count": 34,
     "metadata": {},
     "output_type": "execute_result"
    }
   ],
   "source": [
    "registry.view([\"test\", \"FunctionDef\"])"
   ]
  },
  {
   "cell_type": "code",
   "execution_count": 32,
   "id": "d3e12b73",
   "metadata": {},
   "outputs": [
    {
     "data": {
      "text/html": [
       "<div>\n",
       "<style scoped>\n",
       "    .dataframe tbody tr th:only-of-type {\n",
       "        vertical-align: middle;\n",
       "    }\n",
       "\n",
       "    .dataframe tbody tr th {\n",
       "        vertical-align: top;\n",
       "    }\n",
       "\n",
       "    .dataframe thead th {\n",
       "        text-align: right;\n",
       "    }\n",
       "</style>\n",
       "<table border=\"1\" class=\"dataframe\">\n",
       "  <thead>\n",
       "    <tr style=\"text-align: right;\">\n",
       "      <th></th>\n",
       "      <th>test.comp_key</th>\n",
       "      <th>test.value</th>\n",
       "      <th>code.value</th>\n",
       "      <th>satisfies.value</th>\n",
       "      <th>FunctionDef.name</th>\n",
       "      <th>FunctionDef.args</th>\n",
       "      <th>FunctionDef.body</th>\n",
       "      <th>FunctionDef.decorator_list</th>\n",
       "      <th>FunctionDef.returns</th>\n",
       "      <th>FunctionDef.type_comment</th>\n",
       "      <th>FunctionDef.type_params</th>\n",
       "      <th>FunctionDef.docstring</th>\n",
       "    </tr>\n",
       "    <tr>\n",
       "      <th>entity</th>\n",
       "      <th></th>\n",
       "      <th></th>\n",
       "      <th></th>\n",
       "      <th></th>\n",
       "      <th></th>\n",
       "      <th></th>\n",
       "      <th></th>\n",
       "      <th></th>\n",
       "      <th></th>\n",
       "      <th></th>\n",
       "      <th></th>\n",
       "      <th></th>\n",
       "    </tr>\n",
       "  </thead>\n",
       "  <tbody>\n",
       "    <tr>\n",
       "      <th>iac_sketch.system_tests.test_connected</th>\n",
       "      <td>0</td>\n",
       "      <td>&lt;NA&gt;</td>\n",
       "      <td>NaN</td>\n",
       "      <td>fully_connected</td>\n",
       "      <td>NaN</td>\n",
       "      <td>NaN</td>\n",
       "      <td>NaN</td>\n",
       "      <td>NaN</td>\n",
       "      <td>NaN</td>\n",
       "      <td>NaN</td>\n",
       "      <td>NaN</td>\n",
       "      <td>NaN</td>\n",
       "    </tr>\n",
       "    <tr>\n",
       "      <th>iac_sketch.system_tests.test_defined</th>\n",
       "      <td>0</td>\n",
       "      <td>&lt;NA&gt;</td>\n",
       "      <td>NaN</td>\n",
       "      <td>fully_defined</td>\n",
       "      <td>NaN</td>\n",
       "      <td>NaN</td>\n",
       "      <td>NaN</td>\n",
       "      <td>NaN</td>\n",
       "      <td>NaN</td>\n",
       "      <td>NaN</td>\n",
       "      <td>NaN</td>\n",
       "      <td>NaN</td>\n",
       "    </tr>\n",
       "    <tr>\n",
       "      <th>iac_sketch.system_tests.test_designed</th>\n",
       "      <td>0</td>\n",
       "      <td>&lt;NA&gt;</td>\n",
       "      <td>NaN</td>\n",
       "      <td>fully_designed</td>\n",
       "      <td>NaN</td>\n",
       "      <td>NaN</td>\n",
       "      <td>NaN</td>\n",
       "      <td>NaN</td>\n",
       "      <td>NaN</td>\n",
       "      <td>NaN</td>\n",
       "      <td>NaN</td>\n",
       "      <td>NaN</td>\n",
       "    </tr>\n",
       "    <tr>\n",
       "      <th>iac_sketch.system_tests.test_implemented</th>\n",
       "      <td>0</td>\n",
       "      <td>&lt;NA&gt;</td>\n",
       "      <td>NaN</td>\n",
       "      <td>fully_implemented</td>\n",
       "      <td>NaN</td>\n",
       "      <td>NaN</td>\n",
       "      <td>NaN</td>\n",
       "      <td>NaN</td>\n",
       "      <td>NaN</td>\n",
       "      <td>NaN</td>\n",
       "      <td>NaN</td>\n",
       "      <td>NaN</td>\n",
       "    </tr>\n",
       "    <tr>\n",
       "      <th>iac_sketch.system_tests.test_no_forbidden_components</th>\n",
       "      <td>0</td>\n",
       "      <td>&lt;NA&gt;</td>\n",
       "      <td>NaN</td>\n",
       "      <td>no_forbidden_components</td>\n",
       "      <td>NaN</td>\n",
       "      <td>NaN</td>\n",
       "      <td>NaN</td>\n",
       "      <td>NaN</td>\n",
       "      <td>NaN</td>\n",
       "      <td>NaN</td>\n",
       "      <td>NaN</td>\n",
       "      <td>NaN</td>\n",
       "    </tr>\n",
       "    <tr>\n",
       "      <th>test_executes_tests</th>\n",
       "      <td>1</td>\n",
       "      <td>&lt;NA&gt;</td>\n",
       "      <td>NaN</td>\n",
       "      <td>can_execute_tests</td>\n",
       "      <td>NaN</td>\n",
       "      <td>NaN</td>\n",
       "      <td>NaN</td>\n",
       "      <td>NaN</td>\n",
       "      <td>NaN</td>\n",
       "      <td>NaN</td>\n",
       "      <td>NaN</td>\n",
       "      <td>NaN</td>\n",
       "    </tr>\n",
       "    <tr>\n",
       "      <th>test_perform_registry_etl</th>\n",
       "      <td>1</td>\n",
       "      <td>&lt;NA&gt;</td>\n",
       "      <td>NaN</td>\n",
       "      <td>can_perform_registry_etl</td>\n",
       "      <td>NaN</td>\n",
       "      <td>NaN</td>\n",
       "      <td>NaN</td>\n",
       "      <td>NaN</td>\n",
       "      <td>NaN</td>\n",
       "      <td>NaN</td>\n",
       "      <td>NaN</td>\n",
       "      <td>NaN</td>\n",
       "    </tr>\n",
       "  </tbody>\n",
       "</table>\n",
       "</div>"
      ],
      "text/plain": [
       "                                                   test.comp_key test.value  \\\n",
       "entity                                                                        \n",
       "iac_sketch.system_tests.test_connected                         0       <NA>   \n",
       "iac_sketch.system_tests.test_defined                           0       <NA>   \n",
       "iac_sketch.system_tests.test_designed                          0       <NA>   \n",
       "iac_sketch.system_tests.test_implemented                       0       <NA>   \n",
       "iac_sketch.system_tests.test_no_forbidden_compo...             0       <NA>   \n",
       "test_executes_tests                                            1       <NA>   \n",
       "test_perform_registry_etl                                      1       <NA>   \n",
       "\n",
       "                                                   code.value  \\\n",
       "entity                                                          \n",
       "iac_sketch.system_tests.test_connected                    NaN   \n",
       "iac_sketch.system_tests.test_defined                      NaN   \n",
       "iac_sketch.system_tests.test_designed                     NaN   \n",
       "iac_sketch.system_tests.test_implemented                  NaN   \n",
       "iac_sketch.system_tests.test_no_forbidden_compo...        NaN   \n",
       "test_executes_tests                                       NaN   \n",
       "test_perform_registry_etl                                 NaN   \n",
       "\n",
       "                                                             satisfies.value  \\\n",
       "entity                                                                         \n",
       "iac_sketch.system_tests.test_connected                       fully_connected   \n",
       "iac_sketch.system_tests.test_defined                           fully_defined   \n",
       "iac_sketch.system_tests.test_designed                         fully_designed   \n",
       "iac_sketch.system_tests.test_implemented                   fully_implemented   \n",
       "iac_sketch.system_tests.test_no_forbidden_compo...   no_forbidden_components   \n",
       "test_executes_tests                                        can_execute_tests   \n",
       "test_perform_registry_etl                           can_perform_registry_etl   \n",
       "\n",
       "                                                   FunctionDef.name  \\\n",
       "entity                                                                \n",
       "iac_sketch.system_tests.test_connected                          NaN   \n",
       "iac_sketch.system_tests.test_defined                            NaN   \n",
       "iac_sketch.system_tests.test_designed                           NaN   \n",
       "iac_sketch.system_tests.test_implemented                        NaN   \n",
       "iac_sketch.system_tests.test_no_forbidden_compo...              NaN   \n",
       "test_executes_tests                                             NaN   \n",
       "test_perform_registry_etl                                       NaN   \n",
       "\n",
       "                                                   FunctionDef.args  \\\n",
       "entity                                                                \n",
       "iac_sketch.system_tests.test_connected                          NaN   \n",
       "iac_sketch.system_tests.test_defined                            NaN   \n",
       "iac_sketch.system_tests.test_designed                           NaN   \n",
       "iac_sketch.system_tests.test_implemented                        NaN   \n",
       "iac_sketch.system_tests.test_no_forbidden_compo...              NaN   \n",
       "test_executes_tests                                             NaN   \n",
       "test_perform_registry_etl                                       NaN   \n",
       "\n",
       "                                                   FunctionDef.body  \\\n",
       "entity                                                                \n",
       "iac_sketch.system_tests.test_connected                          NaN   \n",
       "iac_sketch.system_tests.test_defined                            NaN   \n",
       "iac_sketch.system_tests.test_designed                           NaN   \n",
       "iac_sketch.system_tests.test_implemented                        NaN   \n",
       "iac_sketch.system_tests.test_no_forbidden_compo...              NaN   \n",
       "test_executes_tests                                             NaN   \n",
       "test_perform_registry_etl                                       NaN   \n",
       "\n",
       "                                                   FunctionDef.decorator_list  \\\n",
       "entity                                                                          \n",
       "iac_sketch.system_tests.test_connected                                    NaN   \n",
       "iac_sketch.system_tests.test_defined                                      NaN   \n",
       "iac_sketch.system_tests.test_designed                                     NaN   \n",
       "iac_sketch.system_tests.test_implemented                                  NaN   \n",
       "iac_sketch.system_tests.test_no_forbidden_compo...                        NaN   \n",
       "test_executes_tests                                                       NaN   \n",
       "test_perform_registry_etl                                                 NaN   \n",
       "\n",
       "                                                   FunctionDef.returns  \\\n",
       "entity                                                                   \n",
       "iac_sketch.system_tests.test_connected                             NaN   \n",
       "iac_sketch.system_tests.test_defined                               NaN   \n",
       "iac_sketch.system_tests.test_designed                              NaN   \n",
       "iac_sketch.system_tests.test_implemented                           NaN   \n",
       "iac_sketch.system_tests.test_no_forbidden_compo...                 NaN   \n",
       "test_executes_tests                                                NaN   \n",
       "test_perform_registry_etl                                          NaN   \n",
       "\n",
       "                                                   FunctionDef.type_comment  \\\n",
       "entity                                                                        \n",
       "iac_sketch.system_tests.test_connected                                  NaN   \n",
       "iac_sketch.system_tests.test_defined                                    NaN   \n",
       "iac_sketch.system_tests.test_designed                                   NaN   \n",
       "iac_sketch.system_tests.test_implemented                                NaN   \n",
       "iac_sketch.system_tests.test_no_forbidden_compo...                      NaN   \n",
       "test_executes_tests                                                     NaN   \n",
       "test_perform_registry_etl                                               NaN   \n",
       "\n",
       "                                                   FunctionDef.type_params  \\\n",
       "entity                                                                       \n",
       "iac_sketch.system_tests.test_connected                                 NaN   \n",
       "iac_sketch.system_tests.test_defined                                   NaN   \n",
       "iac_sketch.system_tests.test_designed                                  NaN   \n",
       "iac_sketch.system_tests.test_implemented                               NaN   \n",
       "iac_sketch.system_tests.test_no_forbidden_compo...                     NaN   \n",
       "test_executes_tests                                                    NaN   \n",
       "test_perform_registry_etl                                              NaN   \n",
       "\n",
       "                                                   FunctionDef.docstring  \n",
       "entity                                                                    \n",
       "iac_sketch.system_tests.test_connected                               NaN  \n",
       "iac_sketch.system_tests.test_defined                                 NaN  \n",
       "iac_sketch.system_tests.test_designed                                NaN  \n",
       "iac_sketch.system_tests.test_implemented                             NaN  \n",
       "iac_sketch.system_tests.test_no_forbidden_compo...                   NaN  \n",
       "test_executes_tests                                                  NaN  \n",
       "test_perform_registry_etl                                            NaN  "
      ]
     },
     "execution_count": 32,
     "metadata": {},
     "output_type": "execute_result"
    }
   ],
   "source": [
    "registry.view([\"test\", \"code\", \"satisfies\", \"FunctionDef\"])"
   ]
  },
  {
   "cell_type": "code",
   "execution_count": 22,
   "id": "e59271b5",
   "metadata": {},
   "outputs": [
    {
     "data": {
      "text/plain": [
       "'/Users/zhafen/repos/iac-sketch'"
      ]
     },
     "execution_count": 22,
     "metadata": {},
     "output_type": "execute_result"
    }
   ],
   "source": [
    "os.path.abspath(architect.root_dir)"
   ]
  },
  {
   "cell_type": "code",
   "execution_count": 24,
   "id": "c3cbc24a",
   "metadata": {},
   "outputs": [
    {
     "data": {
      "text/plain": [
       "['/Users/zhafen/repos/iac-sketch/base_manifest/requirements.yaml',\n",
       " '/Users/zhafen/repos/iac-sketch/base_manifest/relationships.yaml',\n",
       " '/Users/zhafen/repos/iac-sketch/base_manifest/components.yaml',\n",
       " '/Users/zhafen/repos/iac-sketch/base_manifest/python.yaml',\n",
       " '/Users/zhafen/repos/iac-sketch/base_manifest/system.yaml',\n",
       " '/Users/zhafen/repos/iac-sketch/base_manifest/objects.yaml',\n",
       " '/Users/zhafen/repos/iac-sketch/iac_sketch/extract/__init__.py',\n",
       " '/Users/zhafen/repos/iac-sketch/iac_sketch/extract/extract_python.py',\n",
       " '/Users/zhafen/repos/iac-sketch/iac_sketch/extract/extract_yaml.py']"
      ]
     },
     "execution_count": 24,
     "metadata": {},
     "output_type": "execute_result"
    }
   ],
   "source": [
    "architect.extract_sys.filenames"
   ]
  },
  {
   "cell_type": "code",
   "execution_count": 5,
   "id": "f35629b9",
   "metadata": {},
   "outputs": [
    {
     "data": {
      "text/html": [
       "<div>\n",
       "<style scoped>\n",
       "    .dataframe tbody tr th:only-of-type {\n",
       "        vertical-align: middle;\n",
       "    }\n",
       "\n",
       "    .dataframe tbody tr th {\n",
       "        vertical-align: top;\n",
       "    }\n",
       "\n",
       "    .dataframe thead th {\n",
       "        text-align: right;\n",
       "    }\n",
       "</style>\n",
       "<table border=\"1\" class=\"dataframe\">\n",
       "  <thead>\n",
       "    <tr style=\"text-align: right;\">\n",
       "      <th></th>\n",
       "      <th>test.comp_key</th>\n",
       "      <th>test.value</th>\n",
       "      <th>code.value</th>\n",
       "      <th>satisfies.value</th>\n",
       "    </tr>\n",
       "    <tr>\n",
       "      <th>entity</th>\n",
       "      <th></th>\n",
       "      <th></th>\n",
       "      <th></th>\n",
       "      <th></th>\n",
       "    </tr>\n",
       "  </thead>\n",
       "  <tbody>\n",
       "    <tr>\n",
       "      <th>test_executes_tests</th>\n",
       "      <td>1</td>\n",
       "      <td>&lt;NA&gt;</td>\n",
       "      <td>NaN</td>\n",
       "      <td>can_execute_tests</td>\n",
       "    </tr>\n",
       "    <tr>\n",
       "      <th>test_perform_registry_etl</th>\n",
       "      <td>1</td>\n",
       "      <td>&lt;NA&gt;</td>\n",
       "      <td>NaN</td>\n",
       "      <td>can_perform_registry_etl</td>\n",
       "    </tr>\n",
       "  </tbody>\n",
       "</table>\n",
       "</div>"
      ],
      "text/plain": [
       "                          test.comp_key test.value code.value  \\\n",
       "entity                                                          \n",
       "test_executes_tests                   1       <NA>        NaN   \n",
       "test_perform_registry_etl             1       <NA>        NaN   \n",
       "\n",
       "                                    satisfies.value  \n",
       "entity                                               \n",
       "test_executes_tests               can_execute_tests  \n",
       "test_perform_registry_etl  can_perform_registry_etl  "
      ]
     },
     "execution_count": 5,
     "metadata": {},
     "output_type": "execute_result"
    }
   ],
   "source": [
    "registry.view([\"test\", \"code\", \"satisfies\"])"
   ]
  },
  {
   "cell_type": "code",
   "execution_count": null,
   "id": "ea824c4b",
   "metadata": {},
   "outputs": [],
   "source": [
    "# Visualize the graph\n",
    "nx.draw(registry.graph, with_labels=True)"
   ]
  },
  {
   "cell_type": "code",
   "execution_count": null,
   "id": "5a7304c2",
   "metadata": {},
   "outputs": [],
   "source": [
    "import ast"
   ]
  },
  {
   "cell_type": "code",
   "execution_count": null,
   "id": "69a35d09",
   "metadata": {},
   "outputs": [],
   "source": [
    "with open(\"../iac_sketch/etl.py\", \"r\") as f:\n",
    "    source = f.read()\n",
    "tree = ast.parse(source)\n",
    "tree"
   ]
  },
  {
   "cell_type": "code",
   "execution_count": null,
   "id": "34d31dae",
   "metadata": {},
   "outputs": [],
   "source": [
    "list(ast.iter_child_nodes(tree))"
   ]
  },
  {
   "cell_type": "code",
   "execution_count": null,
   "id": "c4184b51",
   "metadata": {},
   "outputs": [],
   "source": [
    "import ast"
   ]
  },
  {
   "cell_type": "code",
   "execution_count": null,
   "id": "eb9e4bba",
   "metadata": {},
   "outputs": [],
   "source": [
    "node = ast.parse(\"\"\"\n",
    "def my_function(x) -> int:\n",
    "    return x + 1\n",
    "\n",
    "x = my_function(5)\n",
    "\"\"\")"
   ]
  },
  {
   "cell_type": "code",
   "execution_count": null,
   "id": "c3e10d1e",
   "metadata": {},
   "outputs": [],
   "source": [
    "nt = ast.NodeTransformer()\n",
    "nt.visit(node)"
   ]
  },
  {
   "cell_type": "code",
   "execution_count": null,
   "id": "b2c4142f",
   "metadata": {},
   "outputs": [],
   "source": [
    "nt = ast.NodeVisitor()\n",
    "nt.visit(node)"
   ]
  },
  {
   "cell_type": "code",
   "execution_count": null,
   "id": "b45823ca",
   "metadata": {},
   "outputs": [],
   "source": [
    "list(ast.iter_child_nodes(node.body[1]))"
   ]
  },
  {
   "cell_type": "code",
   "execution_count": null,
   "id": "a718dae1",
   "metadata": {},
   "outputs": [],
   "source": [
    "node.body[1].value.func.ctx"
   ]
  },
  {
   "cell_type": "code",
   "execution_count": null,
   "id": "7312b6fc",
   "metadata": {},
   "outputs": [],
   "source": [
    "node.body[0].__class__.__name__"
   ]
  },
  {
   "cell_type": "code",
   "execution_count": null,
   "id": "231f1a3d",
   "metadata": {},
   "outputs": [],
   "source": [
    "node.body[0]._fields"
   ]
  },
  {
   "cell_type": "code",
   "execution_count": null,
   "id": "81148f4b",
   "metadata": {},
   "outputs": [],
   "source": [
    "node.body[0].body[0].value._fields"
   ]
  },
  {
   "cell_type": "code",
   "execution_count": null,
   "id": "4a450f36",
   "metadata": {},
   "outputs": [],
   "source": [
    "visitor = ComponentVisitor()"
   ]
  },
  {
   "cell_type": "code",
   "execution_count": null,
   "id": "ae7226ee",
   "metadata": {},
   "outputs": [],
   "source": [
    "visitor.visit(tree)"
   ]
  },
  {
   "cell_type": "code",
   "execution_count": null,
   "id": "f86ab7d0",
   "metadata": {},
   "outputs": [],
   "source": [
    "pd.DataFrame(visitor.components)"
   ]
  },
  {
   "cell_type": "code",
   "execution_count": null,
   "id": "649bc81d",
   "metadata": {},
   "outputs": [],
   "source": [
    "type(tree.body[-1])"
   ]
  },
  {
   "cell_type": "code",
   "execution_count": null,
   "id": "c01f6ec4",
   "metadata": {},
   "outputs": [],
   "source": [
    "dict(ast.iter_fields(child_node))"
   ]
  },
  {
   "cell_type": "code",
   "execution_count": null,
   "id": "2e919220",
   "metadata": {},
   "outputs": [],
   "source": [
    "components = []\n",
    "for child_node in ast.iter_child_nodes(tree.body[-1]):\n",
    "    comp_i = {\n",
    "        \"component_type\": type(child_node).__name__\n",
    "    }\n",
    "    components.append(comp_i)\n",
    "\n",
    "components"
   ]
  },
  {
   "cell_type": "code",
   "execution_count": null,
   "id": "79e8ff08",
   "metadata": {},
   "outputs": [],
   "source": [
    "tree.body[-1].__dir__()"
   ]
  },
  {
   "cell_type": "code",
   "execution_count": null,
   "id": "afc61d6a",
   "metadata": {},
   "outputs": [],
   "source": []
  },
  {
   "cell_type": "code",
   "execution_count": null,
   "id": "836f8c24",
   "metadata": {},
   "outputs": [],
   "source": [
    "for item in ast.iter_fields(tree.body[-1].body[-1]):\n",
    "    print(item)"
   ]
  },
  {
   "cell_type": "code",
   "execution_count": null,
   "id": "eb91955e",
   "metadata": {},
   "outputs": [],
   "source": [
    "visitor.visit(tree.body[-1])"
   ]
  },
  {
   "cell_type": "code",
   "execution_count": null,
   "id": "ca2adbda",
   "metadata": {},
   "outputs": [],
   "source": [
    "ast.walk(visitor.visit(tree))"
   ]
  },
  {
   "cell_type": "code",
   "execution_count": null,
   "id": "cac97308",
   "metadata": {},
   "outputs": [],
   "source": [
    "for item in ast.walk(tree):\n",
    "    print(item)"
   ]
  },
  {
   "cell_type": "code",
   "execution_count": null,
   "id": "750796db",
   "metadata": {},
   "outputs": [],
   "source": [
    "visitor.visit_Constant(tree)"
   ]
  },
  {
   "cell_type": "code",
   "execution_count": null,
   "id": "2b642bac",
   "metadata": {},
   "outputs": [],
   "source": [
    "components = {}\n",
    "for field, value in ast.iter_fields(tree):\n",
    "    print(field, value)\n",
    "    if isinstance(value, str)"
   ]
  },
  {
   "cell_type": "code",
   "execution_count": null,
   "id": "0bf1ed17",
   "metadata": {},
   "outputs": [],
   "source": [
    "for item in ast.iter_child_nodes(transform_sys_tree):\n",
    "    print(item)"
   ]
  },
  {
   "cell_type": "code",
   "execution_count": null,
   "id": "61c1d237",
   "metadata": {},
   "outputs": [],
   "source": [
    "ast.get_source_segment(source, transform_sys_tree)"
   ]
  },
  {
   "cell_type": "code",
   "execution_count": null,
   "id": "2e2de8e6",
   "metadata": {},
   "outputs": [],
   "source": [
    "ast.get_docstring(transform_sys_tree)"
   ]
  },
  {
   "cell_type": "code",
   "execution_count": null,
   "id": "27060240",
   "metadata": {},
   "outputs": [],
   "source": [
    "isinstance(transform_sys_tree, ast.AST)"
   ]
  },
  {
   "cell_type": "code",
   "execution_count": null,
   "id": "704eab93",
   "metadata": {},
   "outputs": [],
   "source": []
  }
 ],
 "metadata": {
  "kernelspec": {
   "display_name": "iac-sketch",
   "language": "python",
   "name": "python3"
  },
  "language_info": {
   "codemirror_mode": {
    "name": "ipython",
    "version": 3
   },
   "file_extension": ".py",
   "mimetype": "text/x-python",
   "name": "python",
   "nbconvert_exporter": "python",
   "pygments_lexer": "ipython3",
   "version": "3.13.1"
  }
 },
 "nbformat": 4,
 "nbformat_minor": 5
}
