{
 "cells": [
  {
   "cell_type": "code",
   "execution_count": 1,
   "id": "266a5975",
   "metadata": {},
   "outputs": [],
   "source": [
    "import os"
   ]
  },
  {
   "cell_type": "code",
   "execution_count": 2,
   "id": "b360b827",
   "metadata": {},
   "outputs": [],
   "source": [
    "import pandas as pd\n",
    "import networkx as nx"
   ]
  },
  {
   "cell_type": "code",
   "execution_count": 3,
   "id": "5c5aebc7",
   "metadata": {},
   "outputs": [],
   "source": [
    "from iac_sketch import data, etl, sketch, transform\n",
    "from iac_sketch.extract import extract_python, extract_yaml\n",
    "from iac_sketch import system_tests"
   ]
  },
  {
   "cell_type": "code",
   "execution_count": 6,
   "id": "ac98ff0e",
   "metadata": {},
   "outputs": [
    {
     "data": {
      "text/plain": [
       "<module 'iac_sketch.sketch' from '/Users/zhafen/repos/iac-sketch/iac_sketch/sketch.py'>"
      ]
     },
     "execution_count": 6,
     "metadata": {},
     "output_type": "execute_result"
    }
   ],
   "source": [
    "# DEBUG\n",
    "import importlib\n",
    "\n",
    "importlib.reload(data)\n",
    "importlib.reload(extract_yaml)\n",
    "importlib.reload(extract_python)\n",
    "importlib.reload(etl)\n",
    "importlib.reload(transform)\n",
    "importlib.reload(system_tests)\n",
    "importlib.reload(sketch)"
   ]
  },
  {
   "cell_type": "code",
   "execution_count": 7,
   "id": "686a2af6",
   "metadata": {},
   "outputs": [
    {
     "name": "stdout",
     "output_type": "stream",
     "text": [
      "entity: iac_sketch/system_tests.test_designed\n",
      "requirement: fully_designed\n",
      "priority: 0.9\n",
      "description:\n",
      "    Each [requirement] entity has at least one [satisfies] entity or one [child]\n",
      "    entity.\n",
      "test_passed: False\n",
      "failed_components:\n"
     ]
    },
    {
     "data": {
      "text/html": [
       "<div>\n",
       "<style scoped>\n",
       "    .dataframe tbody tr th:only-of-type {\n",
       "        vertical-align: middle;\n",
       "    }\n",
       "\n",
       "    .dataframe tbody tr th {\n",
       "        vertical-align: top;\n",
       "    }\n",
       "\n",
       "    .dataframe thead th {\n",
       "        text-align: right;\n",
       "    }\n",
       "</style>\n",
       "<table border=\"1\" class=\"dataframe\">\n",
       "  <thead>\n",
       "    <tr style=\"text-align: right;\">\n",
       "      <th></th>\n",
       "      <th>entity</th>\n",
       "      <th>requirement.comp_key</th>\n",
       "      <th>requirement.priority</th>\n",
       "      <th>requirement.value</th>\n",
       "      <th>link.link_type</th>\n",
       "      <th>link.source</th>\n",
       "      <th>link.target</th>\n",
       "      <th>status.comp_key</th>\n",
       "      <th>status.value</th>\n",
       "      <th>test.comp_key</th>\n",
       "      <th>test.value</th>\n",
       "    </tr>\n",
       "  </thead>\n",
       "  <tbody>\n",
       "    <tr>\n",
       "      <th>1</th>\n",
       "      <td>documents_system_architecture</td>\n",
       "      <td>1</td>\n",
       "      <td>0.5</td>\n",
       "      <td>iac_sketch_infrastructure</td>\n",
       "      <td>NaN</td>\n",
       "      <td>NaN</td>\n",
       "      <td>NaN</td>\n",
       "      <td>NaN</td>\n",
       "      <td>NaN</td>\n",
       "      <td>NaN</td>\n",
       "      <td>NaN</td>\n",
       "    </tr>\n",
       "    <tr>\n",
       "      <th>4</th>\n",
       "      <td>facilitates_a_source_of_truth</td>\n",
       "      <td>0</td>\n",
       "      <td>0.5</td>\n",
       "      <td>iac_sketch_infrastructure</td>\n",
       "      <td>NaN</td>\n",
       "      <td>NaN</td>\n",
       "      <td>NaN</td>\n",
       "      <td>NaN</td>\n",
       "      <td>NaN</td>\n",
       "      <td>NaN</td>\n",
       "      <td>NaN</td>\n",
       "    </tr>\n",
       "    <tr>\n",
       "      <th>18</th>\n",
       "      <td>records_system_architecture</td>\n",
       "      <td>0</td>\n",
       "      <td>0.5</td>\n",
       "      <td>iac_sketch_infrastructure</td>\n",
       "      <td>NaN</td>\n",
       "      <td>NaN</td>\n",
       "      <td>NaN</td>\n",
       "      <td>NaN</td>\n",
       "      <td>NaN</td>\n",
       "      <td>NaN</td>\n",
       "      <td>NaN</td>\n",
       "    </tr>\n",
       "  </tbody>\n",
       "</table>\n",
       "</div>"
      ],
      "text/plain": [
       "                           entity requirement.comp_key  requirement.priority  \\\n",
       "1   documents_system_architecture                    1                   0.5   \n",
       "4   facilitates_a_source_of_truth                    0                   0.5   \n",
       "18    records_system_architecture                    0                   0.5   \n",
       "\n",
       "            requirement.value link.link_type link.source link.target  \\\n",
       "1   iac_sketch_infrastructure            NaN         NaN         NaN   \n",
       "4   iac_sketch_infrastructure            NaN         NaN         NaN   \n",
       "18  iac_sketch_infrastructure            NaN         NaN         NaN   \n",
       "\n",
       "   status.comp_key status.value test.comp_key test.value  \n",
       "1              NaN          NaN           NaN        NaN  \n",
       "4              NaN          NaN           NaN        NaN  \n",
       "18             NaN          NaN           NaN        NaN  "
      ]
     },
     "metadata": {},
     "output_type": "display_data"
    },
    {
     "name": "stdout",
     "output_type": "stream",
     "text": [
      "--------------------------------------------------------------------------------\n",
      "\n",
      "entity: iac_sketch/system_tests.test_defined\n",
      "requirement: fully_defined\n",
      "priority: 0.8\n",
      "description:\n",
      "    All [compdef] entities are defined and valid.\n",
      "test_passed: False\n",
      "failed_components:\n"
     ]
    },
    {
     "data": {
      "text/html": [
       "<div>\n",
       "<style scoped>\n",
       "    .dataframe tbody tr th:only-of-type {\n",
       "        vertical-align: middle;\n",
       "    }\n",
       "\n",
       "    .dataframe tbody tr th {\n",
       "        vertical-align: top;\n",
       "    }\n",
       "\n",
       "    .dataframe thead th {\n",
       "        text-align: right;\n",
       "    }\n",
       "</style>\n",
       "<table border=\"1\" class=\"dataframe\">\n",
       "  <thead>\n",
       "    <tr style=\"text-align: right;\">\n",
       "      <th></th>\n",
       "      <th>comp_key</th>\n",
       "      <th>multiplicity</th>\n",
       "      <th>unparsed_fields</th>\n",
       "      <th>is_defined</th>\n",
       "      <th>fields</th>\n",
       "      <th>is_valid</th>\n",
       "      <th>errors</th>\n",
       "    </tr>\n",
       "    <tr>\n",
       "      <th>entity</th>\n",
       "      <th></th>\n",
       "      <th></th>\n",
       "      <th></th>\n",
       "      <th></th>\n",
       "      <th></th>\n",
       "      <th></th>\n",
       "      <th></th>\n",
       "    </tr>\n",
       "  </thead>\n",
       "  <tbody>\n",
       "    <tr>\n",
       "      <th>metadata</th>\n",
       "      <td>0</td>\n",
       "      <td>0..*</td>\n",
       "      <td>{}</td>\n",
       "      <td>False</td>\n",
       "      <td>{'entity': &lt;Schema Field(name=entity, type=Dat...</td>\n",
       "      <td>False</td>\n",
       "      <td>Component definition does not exist.</td>\n",
       "    </tr>\n",
       "  </tbody>\n",
       "</table>\n",
       "</div>"
      ],
      "text/plain": [
       "         comp_key multiplicity unparsed_fields  is_defined  \\\n",
       "entity                                                       \n",
       "metadata        0         0..*              {}       False   \n",
       "\n",
       "                                                     fields  is_valid  \\\n",
       "entity                                                                  \n",
       "metadata  {'entity': <Schema Field(name=entity, type=Dat...     False   \n",
       "\n",
       "                                         errors  \n",
       "entity                                           \n",
       "metadata  Component definition does not exist.   "
      ]
     },
     "metadata": {},
     "output_type": "display_data"
    },
    {
     "name": "stdout",
     "output_type": "stream",
     "text": [
      "--------------------------------------------------------------------------------\n",
      "\n",
      "entity: iac_sketch/system_tests.test_implemented\n",
      "requirement: fully_implemented\n",
      "priority: 0.7\n",
      "description:\n",
      "    Meets the same criteria as \"fully_designed\" and all [satisfies] entities\n",
      "    either have a test that passes when executed or have a status of \"in\n",
      "    production\".\n",
      "test_passed: False\n",
      "failed_components:\n"
     ]
    },
    {
     "data": {
      "text/html": [
       "<div>\n",
       "<style scoped>\n",
       "    .dataframe tbody tr th:only-of-type {\n",
       "        vertical-align: middle;\n",
       "    }\n",
       "\n",
       "    .dataframe tbody tr th {\n",
       "        vertical-align: top;\n",
       "    }\n",
       "\n",
       "    .dataframe thead th {\n",
       "        text-align: right;\n",
       "    }\n",
       "</style>\n",
       "<table border=\"1\" class=\"dataframe\">\n",
       "  <thead>\n",
       "    <tr style=\"text-align: right;\">\n",
       "      <th></th>\n",
       "      <th>entity</th>\n",
       "      <th>requirement.comp_key</th>\n",
       "      <th>requirement.priority</th>\n",
       "      <th>requirement.value</th>\n",
       "      <th>link.link_type</th>\n",
       "      <th>link.source</th>\n",
       "      <th>link.target</th>\n",
       "      <th>status.comp_key</th>\n",
       "      <th>status.value</th>\n",
       "      <th>test.comp_key</th>\n",
       "      <th>test.value</th>\n",
       "    </tr>\n",
       "  </thead>\n",
       "  <tbody>\n",
       "    <tr>\n",
       "      <th>1</th>\n",
       "      <td>documents_system_architecture</td>\n",
       "      <td>1</td>\n",
       "      <td>0.5</td>\n",
       "      <td>iac_sketch_infrastructure</td>\n",
       "      <td>NaN</td>\n",
       "      <td>NaN</td>\n",
       "      <td>NaN</td>\n",
       "      <td>NaN</td>\n",
       "      <td>NaN</td>\n",
       "      <td>NaN</td>\n",
       "      <td>NaN</td>\n",
       "    </tr>\n",
       "    <tr>\n",
       "      <th>4</th>\n",
       "      <td>facilitates_a_source_of_truth</td>\n",
       "      <td>0</td>\n",
       "      <td>0.5</td>\n",
       "      <td>iac_sketch_infrastructure</td>\n",
       "      <td>NaN</td>\n",
       "      <td>NaN</td>\n",
       "      <td>NaN</td>\n",
       "      <td>NaN</td>\n",
       "      <td>NaN</td>\n",
       "      <td>NaN</td>\n",
       "      <td>NaN</td>\n",
       "    </tr>\n",
       "    <tr>\n",
       "      <th>18</th>\n",
       "      <td>records_system_architecture</td>\n",
       "      <td>0</td>\n",
       "      <td>0.5</td>\n",
       "      <td>iac_sketch_infrastructure</td>\n",
       "      <td>NaN</td>\n",
       "      <td>NaN</td>\n",
       "      <td>NaN</td>\n",
       "      <td>NaN</td>\n",
       "      <td>NaN</td>\n",
       "      <td>NaN</td>\n",
       "      <td>NaN</td>\n",
       "    </tr>\n",
       "  </tbody>\n",
       "</table>\n",
       "</div>"
      ],
      "text/plain": [
       "                           entity requirement.comp_key  requirement.priority  \\\n",
       "1   documents_system_architecture                    1                   0.5   \n",
       "4   facilitates_a_source_of_truth                    0                   0.5   \n",
       "18    records_system_architecture                    0                   0.5   \n",
       "\n",
       "            requirement.value link.link_type link.source link.target  \\\n",
       "1   iac_sketch_infrastructure            NaN         NaN         NaN   \n",
       "4   iac_sketch_infrastructure            NaN         NaN         NaN   \n",
       "18  iac_sketch_infrastructure            NaN         NaN         NaN   \n",
       "\n",
       "   status.comp_key status.value test.comp_key test.value  \n",
       "1              NaN          NaN           NaN        NaN  \n",
       "4              NaN          NaN           NaN        NaN  \n",
       "18             NaN          NaN           NaN        NaN  "
      ]
     },
     "metadata": {},
     "output_type": "display_data"
    },
    {
     "name": "stdout",
     "output_type": "stream",
     "text": [
      "--------------------------------------------------------------------------------\n",
      "\n",
      "entity: iac_sketch/system_tests.test_no_forbidden_components\n",
      "requirement: no_forbidden_components\n",
      "priority: 0.5\n",
      "description:\n",
      "    No [error], [todo], or other \"forbidden\" components.\n",
      "test_passed: False\n",
      "failed_components:\n"
     ]
    },
    {
     "data": {
      "text/html": [
       "<div>\n",
       "<style scoped>\n",
       "    .dataframe tbody tr th:only-of-type {\n",
       "        vertical-align: middle;\n",
       "    }\n",
       "\n",
       "    .dataframe tbody tr th {\n",
       "        vertical-align: top;\n",
       "    }\n",
       "\n",
       "    .dataframe thead th {\n",
       "        text-align: right;\n",
       "    }\n",
       "</style>\n",
       "<table border=\"1\" class=\"dataframe\">\n",
       "  <thead>\n",
       "    <tr style=\"text-align: right;\">\n",
       "      <th></th>\n",
       "      <th>entity</th>\n",
       "      <th>comp_key</th>\n",
       "      <th>value</th>\n",
       "    </tr>\n",
       "  </thead>\n",
       "  <tbody>\n",
       "    <tr>\n",
       "      <th>0</th>\n",
       "      <td>FunctionDef</td>\n",
       "      <td>3</td>\n",
       "      <td>Allow components to be defined in the doc stri...</td>\n",
       "    </tr>\n",
       "    <tr>\n",
       "      <th>1</th>\n",
       "      <td>Module</td>\n",
       "      <td>2</td>\n",
       "      <td>Reconcile the paths s.t. we can easily and acc...</td>\n",
       "    </tr>\n",
       "    <tr>\n",
       "      <th>2</th>\n",
       "      <td>child_component</td>\n",
       "      <td>1</td>\n",
       "      <td>Consider if we can roll this up into a more ge...</td>\n",
       "    </tr>\n",
       "    <tr>\n",
       "      <th>3</th>\n",
       "      <td>foreign_keys</td>\n",
       "      <td>3</td>\n",
       "      <td>The logic to parse this is not yet implemented.</td>\n",
       "    </tr>\n",
       "    <tr>\n",
       "      <th>4</th>\n",
       "      <td>iac_sketch/etl.TransformSystem.build_graph_fro...</td>\n",
       "      <td>0</td>\n",
       "      <td>Probably delete this, because it makes more se...</td>\n",
       "    </tr>\n",
       "    <tr>\n",
       "      <th>5</th>\n",
       "      <td>iac_sketch/sketch.Architect.perform_registry_etl</td>\n",
       "      <td>2</td>\n",
       "      <td>Point to the unit test for this, instead of ch...</td>\n",
       "    </tr>\n",
       "    <tr>\n",
       "      <th>6</th>\n",
       "      <td>iac_sketch/sketch.Architect.validate_registry</td>\n",
       "      <td>3</td>\n",
       "      <td>Point to the unit test for this, instead of ch...</td>\n",
       "    </tr>\n",
       "    <tr>\n",
       "      <th>7</th>\n",
       "      <td>iac_sketch/sketch.Architect.validate_registry</td>\n",
       "      <td>4</td>\n",
       "      <td>Currently we're only set up to run tests that ...</td>\n",
       "    </tr>\n",
       "    <tr>\n",
       "      <th>8</th>\n",
       "      <td>iac_sketch/sketch.Architect.validate_registry</td>\n",
       "      <td>5</td>\n",
       "      <td>Tests that are imported as Python code are cur...</td>\n",
       "    </tr>\n",
       "    <tr>\n",
       "      <th>9</th>\n",
       "      <td>iac_sketch/sketch.Architect.validate_registry</td>\n",
       "      <td>6</td>\n",
       "      <td>Is this function suffering from trying to be t...</td>\n",
       "    </tr>\n",
       "    <tr>\n",
       "      <th>10</th>\n",
       "      <td>iac_sketch/sketch.Architect.validate_registry</td>\n",
       "      <td>7</td>\n",
       "      <td>The errors are often mangled. For example, a K...</td>\n",
       "    </tr>\n",
       "    <tr>\n",
       "      <th>11</th>\n",
       "      <td>iac_sketch/system_tests.test_implemented</td>\n",
       "      <td>2</td>\n",
       "      <td>Add code that identifies parent nodes with uns...</td>\n",
       "    </tr>\n",
       "    <tr>\n",
       "      <th>12</th>\n",
       "      <td>iac_sketch/system_tests.test_no_forbidden_comp...</td>\n",
       "      <td>2</td>\n",
       "      <td>Add priority cutoff.</td>\n",
       "    </tr>\n",
       "    <tr>\n",
       "      <th>13</th>\n",
       "      <td>iac_sketch/transform.ComponentValidator</td>\n",
       "      <td>0</td>\n",
       "      <td>Add validation that warns users when they try ...</td>\n",
       "    </tr>\n",
       "    <tr>\n",
       "      <th>14</th>\n",
       "      <td>parent</td>\n",
       "      <td>4</td>\n",
       "      <td>Reverse this with child, since that produces a...</td>\n",
       "    </tr>\n",
       "    <tr>\n",
       "      <th>15</th>\n",
       "      <td>requirement</td>\n",
       "      <td>3</td>\n",
       "      <td>I think it's pretty confusing to have requirem...</td>\n",
       "    </tr>\n",
       "    <tr>\n",
       "      <th>16</th>\n",
       "      <td>fields</td>\n",
       "      <td>2</td>\n",
       "      <td>Parsing fails if the user doesn't specify the ...</td>\n",
       "    </tr>\n",
       "  </tbody>\n",
       "</table>\n",
       "</div>"
      ],
      "text/plain": [
       "                                               entity comp_key  \\\n",
       "0                                         FunctionDef        3   \n",
       "1                                              Module        2   \n",
       "2                                     child_component        1   \n",
       "3                                        foreign_keys        3   \n",
       "4   iac_sketch/etl.TransformSystem.build_graph_fro...        0   \n",
       "5    iac_sketch/sketch.Architect.perform_registry_etl        2   \n",
       "6       iac_sketch/sketch.Architect.validate_registry        3   \n",
       "7       iac_sketch/sketch.Architect.validate_registry        4   \n",
       "8       iac_sketch/sketch.Architect.validate_registry        5   \n",
       "9       iac_sketch/sketch.Architect.validate_registry        6   \n",
       "10      iac_sketch/sketch.Architect.validate_registry        7   \n",
       "11           iac_sketch/system_tests.test_implemented        2   \n",
       "12  iac_sketch/system_tests.test_no_forbidden_comp...        2   \n",
       "13            iac_sketch/transform.ComponentValidator        0   \n",
       "14                                             parent        4   \n",
       "15                                        requirement        3   \n",
       "16                                             fields        2   \n",
       "\n",
       "                                                value  \n",
       "0   Allow components to be defined in the doc stri...  \n",
       "1   Reconcile the paths s.t. we can easily and acc...  \n",
       "2   Consider if we can roll this up into a more ge...  \n",
       "3     The logic to parse this is not yet implemented.  \n",
       "4   Probably delete this, because it makes more se...  \n",
       "5   Point to the unit test for this, instead of ch...  \n",
       "6   Point to the unit test for this, instead of ch...  \n",
       "7   Currently we're only set up to run tests that ...  \n",
       "8   Tests that are imported as Python code are cur...  \n",
       "9   Is this function suffering from trying to be t...  \n",
       "10  The errors are often mangled. For example, a K...  \n",
       "11  Add code that identifies parent nodes with uns...  \n",
       "12                               Add priority cutoff.  \n",
       "13  Add validation that warns users when they try ...  \n",
       "14  Reverse this with child, since that produces a...  \n",
       "15  I think it's pretty confusing to have requirem...  \n",
       "16  Parsing fails if the user doesn't specify the ...  "
      ]
     },
     "metadata": {},
     "output_type": "display_data"
    },
    {
     "name": "stdout",
     "output_type": "stream",
     "text": [
      "--------------------------------------------------------------------------------\n",
      "\n"
     ]
    }
   ],
   "source": [
    "architect = sketch.Architect(root_dir=\"..\")\n",
    "registry = architect.perform_registry_etl()\n",
    "tests, test_results = architect.validate_registry(\n",
    "    min_priority=0.5,\n",
    "    allowed_infrastructure=[\"iac_sketch_infrastructure\"],\n",
    ")"
   ]
  },
  {
   "cell_type": "code",
   "execution_count": null,
   "id": "ea824c4b",
   "metadata": {},
   "outputs": [],
   "source": [
    "# Visualize the graph\n",
    "nx.draw(registry.graph, with_labels=True)"
   ]
  },
  {
   "cell_type": "code",
   "execution_count": null,
   "id": "5a7304c2",
   "metadata": {},
   "outputs": [],
   "source": [
    "import ast"
   ]
  },
  {
   "cell_type": "code",
   "execution_count": null,
   "id": "69a35d09",
   "metadata": {},
   "outputs": [],
   "source": [
    "with open(\"../iac_sketch/etl.py\", \"r\") as f:\n",
    "    source = f.read()\n",
    "tree = ast.parse(source)\n",
    "tree"
   ]
  },
  {
   "cell_type": "code",
   "execution_count": null,
   "id": "34d31dae",
   "metadata": {},
   "outputs": [],
   "source": [
    "list(ast.iter_child_nodes(tree))"
   ]
  },
  {
   "cell_type": "code",
   "execution_count": null,
   "id": "c4184b51",
   "metadata": {},
   "outputs": [],
   "source": [
    "import ast"
   ]
  },
  {
   "cell_type": "code",
   "execution_count": null,
   "id": "eb9e4bba",
   "metadata": {},
   "outputs": [],
   "source": [
    "node = ast.parse(\"\"\"\n",
    "def my_function(x) -> int:\n",
    "    return x + 1\n",
    "\n",
    "x = my_function(5)\n",
    "\"\"\")"
   ]
  },
  {
   "cell_type": "code",
   "execution_count": null,
   "id": "c3e10d1e",
   "metadata": {},
   "outputs": [],
   "source": [
    "nt = ast.NodeTransformer()\n",
    "nt.visit(node)"
   ]
  },
  {
   "cell_type": "code",
   "execution_count": null,
   "id": "b2c4142f",
   "metadata": {},
   "outputs": [],
   "source": [
    "nt = ast.NodeVisitor()\n",
    "nt.visit(node)"
   ]
  },
  {
   "cell_type": "code",
   "execution_count": null,
   "id": "b45823ca",
   "metadata": {},
   "outputs": [],
   "source": [
    "list(ast.iter_child_nodes(node.body[1]))"
   ]
  },
  {
   "cell_type": "code",
   "execution_count": null,
   "id": "a718dae1",
   "metadata": {},
   "outputs": [],
   "source": [
    "node.body[1].value.func.ctx"
   ]
  },
  {
   "cell_type": "code",
   "execution_count": null,
   "id": "7312b6fc",
   "metadata": {},
   "outputs": [],
   "source": [
    "node.body[0].__class__.__name__"
   ]
  },
  {
   "cell_type": "code",
   "execution_count": null,
   "id": "231f1a3d",
   "metadata": {},
   "outputs": [],
   "source": [
    "node.body[0]._fields"
   ]
  },
  {
   "cell_type": "code",
   "execution_count": null,
   "id": "81148f4b",
   "metadata": {},
   "outputs": [],
   "source": [
    "node.body[0].body[0].value._fields"
   ]
  },
  {
   "cell_type": "code",
   "execution_count": null,
   "id": "4a450f36",
   "metadata": {},
   "outputs": [],
   "source": [
    "visitor = ComponentVisitor()"
   ]
  },
  {
   "cell_type": "code",
   "execution_count": null,
   "id": "ae7226ee",
   "metadata": {},
   "outputs": [],
   "source": [
    "visitor.visit(tree)"
   ]
  },
  {
   "cell_type": "code",
   "execution_count": null,
   "id": "f86ab7d0",
   "metadata": {},
   "outputs": [],
   "source": [
    "pd.DataFrame(visitor.components)"
   ]
  },
  {
   "cell_type": "code",
   "execution_count": null,
   "id": "649bc81d",
   "metadata": {},
   "outputs": [],
   "source": [
    "type(tree.body[-1])"
   ]
  },
  {
   "cell_type": "code",
   "execution_count": null,
   "id": "c01f6ec4",
   "metadata": {},
   "outputs": [],
   "source": [
    "dict(ast.iter_fields(child_node))"
   ]
  },
  {
   "cell_type": "code",
   "execution_count": null,
   "id": "2e919220",
   "metadata": {},
   "outputs": [],
   "source": [
    "components = []\n",
    "for child_node in ast.iter_child_nodes(tree.body[-1]):\n",
    "    comp_i = {\n",
    "        \"component_type\": type(child_node).__name__\n",
    "    }\n",
    "    components.append(comp_i)\n",
    "\n",
    "components"
   ]
  },
  {
   "cell_type": "code",
   "execution_count": null,
   "id": "79e8ff08",
   "metadata": {},
   "outputs": [],
   "source": [
    "tree.body[-1].__dir__()"
   ]
  },
  {
   "cell_type": "code",
   "execution_count": null,
   "id": "afc61d6a",
   "metadata": {},
   "outputs": [],
   "source": []
  },
  {
   "cell_type": "code",
   "execution_count": null,
   "id": "836f8c24",
   "metadata": {},
   "outputs": [],
   "source": [
    "for item in ast.iter_fields(tree.body[-1].body[-1]):\n",
    "    print(item)"
   ]
  },
  {
   "cell_type": "code",
   "execution_count": null,
   "id": "eb91955e",
   "metadata": {},
   "outputs": [],
   "source": [
    "visitor.visit(tree.body[-1])"
   ]
  },
  {
   "cell_type": "code",
   "execution_count": null,
   "id": "ca2adbda",
   "metadata": {},
   "outputs": [],
   "source": [
    "ast.walk(visitor.visit(tree))"
   ]
  },
  {
   "cell_type": "code",
   "execution_count": null,
   "id": "cac97308",
   "metadata": {},
   "outputs": [],
   "source": [
    "for item in ast.walk(tree):\n",
    "    print(item)"
   ]
  },
  {
   "cell_type": "code",
   "execution_count": null,
   "id": "750796db",
   "metadata": {},
   "outputs": [],
   "source": [
    "visitor.visit_Constant(tree)"
   ]
  },
  {
   "cell_type": "code",
   "execution_count": null,
   "id": "2b642bac",
   "metadata": {},
   "outputs": [],
   "source": [
    "components = {}\n",
    "for field, value in ast.iter_fields(tree):\n",
    "    print(field, value)\n",
    "    if isinstance(value, str)"
   ]
  },
  {
   "cell_type": "code",
   "execution_count": null,
   "id": "0bf1ed17",
   "metadata": {},
   "outputs": [],
   "source": [
    "for item in ast.iter_child_nodes(transform_sys_tree):\n",
    "    print(item)"
   ]
  },
  {
   "cell_type": "code",
   "execution_count": null,
   "id": "61c1d237",
   "metadata": {},
   "outputs": [],
   "source": [
    "ast.get_source_segment(source, transform_sys_tree)"
   ]
  },
  {
   "cell_type": "code",
   "execution_count": null,
   "id": "2e2de8e6",
   "metadata": {},
   "outputs": [],
   "source": [
    "ast.get_docstring(transform_sys_tree)"
   ]
  },
  {
   "cell_type": "code",
   "execution_count": null,
   "id": "27060240",
   "metadata": {},
   "outputs": [],
   "source": [
    "isinstance(transform_sys_tree, ast.AST)"
   ]
  },
  {
   "cell_type": "code",
   "execution_count": null,
   "id": "704eab93",
   "metadata": {},
   "outputs": [],
   "source": []
  }
 ],
 "metadata": {
  "kernelspec": {
   "display_name": "iac-sketch",
   "language": "python",
   "name": "python3"
  },
  "language_info": {
   "codemirror_mode": {
    "name": "ipython",
    "version": 3
   },
   "file_extension": ".py",
   "mimetype": "text/x-python",
   "name": "python",
   "nbconvert_exporter": "python",
   "pygments_lexer": "ipython3",
   "version": "3.13.1"
  }
 },
 "nbformat": 4,
 "nbformat_minor": 5
}
