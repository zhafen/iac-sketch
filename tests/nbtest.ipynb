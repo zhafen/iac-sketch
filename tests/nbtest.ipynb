{
 "cells": [
  {
   "cell_type": "code",
   "execution_count": null,
   "id": "b360b827",
   "metadata": {},
   "outputs": [],
   "source": [
    "import pandas as pd\n",
    "import networkx as nx"
   ]
  },
  {
   "cell_type": "code",
   "execution_count": 1,
   "id": "5c5aebc7",
   "metadata": {},
   "outputs": [],
   "source": [
    "from iac_sketch import data, etl, sketch, transform, validate"
   ]
  },
  {
   "cell_type": "code",
   "execution_count": 2,
   "id": "ac98ff0e",
   "metadata": {},
   "outputs": [
    {
     "data": {
      "text/plain": [
       "<module 'iac_sketch.validate' from '/Users/zhafen/repos/iac-sketch/iac_sketch/validate.py'>"
      ]
     },
     "execution_count": 2,
     "metadata": {},
     "output_type": "execute_result"
    }
   ],
   "source": [
    "# DEBUG\n",
    "import importlib\n",
    "\n",
    "importlib.reload(data)\n",
    "importlib.reload(etl)\n",
    "importlib.reload(sketch)\n",
    "importlib.reload(transform)\n",
    "importlib.reload(validate)\n",
    "# architect = sketch.Architect(\"../public/components\")\n",
    "# registry = architect.parse()"
   ]
  },
  {
   "cell_type": "code",
   "execution_count": 3,
   "id": "a9cb4793",
   "metadata": {},
   "outputs": [],
   "source": [
    "import pandera.pandas as pa"
   ]
  },
  {
   "cell_type": "code",
   "execution_count": 4,
   "id": "e55a921c",
   "metadata": {},
   "outputs": [
    {
     "data": {
      "text/plain": [
       "<iac_sketch.data.Registry at 0x10d1fe900>"
      ]
     },
     "execution_count": 4,
     "metadata": {},
     "output_type": "execute_result"
    }
   ],
   "source": [
    "extract_sys = etl.ExtractSystem()\n",
    "registry = extract_sys.extract_entities(\"../public/components/*yaml\")\n",
    "registry"
   ]
  },
  {
   "cell_type": "code",
   "execution_count": 5,
   "id": "da8a5c88",
   "metadata": {},
   "outputs": [
    {
     "data": {
      "text/plain": [
       "<iac_sketch.data.Registry at 0x11b882650>"
      ]
     },
     "execution_count": 5,
     "metadata": {},
     "output_type": "execute_result"
    }
   ],
   "source": [
    "transform_sys = etl.TransformSystem()\n",
    "registry = transform_sys.apply_preprocess_transforms(registry)\n",
    "registry"
   ]
  },
  {
   "cell_type": "code",
   "execution_count": 6,
   "id": "1fcf0da7",
   "metadata": {},
   "outputs": [
    {
     "data": {
      "application/vnd.microsoft.datawrangler.viewer.v0+json": {
       "columns": [
        {
         "name": "entity",
         "rawType": "object",
         "type": "string"
        },
        {
         "name": "value",
         "rawType": "object",
         "type": "unknown"
        },
        {
         "name": "value_description",
         "rawType": "object",
         "type": "unknown"
        },
        {
         "name": "value_status",
         "rawType": "object",
         "type": "unknown"
        }
       ],
       "ref": "6e7e9996-11d6-4d7e-9dc5-20a279075e7f",
       "rows": [
        [
         "accept_request",
         null,
         "We should be able to receive and assign a request, initiating the process.\n",
         "in design"
        ],
        [
         "archive_data_products",
         null,
         "We want to be able to archive some of a table's history for data quality purposes.\n",
         "new"
        ],
        [
         "audit_cohorts",
         null,
         "Users must able to identify what patients were in a given cohort at a given date.\n",
         "new"
        ],
        [
         "deliver_report_req",
         null,
         "After completing the request, viewers should be able to access the report products at their preferred time.\n",
         "new"
        ],
        [
         "formatted_correctly",
         null,
         "The manifest must be formatted correctly.",
         null
        ],
        [
         "framework_manifest_data",
         null,
         "We need the decisions that make up the framework detailed as some form of data. This data needs to pass the validation tests.",
         "in design"
        ],
        [
         "framework_manifest_documentation",
         null,
         "We need to convert the manifest data into useable documentation.",
         "new"
        ],
        [
         "fulfills_all_requirements",
         null,
         "All requirements must be met.",
         null
        ],
        [
         "fully_connected",
         null,
         "No entities can exist in isolation. They must relate to other entities in at least one or more ways.\n",
         null
        ],
        [
         "handles_testcases",
         null,
         "{'value': None}",
         null
        ],
        [
         "power_users",
         null,
         "The framework needs to be usable by power users.",
         "new"
        ],
        [
         "tasks_implemented",
         null,
         "All tasks in the manifest must be implemented.",
         null
        ]
       ],
       "shape": {
        "columns": 3,
        "rows": 12
       }
      },
      "text/html": [
       "<div>\n",
       "<style scoped>\n",
       "    .dataframe tbody tr th:only-of-type {\n",
       "        vertical-align: middle;\n",
       "    }\n",
       "\n",
       "    .dataframe tbody tr th {\n",
       "        vertical-align: top;\n",
       "    }\n",
       "\n",
       "    .dataframe thead th {\n",
       "        text-align: right;\n",
       "    }\n",
       "</style>\n",
       "<table border=\"1\" class=\"dataframe\">\n",
       "  <thead>\n",
       "    <tr style=\"text-align: right;\">\n",
       "      <th></th>\n",
       "      <th>value</th>\n",
       "      <th>value_description</th>\n",
       "      <th>value_status</th>\n",
       "    </tr>\n",
       "    <tr>\n",
       "      <th>entity</th>\n",
       "      <th></th>\n",
       "      <th></th>\n",
       "      <th></th>\n",
       "    </tr>\n",
       "  </thead>\n",
       "  <tbody>\n",
       "    <tr>\n",
       "      <th>accept_request</th>\n",
       "      <td>&lt;NA&gt;</td>\n",
       "      <td>We should be able to receive and assign a requ...</td>\n",
       "      <td>in design</td>\n",
       "    </tr>\n",
       "    <tr>\n",
       "      <th>archive_data_products</th>\n",
       "      <td>&lt;NA&gt;</td>\n",
       "      <td>We want to be able to archive some of a table'...</td>\n",
       "      <td>new</td>\n",
       "    </tr>\n",
       "    <tr>\n",
       "      <th>audit_cohorts</th>\n",
       "      <td>&lt;NA&gt;</td>\n",
       "      <td>Users must able to identify what patients were...</td>\n",
       "      <td>new</td>\n",
       "    </tr>\n",
       "    <tr>\n",
       "      <th>deliver_report_req</th>\n",
       "      <td>&lt;NA&gt;</td>\n",
       "      <td>After completing the request, viewers should b...</td>\n",
       "      <td>new</td>\n",
       "    </tr>\n",
       "    <tr>\n",
       "      <th>formatted_correctly</th>\n",
       "      <td>&lt;NA&gt;</td>\n",
       "      <td>The manifest must be formatted correctly.</td>\n",
       "      <td>NaN</td>\n",
       "    </tr>\n",
       "    <tr>\n",
       "      <th>framework_manifest_data</th>\n",
       "      <td>&lt;NA&gt;</td>\n",
       "      <td>We need the decisions that make up the framewo...</td>\n",
       "      <td>in design</td>\n",
       "    </tr>\n",
       "    <tr>\n",
       "      <th>framework_manifest_documentation</th>\n",
       "      <td>&lt;NA&gt;</td>\n",
       "      <td>We need to convert the manifest data into usea...</td>\n",
       "      <td>new</td>\n",
       "    </tr>\n",
       "    <tr>\n",
       "      <th>fulfills_all_requirements</th>\n",
       "      <td>&lt;NA&gt;</td>\n",
       "      <td>All requirements must be met.</td>\n",
       "      <td>NaN</td>\n",
       "    </tr>\n",
       "    <tr>\n",
       "      <th>fully_connected</th>\n",
       "      <td>&lt;NA&gt;</td>\n",
       "      <td>No entities can exist in isolation. They must ...</td>\n",
       "      <td>NaN</td>\n",
       "    </tr>\n",
       "    <tr>\n",
       "      <th>handles_testcases</th>\n",
       "      <td>&lt;NA&gt;</td>\n",
       "      <td>{'value': None}</td>\n",
       "      <td>NaN</td>\n",
       "    </tr>\n",
       "    <tr>\n",
       "      <th>power_users</th>\n",
       "      <td>&lt;NA&gt;</td>\n",
       "      <td>The framework needs to be usable by power users.</td>\n",
       "      <td>new</td>\n",
       "    </tr>\n",
       "    <tr>\n",
       "      <th>tasks_implemented</th>\n",
       "      <td>&lt;NA&gt;</td>\n",
       "      <td>All tasks in the manifest must be implemented.</td>\n",
       "      <td>NaN</td>\n",
       "    </tr>\n",
       "  </tbody>\n",
       "</table>\n",
       "</div>"
      ],
      "text/plain": [
       "                                 value  \\\n",
       "entity                                   \n",
       "accept_request                    <NA>   \n",
       "archive_data_products             <NA>   \n",
       "audit_cohorts                     <NA>   \n",
       "deliver_report_req                <NA>   \n",
       "formatted_correctly               <NA>   \n",
       "framework_manifest_data           <NA>   \n",
       "framework_manifest_documentation  <NA>   \n",
       "fulfills_all_requirements         <NA>   \n",
       "fully_connected                   <NA>   \n",
       "handles_testcases                 <NA>   \n",
       "power_users                       <NA>   \n",
       "tasks_implemented                 <NA>   \n",
       "\n",
       "                                                                  value_description  \\\n",
       "entity                                                                                \n",
       "accept_request                    We should be able to receive and assign a requ...   \n",
       "archive_data_products             We want to be able to archive some of a table'...   \n",
       "audit_cohorts                     Users must able to identify what patients were...   \n",
       "deliver_report_req                After completing the request, viewers should b...   \n",
       "formatted_correctly                       The manifest must be formatted correctly.   \n",
       "framework_manifest_data           We need the decisions that make up the framewo...   \n",
       "framework_manifest_documentation  We need to convert the manifest data into usea...   \n",
       "fulfills_all_requirements                             All requirements must be met.   \n",
       "fully_connected                   No entities can exist in isolation. They must ...   \n",
       "handles_testcases                                                   {'value': None}   \n",
       "power_users                        The framework needs to be usable by power users.   \n",
       "tasks_implemented                    All tasks in the manifest must be implemented.   \n",
       "\n",
       "                                 value_status  \n",
       "entity                                         \n",
       "accept_request                      in design  \n",
       "archive_data_products                     new  \n",
       "audit_cohorts                             new  \n",
       "deliver_report_req                        new  \n",
       "formatted_correctly                       NaN  \n",
       "framework_manifest_data             in design  \n",
       "framework_manifest_documentation          new  \n",
       "fulfills_all_requirements                 NaN  \n",
       "fully_connected                           NaN  \n",
       "handles_testcases                         NaN  \n",
       "power_users                               new  \n",
       "tasks_implemented                         NaN  "
      ]
     },
     "execution_count": 6,
     "metadata": {},
     "output_type": "execute_result"
    }
   ],
   "source": [
    "reqs = registry.view([\"requirement\", \"description\", \"status\"])\n",
    "reqs.query(\"value_status not in ['deployed']\")"
   ]
  },
  {
   "cell_type": "code",
   "execution_count": null,
   "id": "e73de676",
   "metadata": {},
   "outputs": [],
   "source": [
    "# Query links where entity is \"accept_request\", and repeat for each link"
   ]
  },
  {
   "cell_type": "code",
   "execution_count": null,
   "id": "5ff529d6",
   "metadata": {},
   "outputs": [],
   "source": [
    "validation_sys = validate.ValidationSystem()\n",
    "invalid_reqs = validation_sys.validate_requirements(registry)\n",
    "invalid_reqs"
   ]
  },
  {
   "cell_type": "code",
   "execution_count": null,
   "id": "614eacf7",
   "metadata": {},
   "outputs": [],
   "source": [
    "validation_sys = validate.ValidationSystem()\n",
    "invalid_comps = validation_sys.validate_components(registry)\n",
    "invalid_comps"
   ]
  },
  {
   "cell_type": "code",
   "execution_count": null,
   "id": "9a78a69f",
   "metadata": {},
   "outputs": [],
   "source": [
    "registry.view(\"compinst\")"
   ]
  },
  {
   "cell_type": "code",
   "execution_count": null,
   "id": "581f6f5f",
   "metadata": {},
   "outputs": [],
   "source": [
    "registry.view([\"compdef\", \"metadata\"]).query(\"~valid\")"
   ]
  },
  {
   "cell_type": "code",
   "execution_count": null,
   "id": "cd98f50a",
   "metadata": {},
   "outputs": [],
   "source": [
    "transform_sys = etl.TransformSystem()\n",
    "registry = transform_sys.apply_preprocess_transforms(registry)"
   ]
  },
  {
   "cell_type": "code",
   "execution_count": null,
   "id": "ea824c4b",
   "metadata": {},
   "outputs": [],
   "source": [
    "# Create a directed graph from the DataFrame\n",
    "graph = nx.from_pandas_edgelist(\n",
    "    registry[\"link\"],\n",
    "    source=\"source\",\n",
    "    target=\"target\",\n",
    "    edge_key=\"link_type\",\n",
    "    create_using=nx.DiGraph,\n",
    ")\n",
    "\n",
    "# Visualize the graph\n",
    "nx.draw(graph, with_labels=True)"
   ]
  },
  {
   "cell_type": "code",
   "execution_count": null,
   "id": "3886c192",
   "metadata": {},
   "outputs": [],
   "source": [
    "graph.add_nodes_from(registry[\"metadata\"][\"entity\"].values)"
   ]
  },
  {
   "cell_type": "code",
   "execution_count": null,
   "id": "c34e0022",
   "metadata": {},
   "outputs": [],
   "source": [
    "connected_components = [_ for _ in nx.connected_components(graph.to_undirected())]\n",
    "metadata = registry[\"metadata\"].set_index(\"entity\")\n",
    "metadata[\"connected_component_category\"] = -1\n",
    "for i, comps in enumerate(connected_components):\n",
    "    metadata.loc[list(comps), \"connected_component_category\"] = i"
   ]
  },
  {
   "cell_type": "code",
   "execution_count": null,
   "id": "4f36f99f",
   "metadata": {},
   "outputs": [],
   "source": [
    "pair_connectivity = nx.all_pairs_node_connectivity(graph)"
   ]
  },
  {
   "cell_type": "code",
   "execution_count": null,
   "id": "35d124af",
   "metadata": {},
   "outputs": [],
   "source": [
    "sum(pair_connectivity[\"accept_request\"].values()) > 0"
   ]
  },
  {
   "cell_type": "code",
   "execution_count": null,
   "id": "49780048",
   "metadata": {},
   "outputs": [],
   "source": [
    "# Find invalid requirements\n",
    "reqs = registry.view([\"requirement\", \"status\", \"task\", \"input\"])\n",
    "is_valid = reqs[\"status\"].isin([\"closed\", \"removed\"])\n",
    "invalid_reqs = reqs.loc[~is_valid]\n",
    "invalid_reqs"
   ]
  },
  {
   "cell_type": "code",
   "execution_count": null,
   "id": "ec4b2c73",
   "metadata": {},
   "outputs": [],
   "source": [
    "# Find invalid testcases\n",
    "registry.view([\"testcase\", \"status\"])"
   ]
  },
  {
   "cell_type": "code",
   "execution_count": null,
   "id": "9bb0927a",
   "metadata": {},
   "outputs": [],
   "source": [
    "import base64\n",
    "import io, requests\n",
    "from IPython.display import Image, display\n",
    "from PIL import Image as im\n",
    "import matplotlib.pyplot as plt"
   ]
  },
  {
   "cell_type": "code",
   "execution_count": null,
   "id": "c9a98519",
   "metadata": {},
   "outputs": [],
   "source": [
    "def mm(graph):\n",
    "    graphbytes = graph.encode(\"utf8\")\n",
    "    base64_bytes = base64.urlsafe_b64encode(graphbytes)\n",
    "    base64_string = base64_bytes.decode(\"ascii\")\n",
    "    img = im.open(\n",
    "        io.BytesIO(requests.get(\"https://mermaid.ink/img/\" + base64_string).content)\n",
    "    )\n",
    "    plt.imshow(img)\n",
    "    plt.axis(\"off\")  # allow to hide axis"
   ]
  },
  {
   "cell_type": "code",
   "execution_count": null,
   "id": "01bd53ba",
   "metadata": {},
   "outputs": [],
   "source": [
    "graph = \"\"\"\n",
    "graph LR;\n",
    "    A--> B & C & D\n",
    "    B--> A & E\n",
    "    C--> A & E\n",
    "    D--> A\n",
    "    E--> B & C & D\n",
    "\"\"\""
   ]
  },
  {
   "cell_type": "code",
   "execution_count": null,
   "id": "508777ce",
   "metadata": {},
   "outputs": [],
   "source": []
  },
  {
   "cell_type": "code",
   "execution_count": null,
   "id": "352366e6",
   "metadata": {},
   "outputs": [],
   "source": [
    "graphbytes = graph.encode(\"utf8\")\n",
    "base64_bytes = base64.urlsafe_b64encode(graphbytes)\n",
    "base64_string = base64_bytes.decode(\"ascii\")\n",
    "result = requests.get(\"https://mermaid.ink/img/\" + base64_string).content\n",
    "parsed_result = io.BytesIO(result)\n",
    "img = im.open(parsed_result)\n",
    "img"
   ]
  },
  {
   "cell_type": "code",
   "execution_count": null,
   "id": "ac6a74ed",
   "metadata": {},
   "outputs": [],
   "source": [
    "mm(\n",
    "    \"\"\"\n",
    "flowchart LR;\n",
    "    A--> B & C & D\n",
    "    B--> A & E\n",
    "    C--> A & E\n",
    "    D--> A & E\n",
    "    E--> B & C & D\n",
    "\"\"\"\n",
    ")"
   ]
  },
  {
   "cell_type": "code",
   "execution_count": null,
   "id": "eb3535dc",
   "metadata": {},
   "outputs": [],
   "source": []
  }
 ],
 "metadata": {
  "kernelspec": {
   "display_name": "iac-sketch (3.13.1)",
   "language": "python",
   "name": "python3"
  },
  "language_info": {
   "codemirror_mode": {
    "name": "ipython",
    "version": 3
   },
   "file_extension": ".py",
   "mimetype": "text/x-python",
   "name": "python",
   "nbconvert_exporter": "python",
   "pygments_lexer": "ipython3",
   "version": "3.13.1"
  }
 },
 "nbformat": 4,
 "nbformat_minor": 5
}
