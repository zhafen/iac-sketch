{
 "cells": [
  {
   "cell_type": "code",
   "execution_count": 1,
   "id": "b360b827",
   "metadata": {},
   "outputs": [],
   "source": [
    "import pandas as pd\n",
    "import networkx as nx"
   ]
  },
  {
   "cell_type": "code",
   "execution_count": 2,
   "id": "5c5aebc7",
   "metadata": {},
   "outputs": [],
   "source": [
    "from iac_sketch import data, etl, sketch, transform, system_tests\n",
    "from iac_sketch.extract import extract_python, extract_yaml"
   ]
  },
  {
   "cell_type": "code",
   "execution_count": 6,
   "id": "ac98ff0e",
   "metadata": {},
   "outputs": [
    {
     "data": {
      "text/plain": [
       "<module 'iac_sketch.sketch' from '/Users/zhafen/repos/iac-sketch/iac_sketch/sketch.py'>"
      ]
     },
     "execution_count": 6,
     "metadata": {},
     "output_type": "execute_result"
    }
   ],
   "source": [
    "# DEBUG\n",
    "import importlib\n",
    "\n",
    "importlib.reload(extract_yaml)\n",
    "importlib.reload(extract_python)\n",
    "importlib.reload(etl)\n",
    "importlib.reload(data)\n",
    "importlib.reload(transform)\n",
    "importlib.reload(system_tests)\n",
    "importlib.reload(sketch)"
   ]
  },
  {
   "cell_type": "code",
   "execution_count": null,
   "id": "686a2af6",
   "metadata": {},
   "outputs": [],
   "source": [
    "architect = sketch.Architect(root_dir=os.path.abspath(\"...\"))\n",
    "registry = architect.perform_registry_etl()\n",
    "tests, test_results = architect.validate_registry()"
   ]
  },
  {
   "cell_type": "code",
   "execution_count": 8,
   "id": "d3e12b73",
   "metadata": {},
   "outputs": [
    {
     "data": {
      "text/html": [
       "<div>\n",
       "<style scoped>\n",
       "    .dataframe tbody tr th:only-of-type {\n",
       "        vertical-align: middle;\n",
       "    }\n",
       "\n",
       "    .dataframe tbody tr th {\n",
       "        vertical-align: top;\n",
       "    }\n",
       "\n",
       "    .dataframe thead th {\n",
       "        text-align: right;\n",
       "    }\n",
       "</style>\n",
       "<table border=\"1\" class=\"dataframe\">\n",
       "  <thead>\n",
       "    <tr style=\"text-align: right;\">\n",
       "      <th></th>\n",
       "      <th>comp_key</th>\n",
       "      <th>source</th>\n",
       "      <th>n_comps</th>\n",
       "    </tr>\n",
       "    <tr>\n",
       "      <th>entity</th>\n",
       "      <th></th>\n",
       "      <th></th>\n",
       "      <th></th>\n",
       "    </tr>\n",
       "  </thead>\n",
       "  <tbody>\n",
       "    <tr>\n",
       "      <th>../iac_sketch/extract.extract_python.PythonExtractor</th>\n",
       "      <td>2</td>\n",
       "      <td>docstring</td>\n",
       "      <td>3</td>\n",
       "    </tr>\n",
       "    <tr>\n",
       "      <th>Call</th>\n",
       "      <td>3</td>\n",
       "      <td>../base_manifest/python.yaml</td>\n",
       "      <td>4</td>\n",
       "    </tr>\n",
       "    <tr>\n",
       "      <th>ClassDef</th>\n",
       "      <td>3</td>\n",
       "      <td>../base_manifest/python.yaml</td>\n",
       "      <td>4</td>\n",
       "    </tr>\n",
       "    <tr>\n",
       "      <th>FunctionDef</th>\n",
       "      <td>4</td>\n",
       "      <td>../base_manifest/python.yaml</td>\n",
       "      <td>5</td>\n",
       "    </tr>\n",
       "    <tr>\n",
       "      <th>Import</th>\n",
       "      <td>3</td>\n",
       "      <td>../base_manifest/python.yaml</td>\n",
       "      <td>4</td>\n",
       "    </tr>\n",
       "    <tr>\n",
       "      <th>...</th>\n",
       "      <td>...</td>\n",
       "      <td>...</td>\n",
       "      <td>...</td>\n",
       "    </tr>\n",
       "    <tr>\n",
       "      <th>test_executes_tests</th>\n",
       "      <td>3</td>\n",
       "      <td>../base_manifest/system.yaml</td>\n",
       "      <td>4</td>\n",
       "    </tr>\n",
       "    <tr>\n",
       "      <th>test_perform_registry_etl</th>\n",
       "      <td>3</td>\n",
       "      <td>../base_manifest/system.yaml</td>\n",
       "      <td>4</td>\n",
       "    </tr>\n",
       "    <tr>\n",
       "      <th>todo</th>\n",
       "      <td>3</td>\n",
       "      <td>../base_manifest/requirements.yaml</td>\n",
       "      <td>4</td>\n",
       "    </tr>\n",
       "    <tr>\n",
       "      <th>url</th>\n",
       "      <td>3</td>\n",
       "      <td>../base_manifest/objects.yaml</td>\n",
       "      <td>4</td>\n",
       "    </tr>\n",
       "    <tr>\n",
       "      <th>validate_compinsts</th>\n",
       "      <td>3</td>\n",
       "      <td>../base_manifest/system.yaml</td>\n",
       "      <td>4</td>\n",
       "    </tr>\n",
       "  </tbody>\n",
       "</table>\n",
       "<p>68 rows × 3 columns</p>\n",
       "</div>"
      ],
      "text/plain": [
       "                                                   comp_key  \\\n",
       "entity                                                        \n",
       "../iac_sketch/extract.extract_python.PythonExtr...        2   \n",
       "Call                                                      3   \n",
       "ClassDef                                                  3   \n",
       "FunctionDef                                               4   \n",
       "Import                                                    3   \n",
       "...                                                     ...   \n",
       "test_executes_tests                                       3   \n",
       "test_perform_registry_etl                                 3   \n",
       "todo                                                      3   \n",
       "url                                                       3   \n",
       "validate_compinsts                                        3   \n",
       "\n",
       "                                                                                source  \\\n",
       "entity                                                                                   \n",
       "../iac_sketch/extract.extract_python.PythonExtr...                           docstring   \n",
       "Call                                                      ../base_manifest/python.yaml   \n",
       "ClassDef                                                  ../base_manifest/python.yaml   \n",
       "FunctionDef                                               ../base_manifest/python.yaml   \n",
       "Import                                                    ../base_manifest/python.yaml   \n",
       "...                                                                                ...   \n",
       "test_executes_tests                                       ../base_manifest/system.yaml   \n",
       "test_perform_registry_etl                                 ../base_manifest/system.yaml   \n",
       "todo                                                ../base_manifest/requirements.yaml   \n",
       "url                                                      ../base_manifest/objects.yaml   \n",
       "validate_compinsts                                        ../base_manifest/system.yaml   \n",
       "\n",
       "                                                    n_comps  \n",
       "entity                                                       \n",
       "../iac_sketch/extract.extract_python.PythonExtr...        3  \n",
       "Call                                                      4  \n",
       "ClassDef                                                  4  \n",
       "FunctionDef                                               5  \n",
       "Import                                                    4  \n",
       "...                                                     ...  \n",
       "test_executes_tests                                       4  \n",
       "test_perform_registry_etl                                 4  \n",
       "todo                                                      4  \n",
       "url                                                       4  \n",
       "validate_compinsts                                        4  \n",
       "\n",
       "[68 rows x 3 columns]"
      ]
     },
     "execution_count": 8,
     "metadata": {},
     "output_type": "execute_result"
    }
   ],
   "source": [
    "registry.view(\"metadata\")"
   ]
  },
  {
   "cell_type": "code",
   "execution_count": 11,
   "id": "4862d027",
   "metadata": {},
   "outputs": [
    {
     "data": {
      "text/plain": [
       "'/Users/zhafen/repos/iac-sketch/tests'"
      ]
     },
     "execution_count": 11,
     "metadata": {},
     "output_type": "execute_result"
    }
   ],
   "source": [
    "import os\n",
    "os.getcwd()"
   ]
  },
  {
   "cell_type": "code",
   "execution_count": 10,
   "id": "c3cbc24a",
   "metadata": {},
   "outputs": [
    {
     "data": {
      "text/plain": [
       "['/Users/zhafen/repos/iac-sketch/base_manifest/requirements.yaml',\n",
       " '/Users/zhafen/repos/iac-sketch/base_manifest/relationships.yaml',\n",
       " '/Users/zhafen/repos/iac-sketch/base_manifest/components.yaml',\n",
       " '/Users/zhafen/repos/iac-sketch/base_manifest/python.yaml',\n",
       " '/Users/zhafen/repos/iac-sketch/base_manifest/system.yaml',\n",
       " '/Users/zhafen/repos/iac-sketch/base_manifest/objects.yaml',\n",
       " '/Users/zhafen/repos/iac-sketch/iac_sketch/extract/__init__.py',\n",
       " '/Users/zhafen/repos/iac-sketch/iac_sketch/extract/extract_python.py',\n",
       " '/Users/zhafen/repos/iac-sketch/iac_sketch/extract/extract_yaml.py']"
      ]
     },
     "execution_count": 10,
     "metadata": {},
     "output_type": "execute_result"
    }
   ],
   "source": [
    "architect.extract_sys.filenames"
   ]
  },
  {
   "cell_type": "code",
   "execution_count": 5,
   "id": "f35629b9",
   "metadata": {},
   "outputs": [
    {
     "data": {
      "text/html": [
       "<div>\n",
       "<style scoped>\n",
       "    .dataframe tbody tr th:only-of-type {\n",
       "        vertical-align: middle;\n",
       "    }\n",
       "\n",
       "    .dataframe tbody tr th {\n",
       "        vertical-align: top;\n",
       "    }\n",
       "\n",
       "    .dataframe thead th {\n",
       "        text-align: right;\n",
       "    }\n",
       "</style>\n",
       "<table border=\"1\" class=\"dataframe\">\n",
       "  <thead>\n",
       "    <tr style=\"text-align: right;\">\n",
       "      <th></th>\n",
       "      <th>test.comp_key</th>\n",
       "      <th>test.value</th>\n",
       "      <th>code.value</th>\n",
       "      <th>satisfies.value</th>\n",
       "    </tr>\n",
       "    <tr>\n",
       "      <th>entity</th>\n",
       "      <th></th>\n",
       "      <th></th>\n",
       "      <th></th>\n",
       "      <th></th>\n",
       "    </tr>\n",
       "  </thead>\n",
       "  <tbody>\n",
       "    <tr>\n",
       "      <th>test_executes_tests</th>\n",
       "      <td>1</td>\n",
       "      <td>&lt;NA&gt;</td>\n",
       "      <td>NaN</td>\n",
       "      <td>can_execute_tests</td>\n",
       "    </tr>\n",
       "    <tr>\n",
       "      <th>test_perform_registry_etl</th>\n",
       "      <td>1</td>\n",
       "      <td>&lt;NA&gt;</td>\n",
       "      <td>NaN</td>\n",
       "      <td>can_perform_registry_etl</td>\n",
       "    </tr>\n",
       "  </tbody>\n",
       "</table>\n",
       "</div>"
      ],
      "text/plain": [
       "                          test.comp_key test.value code.value  \\\n",
       "entity                                                          \n",
       "test_executes_tests                   1       <NA>        NaN   \n",
       "test_perform_registry_etl             1       <NA>        NaN   \n",
       "\n",
       "                                    satisfies.value  \n",
       "entity                                               \n",
       "test_executes_tests               can_execute_tests  \n",
       "test_perform_registry_etl  can_perform_registry_etl  "
      ]
     },
     "execution_count": 5,
     "metadata": {},
     "output_type": "execute_result"
    }
   ],
   "source": [
    "registry.view([\"test\", \"code\", \"satisfies\"])"
   ]
  },
  {
   "cell_type": "code",
   "execution_count": null,
   "id": "ea824c4b",
   "metadata": {},
   "outputs": [],
   "source": [
    "# Visualize the graph\n",
    "nx.draw(registry.graph, with_labels=True)"
   ]
  },
  {
   "cell_type": "code",
   "execution_count": null,
   "id": "5a7304c2",
   "metadata": {},
   "outputs": [],
   "source": [
    "import ast"
   ]
  },
  {
   "cell_type": "code",
   "execution_count": null,
   "id": "69a35d09",
   "metadata": {},
   "outputs": [],
   "source": [
    "with open(\"../iac_sketch/etl.py\", \"r\") as f:\n",
    "    source = f.read()\n",
    "tree = ast.parse(source)\n",
    "tree"
   ]
  },
  {
   "cell_type": "code",
   "execution_count": null,
   "id": "34d31dae",
   "metadata": {},
   "outputs": [],
   "source": [
    "list(ast.iter_child_nodes(tree))"
   ]
  },
  {
   "cell_type": "code",
   "execution_count": null,
   "id": "c4184b51",
   "metadata": {},
   "outputs": [],
   "source": [
    "import ast"
   ]
  },
  {
   "cell_type": "code",
   "execution_count": null,
   "id": "eb9e4bba",
   "metadata": {},
   "outputs": [],
   "source": [
    "node = ast.parse(\"\"\"\n",
    "def my_function(x) -> int:\n",
    "    return x + 1\n",
    "\n",
    "x = my_function(5)\n",
    "\"\"\")"
   ]
  },
  {
   "cell_type": "code",
   "execution_count": null,
   "id": "c3e10d1e",
   "metadata": {},
   "outputs": [],
   "source": [
    "nt = ast.NodeTransformer()\n",
    "nt.visit(node)"
   ]
  },
  {
   "cell_type": "code",
   "execution_count": null,
   "id": "b2c4142f",
   "metadata": {},
   "outputs": [],
   "source": [
    "nt = ast.NodeVisitor()\n",
    "nt.visit(node)"
   ]
  },
  {
   "cell_type": "code",
   "execution_count": null,
   "id": "b45823ca",
   "metadata": {},
   "outputs": [],
   "source": [
    "list(ast.iter_child_nodes(node.body[1]))"
   ]
  },
  {
   "cell_type": "code",
   "execution_count": null,
   "id": "a718dae1",
   "metadata": {},
   "outputs": [],
   "source": [
    "node.body[1].value.func.ctx"
   ]
  },
  {
   "cell_type": "code",
   "execution_count": null,
   "id": "7312b6fc",
   "metadata": {},
   "outputs": [],
   "source": [
    "node.body[0].__class__.__name__"
   ]
  },
  {
   "cell_type": "code",
   "execution_count": null,
   "id": "231f1a3d",
   "metadata": {},
   "outputs": [],
   "source": [
    "node.body[0]._fields"
   ]
  },
  {
   "cell_type": "code",
   "execution_count": null,
   "id": "81148f4b",
   "metadata": {},
   "outputs": [],
   "source": [
    "node.body[0].body[0].value._fields"
   ]
  },
  {
   "cell_type": "code",
   "execution_count": null,
   "id": "4a450f36",
   "metadata": {},
   "outputs": [],
   "source": [
    "visitor = ComponentVisitor()"
   ]
  },
  {
   "cell_type": "code",
   "execution_count": null,
   "id": "ae7226ee",
   "metadata": {},
   "outputs": [],
   "source": [
    "visitor.visit(tree)"
   ]
  },
  {
   "cell_type": "code",
   "execution_count": null,
   "id": "f86ab7d0",
   "metadata": {},
   "outputs": [],
   "source": [
    "pd.DataFrame(visitor.components)"
   ]
  },
  {
   "cell_type": "code",
   "execution_count": null,
   "id": "649bc81d",
   "metadata": {},
   "outputs": [],
   "source": [
    "type(tree.body[-1])"
   ]
  },
  {
   "cell_type": "code",
   "execution_count": null,
   "id": "c01f6ec4",
   "metadata": {},
   "outputs": [],
   "source": [
    "dict(ast.iter_fields(child_node))"
   ]
  },
  {
   "cell_type": "code",
   "execution_count": null,
   "id": "2e919220",
   "metadata": {},
   "outputs": [],
   "source": [
    "components = []\n",
    "for child_node in ast.iter_child_nodes(tree.body[-1]):\n",
    "    comp_i = {\n",
    "        \"component_type\": type(child_node).__name__\n",
    "    }\n",
    "    components.append(comp_i)\n",
    "\n",
    "components"
   ]
  },
  {
   "cell_type": "code",
   "execution_count": null,
   "id": "79e8ff08",
   "metadata": {},
   "outputs": [],
   "source": [
    "tree.body[-1].__dir__()"
   ]
  },
  {
   "cell_type": "code",
   "execution_count": null,
   "id": "afc61d6a",
   "metadata": {},
   "outputs": [],
   "source": []
  },
  {
   "cell_type": "code",
   "execution_count": null,
   "id": "836f8c24",
   "metadata": {},
   "outputs": [],
   "source": [
    "for item in ast.iter_fields(tree.body[-1].body[-1]):\n",
    "    print(item)"
   ]
  },
  {
   "cell_type": "code",
   "execution_count": null,
   "id": "eb91955e",
   "metadata": {},
   "outputs": [],
   "source": [
    "visitor.visit(tree.body[-1])"
   ]
  },
  {
   "cell_type": "code",
   "execution_count": null,
   "id": "ca2adbda",
   "metadata": {},
   "outputs": [],
   "source": [
    "ast.walk(visitor.visit(tree))"
   ]
  },
  {
   "cell_type": "code",
   "execution_count": null,
   "id": "cac97308",
   "metadata": {},
   "outputs": [],
   "source": [
    "for item in ast.walk(tree):\n",
    "    print(item)"
   ]
  },
  {
   "cell_type": "code",
   "execution_count": null,
   "id": "750796db",
   "metadata": {},
   "outputs": [],
   "source": [
    "visitor.visit_Constant(tree)"
   ]
  },
  {
   "cell_type": "code",
   "execution_count": null,
   "id": "2b642bac",
   "metadata": {},
   "outputs": [],
   "source": [
    "components = {}\n",
    "for field, value in ast.iter_fields(tree):\n",
    "    print(field, value)\n",
    "    if isinstance(value, str)"
   ]
  },
  {
   "cell_type": "code",
   "execution_count": null,
   "id": "0bf1ed17",
   "metadata": {},
   "outputs": [],
   "source": [
    "for item in ast.iter_child_nodes(transform_sys_tree):\n",
    "    print(item)"
   ]
  },
  {
   "cell_type": "code",
   "execution_count": null,
   "id": "61c1d237",
   "metadata": {},
   "outputs": [],
   "source": [
    "ast.get_source_segment(source, transform_sys_tree)"
   ]
  },
  {
   "cell_type": "code",
   "execution_count": null,
   "id": "2e2de8e6",
   "metadata": {},
   "outputs": [],
   "source": [
    "ast.get_docstring(transform_sys_tree)"
   ]
  },
  {
   "cell_type": "code",
   "execution_count": null,
   "id": "27060240",
   "metadata": {},
   "outputs": [],
   "source": [
    "isinstance(transform_sys_tree, ast.AST)"
   ]
  },
  {
   "cell_type": "code",
   "execution_count": null,
   "id": "704eab93",
   "metadata": {},
   "outputs": [],
   "source": []
  }
 ],
 "metadata": {
  "kernelspec": {
   "display_name": "iac-sketch",
   "language": "python",
   "name": "python3"
  },
  "language_info": {
   "codemirror_mode": {
    "name": "ipython",
    "version": 3
   },
   "file_extension": ".py",
   "mimetype": "text/x-python",
   "name": "python",
   "nbconvert_exporter": "python",
   "pygments_lexer": "ipython3",
   "version": "3.13.1"
  }
 },
 "nbformat": 4,
 "nbformat_minor": 5
}
