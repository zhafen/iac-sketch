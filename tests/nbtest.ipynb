{
 "cells": [
  {
   "cell_type": "code",
   "execution_count": 1,
   "id": "b360b827",
   "metadata": {},
   "outputs": [],
   "source": [
    "import pandas as pd"
   ]
  },
  {
   "cell_type": "code",
   "execution_count": 15,
   "id": "5c5aebc7",
   "metadata": {},
   "outputs": [],
   "source": [
    "from iac_sketch import data, parse, sketch"
   ]
  },
  {
   "cell_type": "code",
   "execution_count": 39,
   "id": "ac98ff0e",
   "metadata": {},
   "outputs": [],
   "source": [
    "# DEBUG\n",
    "import importlib\n",
    "importlib.reload(data)\n",
    "importlib.reload(parse)\n",
    "importlib.reload(sketch)\n",
    "architect = sketch.Architect(\"../public/components\")\n",
    "registry = architect.parse()"
   ]
  },
  {
   "cell_type": "code",
   "execution_count": 40,
   "id": "49780048",
   "metadata": {},
   "outputs": [
    {
     "data": {
      "text/html": [
       "<div>\n",
       "<style scoped>\n",
       "    .dataframe tbody tr th:only-of-type {\n",
       "        vertical-align: middle;\n",
       "    }\n",
       "\n",
       "    .dataframe tbody tr th {\n",
       "        vertical-align: top;\n",
       "    }\n",
       "\n",
       "    .dataframe thead th {\n",
       "        text-align: right;\n",
       "    }\n",
       "</style>\n",
       "<table border=\"1\" class=\"dataframe\">\n",
       "  <thead>\n",
       "    <tr style=\"text-align: right;\">\n",
       "      <th></th>\n",
       "      <th>entity</th>\n",
       "      <th>status</th>\n",
       "      <th>source_file</th>\n",
       "    </tr>\n",
       "  </thead>\n",
       "  <tbody>\n",
       "    <tr>\n",
       "      <th>0</th>\n",
       "      <td>accept_request</td>\n",
       "      <td>new</td>\n",
       "      <td>../public/components/requirements.yaml</td>\n",
       "    </tr>\n",
       "    <tr>\n",
       "      <th>1</th>\n",
       "      <td>deliver_report</td>\n",
       "      <td>new</td>\n",
       "      <td>../public/components/requirements.yaml</td>\n",
       "    </tr>\n",
       "    <tr>\n",
       "      <th>2</th>\n",
       "      <td>archive_data_products</td>\n",
       "      <td>new</td>\n",
       "      <td>../public/components/requirements.yaml</td>\n",
       "    </tr>\n",
       "    <tr>\n",
       "      <th>3</th>\n",
       "      <td>framework_manifest_data</td>\n",
       "      <td>in design</td>\n",
       "      <td>../public/components/requirements.yaml</td>\n",
       "    </tr>\n",
       "    <tr>\n",
       "      <th>4</th>\n",
       "      <td>framework_manifest_documentation</td>\n",
       "      <td>new</td>\n",
       "      <td>../public/components/requirements.yaml</td>\n",
       "    </tr>\n",
       "    <tr>\n",
       "      <th>5</th>\n",
       "      <td>power_users</td>\n",
       "      <td>new</td>\n",
       "      <td>../public/components/requirements.yaml</td>\n",
       "    </tr>\n",
       "    <tr>\n",
       "      <th>6</th>\n",
       "      <td>audit_cohorts</td>\n",
       "      <td>new</td>\n",
       "      <td>../public/components/requirements.yaml</td>\n",
       "    </tr>\n",
       "    <tr>\n",
       "      <th>7</th>\n",
       "      <td>fully_defined</td>\n",
       "      <td>NaN</td>\n",
       "      <td>../public/components/components.yaml</td>\n",
       "    </tr>\n",
       "    <tr>\n",
       "      <th>8</th>\n",
       "      <td>fully_connected</td>\n",
       "      <td>NaN</td>\n",
       "      <td>../public/components/components.yaml</td>\n",
       "    </tr>\n",
       "    <tr>\n",
       "      <th>9</th>\n",
       "      <td>query_cohort</td>\n",
       "      <td>NaN</td>\n",
       "      <td>../public/components/data.yaml</td>\n",
       "    </tr>\n",
       "  </tbody>\n",
       "</table>\n",
       "</div>"
      ],
      "text/plain": [
       "                             entity     status  \\\n",
       "0                    accept_request        new   \n",
       "1                    deliver_report        new   \n",
       "2             archive_data_products        new   \n",
       "3           framework_manifest_data  in design   \n",
       "4  framework_manifest_documentation        new   \n",
       "5                       power_users        new   \n",
       "6                     audit_cohorts        new   \n",
       "7                     fully_defined        NaN   \n",
       "8                   fully_connected        NaN   \n",
       "9                      query_cohort        NaN   \n",
       "\n",
       "                              source_file  \n",
       "0  ../public/components/requirements.yaml  \n",
       "1  ../public/components/requirements.yaml  \n",
       "2  ../public/components/requirements.yaml  \n",
       "3  ../public/components/requirements.yaml  \n",
       "4  ../public/components/requirements.yaml  \n",
       "5  ../public/components/requirements.yaml  \n",
       "6  ../public/components/requirements.yaml  \n",
       "7    ../public/components/components.yaml  \n",
       "8    ../public/components/components.yaml  \n",
       "9          ../public/components/data.yaml  "
      ]
     },
     "execution_count": 40,
     "metadata": {},
     "output_type": "execute_result"
    }
   ],
   "source": [
    "reqs = registry.view([\"requirement\", \"status\", \"source_file\"], how=\"left\")\n",
    "is_valid = reqs[\"status\"].isin([\"closed\", \"removed\"])\n",
    "invalid_reqs = reqs.loc[~is_valid]\n",
    "invalid_reqs"
   ]
  },
  {
   "cell_type": "code",
   "execution_count": null,
   "id": "ec4b2c73",
   "metadata": {},
   "outputs": [],
   "source": []
  }
 ],
 "metadata": {
  "kernelspec": {
   "display_name": "iac-sketch",
   "language": "python",
   "name": "python3"
  },
  "language_info": {
   "codemirror_mode": {
    "name": "ipython",
    "version": 3
   },
   "file_extension": ".py",
   "mimetype": "text/x-python",
   "name": "python",
   "nbconvert_exporter": "python",
   "pygments_lexer": "ipython3",
   "version": "3.13.2"
  }
 },
 "nbformat": 4,
 "nbformat_minor": 5
}
