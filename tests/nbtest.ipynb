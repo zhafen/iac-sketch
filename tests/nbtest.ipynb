{
 "cells": [
  {
   "cell_type": "code",
   "execution_count": 1,
   "id": "b360b827",
   "metadata": {},
   "outputs": [],
   "source": [
    "import pandas as pd\n",
    "import networkx as nx"
   ]
  },
  {
   "cell_type": "code",
   "execution_count": 2,
   "id": "5c5aebc7",
   "metadata": {},
   "outputs": [],
   "source": [
    "from iac_sketch import data, etl, sketch, transform, system_tests\n",
    "from iac_sketch.extract import extract_python, extract_yaml"
   ]
  },
  {
   "cell_type": "code",
   "execution_count": 3,
   "id": "ac98ff0e",
   "metadata": {},
   "outputs": [
    {
     "data": {
      "text/plain": [
       "<module 'iac_sketch.sketch' from '/Users/zhafen/repos/iac-sketch/iac_sketch/sketch.py'>"
      ]
     },
     "execution_count": 3,
     "metadata": {},
     "output_type": "execute_result"
    }
   ],
   "source": [
    "# DEBUG\n",
    "import importlib\n",
    "\n",
    "importlib.reload(extract_yaml)\n",
    "importlib.reload(extract_python)\n",
    "importlib.reload(etl)\n",
    "importlib.reload(data)\n",
    "importlib.reload(transform)\n",
    "importlib.reload(system_tests)\n",
    "importlib.reload(sketch)"
   ]
  },
  {
   "cell_type": "code",
   "execution_count": 9,
   "id": "686a2af6",
   "metadata": {},
   "outputs": [
    {
     "name": "stdout",
     "output_type": "stream",
     "text": [
      "test_fully_designed:\n",
      "requirement: fully_designed    priority: 0.9\n",
      "description: Each [requirement] entity has at least one [satisfies] entity.\n"
     ]
    },
    {
     "data": {
      "text/html": [
       "<div>\n",
       "<style scoped>\n",
       "    .dataframe tbody tr th:only-of-type {\n",
       "        vertical-align: middle;\n",
       "    }\n",
       "\n",
       "    .dataframe tbody tr th {\n",
       "        vertical-align: top;\n",
       "    }\n",
       "\n",
       "    .dataframe thead th {\n",
       "        text-align: right;\n",
       "    }\n",
       "</style>\n",
       "<table border=\"1\" class=\"dataframe\">\n",
       "  <thead>\n",
       "    <tr style=\"text-align: right;\">\n",
       "      <th></th>\n",
       "      <th>entity</th>\n",
       "      <th>comp_key</th>\n",
       "      <th>value</th>\n",
       "      <th>priority</th>\n",
       "      <th>link_type</th>\n",
       "      <th>source</th>\n",
       "      <th>target</th>\n",
       "    </tr>\n",
       "  </thead>\n",
       "  <tbody>\n",
       "    <tr>\n",
       "      <th>0</th>\n",
       "      <td>can_document_workflows</td>\n",
       "      <td>1</td>\n",
       "      <td>iac_sketch_infrastructure</td>\n",
       "      <td>0.5</td>\n",
       "      <td>NaN</td>\n",
       "      <td>NaN</td>\n",
       "      <td>NaN</td>\n",
       "    </tr>\n",
       "  </tbody>\n",
       "</table>\n",
       "</div>"
      ],
      "text/plain": [
       "                   entity comp_key                      value  priority  \\\n",
       "0  can_document_workflows        1  iac_sketch_infrastructure       0.5   \n",
       "\n",
       "  link_type source target  \n",
       "0       NaN    NaN    NaN  "
      ]
     },
     "metadata": {},
     "output_type": "display_data"
    },
    {
     "name": "stdout",
     "output_type": "stream",
     "text": [
      "\n",
      "test_fully_defined:\n",
      "requirement: fully_defined    priority: 0.8\n",
      "description: All [compdef] entities are defined and valid.\n"
     ]
    },
    {
     "data": {
      "text/html": [
       "<div>\n",
       "<style scoped>\n",
       "    .dataframe tbody tr th:only-of-type {\n",
       "        vertical-align: middle;\n",
       "    }\n",
       "\n",
       "    .dataframe tbody tr th {\n",
       "        vertical-align: top;\n",
       "    }\n",
       "\n",
       "    .dataframe thead th {\n",
       "        text-align: right;\n",
       "    }\n",
       "</style>\n",
       "<table border=\"1\" class=\"dataframe\">\n",
       "  <thead>\n",
       "    <tr style=\"text-align: right;\">\n",
       "      <th></th>\n",
       "      <th>comp_key</th>\n",
       "      <th>multiplicity</th>\n",
       "      <th>unparsed_fields</th>\n",
       "      <th>is_defined</th>\n",
       "      <th>fields</th>\n",
       "      <th>is_valid</th>\n",
       "      <th>errors</th>\n",
       "    </tr>\n",
       "    <tr>\n",
       "      <th>entity</th>\n",
       "      <th></th>\n",
       "      <th></th>\n",
       "      <th></th>\n",
       "      <th></th>\n",
       "      <th></th>\n",
       "      <th></th>\n",
       "      <th></th>\n",
       "    </tr>\n",
       "  </thead>\n",
       "  <tbody>\n",
       "    <tr>\n",
       "      <th>docstring</th>\n",
       "      <td>0</td>\n",
       "      <td>0..*</td>\n",
       "      <td>{}</td>\n",
       "      <td>False</td>\n",
       "      <td>{'entity': &lt;Schema Field(name=entity, type=Dat...</td>\n",
       "      <td>False</td>\n",
       "      <td>Component definition does not exist.</td>\n",
       "    </tr>\n",
       "  </tbody>\n",
       "</table>\n",
       "</div>"
      ],
      "text/plain": [
       "          comp_key multiplicity unparsed_fields  is_defined  \\\n",
       "entity                                                        \n",
       "docstring        0         0..*              {}       False   \n",
       "\n",
       "                                                      fields  is_valid  \\\n",
       "entity                                                                   \n",
       "docstring  {'entity': <Schema Field(name=entity, type=Dat...     False   \n",
       "\n",
       "                                          errors  \n",
       "entity                                            \n",
       "docstring  Component definition does not exist.   "
      ]
     },
     "metadata": {},
     "output_type": "display_data"
    },
    {
     "name": "stdout",
     "output_type": "stream",
     "text": [
      "\n",
      "test_fully_implemented:\n",
      "requirement: fully_implemented    priority: 0.7\n",
      "description: Each [requirement] entity has at least one [satisfies] entity and they must\n",
      "    meet the following conditions: 1. If a [test] entity, it must have an\n",
      "    implementation that passes when executed. 2. If a [task] entity, it must\n",
      "    have a status of \"in production\".\n"
     ]
    },
    {
     "data": {
      "text/html": [
       "<div>\n",
       "<style scoped>\n",
       "    .dataframe tbody tr th:only-of-type {\n",
       "        vertical-align: middle;\n",
       "    }\n",
       "\n",
       "    .dataframe tbody tr th {\n",
       "        vertical-align: top;\n",
       "    }\n",
       "\n",
       "    .dataframe thead th {\n",
       "        text-align: right;\n",
       "    }\n",
       "</style>\n",
       "<table border=\"1\" class=\"dataframe\">\n",
       "  <thead>\n",
       "    <tr style=\"text-align: right;\">\n",
       "      <th></th>\n",
       "      <th>entity</th>\n",
       "      <th>comp_key</th>\n",
       "      <th>value</th>\n",
       "      <th>priority</th>\n",
       "      <th>link.link_type</th>\n",
       "      <th>link.source</th>\n",
       "      <th>link.target</th>\n",
       "      <th>status.comp_key</th>\n",
       "      <th>status.value</th>\n",
       "    </tr>\n",
       "  </thead>\n",
       "  <tbody>\n",
       "    <tr>\n",
       "      <th>0</th>\n",
       "      <td>can_document_workflows</td>\n",
       "      <td>1</td>\n",
       "      <td>iac_sketch_infrastructure</td>\n",
       "      <td>0.5</td>\n",
       "      <td>NaN</td>\n",
       "      <td>NaN</td>\n",
       "      <td>NaN</td>\n",
       "      <td>NaN</td>\n",
       "      <td>NaN</td>\n",
       "    </tr>\n",
       "    <tr>\n",
       "      <th>1</th>\n",
       "      <td>can_execute_tests</td>\n",
       "      <td>1</td>\n",
       "      <td>iac_sketch_infrastructure</td>\n",
       "      <td>0.5</td>\n",
       "      <td>satisfies</td>\n",
       "      <td>executes_tests</td>\n",
       "      <td>can_execute_tests</td>\n",
       "      <td>NaN</td>\n",
       "      <td>NaN</td>\n",
       "    </tr>\n",
       "    <tr>\n",
       "      <th>2</th>\n",
       "      <td>can_execute_tests</td>\n",
       "      <td>1</td>\n",
       "      <td>iac_sketch_infrastructure</td>\n",
       "      <td>0.5</td>\n",
       "      <td>satisfies</td>\n",
       "      <td>test_executes_tests</td>\n",
       "      <td>can_execute_tests</td>\n",
       "      <td>NaN</td>\n",
       "      <td>NaN</td>\n",
       "    </tr>\n",
       "    <tr>\n",
       "      <th>3</th>\n",
       "      <td>can_perform_registry_etl</td>\n",
       "      <td>1</td>\n",
       "      <td>iac_sketch_infrastructure</td>\n",
       "      <td>0.5</td>\n",
       "      <td>satisfies</td>\n",
       "      <td>perform_registry_etl</td>\n",
       "      <td>can_perform_registry_etl</td>\n",
       "      <td>NaN</td>\n",
       "      <td>NaN</td>\n",
       "    </tr>\n",
       "    <tr>\n",
       "      <th>4</th>\n",
       "      <td>can_perform_registry_etl</td>\n",
       "      <td>1</td>\n",
       "      <td>iac_sketch_infrastructure</td>\n",
       "      <td>0.5</td>\n",
       "      <td>satisfies</td>\n",
       "      <td>test_perform_registry_etl</td>\n",
       "      <td>can_perform_registry_etl</td>\n",
       "      <td>NaN</td>\n",
       "      <td>NaN</td>\n",
       "    </tr>\n",
       "    <tr>\n",
       "      <th>5</th>\n",
       "      <td>fully_connected</td>\n",
       "      <td>1</td>\n",
       "      <td>NaN</td>\n",
       "      <td>0.4</td>\n",
       "      <td>satisfies</td>\n",
       "      <td>test_fully_connected</td>\n",
       "      <td>fully_connected</td>\n",
       "      <td>4</td>\n",
       "      <td>in development</td>\n",
       "    </tr>\n",
       "    <tr>\n",
       "      <th>6</th>\n",
       "      <td>fully_defined</td>\n",
       "      <td>1</td>\n",
       "      <td>NaN</td>\n",
       "      <td>0.8</td>\n",
       "      <td>satisfies</td>\n",
       "      <td>test_fully_defined</td>\n",
       "      <td>fully_defined</td>\n",
       "      <td>4</td>\n",
       "      <td>in development</td>\n",
       "    </tr>\n",
       "    <tr>\n",
       "      <th>7</th>\n",
       "      <td>fully_designed</td>\n",
       "      <td>1</td>\n",
       "      <td>NaN</td>\n",
       "      <td>0.9</td>\n",
       "      <td>satisfies</td>\n",
       "      <td>test_fully_designed</td>\n",
       "      <td>fully_designed</td>\n",
       "      <td>4</td>\n",
       "      <td>in development</td>\n",
       "    </tr>\n",
       "    <tr>\n",
       "      <th>8</th>\n",
       "      <td>fully_implemented</td>\n",
       "      <td>1</td>\n",
       "      <td>NaN</td>\n",
       "      <td>0.7</td>\n",
       "      <td>satisfies</td>\n",
       "      <td>test_fully_implemented</td>\n",
       "      <td>fully_implemented</td>\n",
       "      <td>4</td>\n",
       "      <td>in development</td>\n",
       "    </tr>\n",
       "    <tr>\n",
       "      <th>9</th>\n",
       "      <td>minimizes_structure_repetition</td>\n",
       "      <td>1</td>\n",
       "      <td>iac_sketch_infrastructure</td>\n",
       "      <td>0.5</td>\n",
       "      <td>satisfies</td>\n",
       "      <td>../iac_sketch/extract.extract_python.PythonExt...</td>\n",
       "      <td>minimizes_structure_repetition</td>\n",
       "      <td>1</td>\n",
       "      <td>in production</td>\n",
       "    </tr>\n",
       "    <tr>\n",
       "      <th>10</th>\n",
       "      <td>no_forbidden_components</td>\n",
       "      <td>1</td>\n",
       "      <td>NaN</td>\n",
       "      <td>0.5</td>\n",
       "      <td>satisfies</td>\n",
       "      <td>test_no_forbidden_components</td>\n",
       "      <td>no_forbidden_components</td>\n",
       "      <td>4</td>\n",
       "      <td>in development</td>\n",
       "    </tr>\n",
       "  </tbody>\n",
       "</table>\n",
       "</div>"
      ],
      "text/plain": [
       "                            entity comp_key                      value  \\\n",
       "0           can_document_workflows        1  iac_sketch_infrastructure   \n",
       "1                can_execute_tests        1  iac_sketch_infrastructure   \n",
       "2                can_execute_tests        1  iac_sketch_infrastructure   \n",
       "3         can_perform_registry_etl        1  iac_sketch_infrastructure   \n",
       "4         can_perform_registry_etl        1  iac_sketch_infrastructure   \n",
       "5                  fully_connected        1                        NaN   \n",
       "6                    fully_defined        1                        NaN   \n",
       "7                   fully_designed        1                        NaN   \n",
       "8                fully_implemented        1                        NaN   \n",
       "9   minimizes_structure_repetition        1  iac_sketch_infrastructure   \n",
       "10         no_forbidden_components        1                        NaN   \n",
       "\n",
       "    priority link.link_type  \\\n",
       "0        0.5            NaN   \n",
       "1        0.5      satisfies   \n",
       "2        0.5      satisfies   \n",
       "3        0.5      satisfies   \n",
       "4        0.5      satisfies   \n",
       "5        0.4      satisfies   \n",
       "6        0.8      satisfies   \n",
       "7        0.9      satisfies   \n",
       "8        0.7      satisfies   \n",
       "9        0.5      satisfies   \n",
       "10       0.5      satisfies   \n",
       "\n",
       "                                          link.source  \\\n",
       "0                                                 NaN   \n",
       "1                                      executes_tests   \n",
       "2                                 test_executes_tests   \n",
       "3                                perform_registry_etl   \n",
       "4                           test_perform_registry_etl   \n",
       "5                                test_fully_connected   \n",
       "6                                  test_fully_defined   \n",
       "7                                 test_fully_designed   \n",
       "8                              test_fully_implemented   \n",
       "9   ../iac_sketch/extract.extract_python.PythonExt...   \n",
       "10                       test_no_forbidden_components   \n",
       "\n",
       "                       link.target status.comp_key    status.value  \n",
       "0                              NaN             NaN             NaN  \n",
       "1                can_execute_tests             NaN             NaN  \n",
       "2                can_execute_tests             NaN             NaN  \n",
       "3         can_perform_registry_etl             NaN             NaN  \n",
       "4         can_perform_registry_etl             NaN             NaN  \n",
       "5                  fully_connected               4  in development  \n",
       "6                    fully_defined               4  in development  \n",
       "7                   fully_designed               4  in development  \n",
       "8                fully_implemented               4  in development  \n",
       "9   minimizes_structure_repetition               1   in production  \n",
       "10         no_forbidden_components               4  in development  "
      ]
     },
     "metadata": {},
     "output_type": "display_data"
    },
    {
     "name": "stdout",
     "output_type": "stream",
     "text": [
      "\n",
      "test_no_forbidden_components:\n",
      "requirement: no_forbidden_components    priority: 0.5\n",
      "description: No [error], [todo], or other \"forbidden\" components.\n"
     ]
    },
    {
     "data": {
      "text/html": [
       "<div>\n",
       "<style scoped>\n",
       "    .dataframe tbody tr th:only-of-type {\n",
       "        vertical-align: middle;\n",
       "    }\n",
       "\n",
       "    .dataframe tbody tr th {\n",
       "        vertical-align: top;\n",
       "    }\n",
       "\n",
       "    .dataframe thead th {\n",
       "        text-align: right;\n",
       "    }\n",
       "</style>\n",
       "<table border=\"1\" class=\"dataframe\">\n",
       "  <thead>\n",
       "    <tr style=\"text-align: right;\">\n",
       "      <th></th>\n",
       "      <th></th>\n",
       "      <th>component_type</th>\n",
       "    </tr>\n",
       "    <tr>\n",
       "      <th>entity</th>\n",
       "      <th>comp_key</th>\n",
       "      <th></th>\n",
       "    </tr>\n",
       "  </thead>\n",
       "  <tbody>\n",
       "    <tr>\n",
       "      <th>FunctionDef</th>\n",
       "      <th>3</th>\n",
       "      <td>todo</td>\n",
       "    </tr>\n",
       "    <tr>\n",
       "      <th>Module</th>\n",
       "      <th>2</th>\n",
       "      <td>todo</td>\n",
       "    </tr>\n",
       "    <tr>\n",
       "      <th>child_component</th>\n",
       "      <th>1</th>\n",
       "      <td>todo</td>\n",
       "    </tr>\n",
       "  </tbody>\n",
       "</table>\n",
       "</div>"
      ],
      "text/plain": [
       "                         component_type\n",
       "entity          comp_key               \n",
       "FunctionDef     3                  todo\n",
       "Module          2                  todo\n",
       "child_component 1                  todo"
      ]
     },
     "metadata": {},
     "output_type": "display_data"
    },
    {
     "name": "stdout",
     "output_type": "stream",
     "text": [
      "\n",
      "test_fully_connected:\n",
      "requirement: fully_connected    priority: 0.4\n",
      "description: The network composed of [link] components and entities as nodes is fully\n",
      "    connected.\n"
     ]
    },
    {
     "data": {
      "text/html": [
       "<div>\n",
       "<style scoped>\n",
       "    .dataframe tbody tr th:only-of-type {\n",
       "        vertical-align: middle;\n",
       "    }\n",
       "\n",
       "    .dataframe tbody tr th {\n",
       "        vertical-align: top;\n",
       "    }\n",
       "\n",
       "    .dataframe thead th {\n",
       "        text-align: right;\n",
       "    }\n",
       "</style>\n",
       "<table border=\"1\" class=\"dataframe\">\n",
       "  <thead>\n",
       "    <tr style=\"text-align: right;\">\n",
       "      <th></th>\n",
       "      <th>connected_component_group</th>\n",
       "      <th>comp_key</th>\n",
       "    </tr>\n",
       "    <tr>\n",
       "      <th>entity</th>\n",
       "      <th></th>\n",
       "      <th></th>\n",
       "    </tr>\n",
       "  </thead>\n",
       "  <tbody>\n",
       "    <tr>\n",
       "      <th>../iac_sketch/extract</th>\n",
       "      <td>10</td>\n",
       "      <td>0</td>\n",
       "    </tr>\n",
       "    <tr>\n",
       "      <th>../iac_sketch/extract.__init__</th>\n",
       "      <td>11</td>\n",
       "      <td>2</td>\n",
       "    </tr>\n",
       "    <tr>\n",
       "      <th>../iac_sketch/extract.extract_python</th>\n",
       "      <td>12</td>\n",
       "      <td>5</td>\n",
       "    </tr>\n",
       "    <tr>\n",
       "      <th>../iac_sketch/extract.extract_python.ComponentExtractor</th>\n",
       "      <td>13</td>\n",
       "      <td>0</td>\n",
       "    </tr>\n",
       "    <tr>\n",
       "      <th>../iac_sketch/extract.extract_python.ComponentExtractor.__init__</th>\n",
       "      <td>14</td>\n",
       "      <td>3</td>\n",
       "    </tr>\n",
       "    <tr>\n",
       "      <th>...</th>\n",
       "      <td>...</td>\n",
       "      <td>...</td>\n",
       "    </tr>\n",
       "    <tr>\n",
       "      <th>test_no_forbidden_components</th>\n",
       "      <td>9</td>\n",
       "      <td>7</td>\n",
       "    </tr>\n",
       "    <tr>\n",
       "      <th>test_perform_registry_etl</th>\n",
       "      <td>4</td>\n",
       "      <td>5</td>\n",
       "    </tr>\n",
       "    <tr>\n",
       "      <th>todo</th>\n",
       "      <td>83</td>\n",
       "      <td>5</td>\n",
       "    </tr>\n",
       "    <tr>\n",
       "      <th>url</th>\n",
       "      <td>84</td>\n",
       "      <td>5</td>\n",
       "    </tr>\n",
       "    <tr>\n",
       "      <th>validate_compinsts</th>\n",
       "      <td>1</td>\n",
       "      <td>4</td>\n",
       "    </tr>\n",
       "  </tbody>\n",
       "</table>\n",
       "<p>103 rows × 2 columns</p>\n",
       "</div>"
      ],
      "text/plain": [
       "                                                    connected_component_group  \\\n",
       "entity                                                                          \n",
       "../iac_sketch/extract                                                      10   \n",
       "../iac_sketch/extract.__init__                                             11   \n",
       "../iac_sketch/extract.extract_python                                       12   \n",
       "../iac_sketch/extract.extract_python.ComponentE...                         13   \n",
       "../iac_sketch/extract.extract_python.ComponentE...                         14   \n",
       "...                                                                       ...   \n",
       "test_no_forbidden_components                                                9   \n",
       "test_perform_registry_etl                                                   4   \n",
       "todo                                                                       83   \n",
       "url                                                                        84   \n",
       "validate_compinsts                                                          1   \n",
       "\n",
       "                                                   comp_key  \n",
       "entity                                                       \n",
       "../iac_sketch/extract                                     0  \n",
       "../iac_sketch/extract.__init__                            2  \n",
       "../iac_sketch/extract.extract_python                      5  \n",
       "../iac_sketch/extract.extract_python.ComponentE...        0  \n",
       "../iac_sketch/extract.extract_python.ComponentE...        3  \n",
       "...                                                     ...  \n",
       "test_no_forbidden_components                              7  \n",
       "test_perform_registry_etl                                 5  \n",
       "todo                                                      5  \n",
       "url                                                       5  \n",
       "validate_compinsts                                        4  \n",
       "\n",
       "[103 rows x 2 columns]"
      ]
     },
     "metadata": {},
     "output_type": "display_data"
    },
    {
     "name": "stdout",
     "output_type": "stream",
     "text": [
      "\n"
     ]
    }
   ],
   "source": [
    "architect = sketch.Architect()\n",
    "registry = architect.perform_registry_etl()\n",
    "tests, test_results = architect.validate_registry()"
   ]
  },
  {
   "cell_type": "code",
   "execution_count": null,
   "id": "ea824c4b",
   "metadata": {},
   "outputs": [],
   "source": [
    "# Visualize the graph\n",
    "nx.draw(registry.graph, with_labels=True)"
   ]
  },
  {
   "cell_type": "code",
   "execution_count": null,
   "id": "5a7304c2",
   "metadata": {},
   "outputs": [],
   "source": [
    "import ast"
   ]
  },
  {
   "cell_type": "code",
   "execution_count": null,
   "id": "69a35d09",
   "metadata": {},
   "outputs": [],
   "source": [
    "with open(\"../iac_sketch/etl.py\", \"r\") as f:\n",
    "    source = f.read()\n",
    "tree = ast.parse(source)\n",
    "tree"
   ]
  },
  {
   "cell_type": "code",
   "execution_count": null,
   "id": "34d31dae",
   "metadata": {},
   "outputs": [],
   "source": [
    "list(ast.iter_child_nodes(tree))"
   ]
  },
  {
   "cell_type": "code",
   "execution_count": null,
   "id": "c4184b51",
   "metadata": {},
   "outputs": [],
   "source": [
    "import ast"
   ]
  },
  {
   "cell_type": "code",
   "execution_count": null,
   "id": "eb9e4bba",
   "metadata": {},
   "outputs": [],
   "source": [
    "node = ast.parse(\"\"\"\n",
    "def my_function(x) -> int:\n",
    "    return x + 1\n",
    "\n",
    "x = my_function(5)\n",
    "\"\"\")"
   ]
  },
  {
   "cell_type": "code",
   "execution_count": null,
   "id": "c3e10d1e",
   "metadata": {},
   "outputs": [],
   "source": [
    "nt = ast.NodeTransformer()\n",
    "nt.visit(node)"
   ]
  },
  {
   "cell_type": "code",
   "execution_count": null,
   "id": "b2c4142f",
   "metadata": {},
   "outputs": [],
   "source": [
    "nt = ast.NodeVisitor()\n",
    "nt.visit(node)"
   ]
  },
  {
   "cell_type": "code",
   "execution_count": null,
   "id": "b45823ca",
   "metadata": {},
   "outputs": [],
   "source": [
    "list(ast.iter_child_nodes(node.body[1]))"
   ]
  },
  {
   "cell_type": "code",
   "execution_count": null,
   "id": "a718dae1",
   "metadata": {},
   "outputs": [],
   "source": [
    "node.body[1].value.func.ctx"
   ]
  },
  {
   "cell_type": "code",
   "execution_count": null,
   "id": "7312b6fc",
   "metadata": {},
   "outputs": [],
   "source": [
    "node.body[0].__class__.__name__"
   ]
  },
  {
   "cell_type": "code",
   "execution_count": null,
   "id": "231f1a3d",
   "metadata": {},
   "outputs": [],
   "source": [
    "node.body[0]._fields"
   ]
  },
  {
   "cell_type": "code",
   "execution_count": null,
   "id": "81148f4b",
   "metadata": {},
   "outputs": [],
   "source": [
    "node.body[0].body[0].value._fields"
   ]
  },
  {
   "cell_type": "code",
   "execution_count": null,
   "id": "4a450f36",
   "metadata": {},
   "outputs": [],
   "source": [
    "visitor = ComponentVisitor()"
   ]
  },
  {
   "cell_type": "code",
   "execution_count": null,
   "id": "ae7226ee",
   "metadata": {},
   "outputs": [],
   "source": [
    "visitor.visit(tree)"
   ]
  },
  {
   "cell_type": "code",
   "execution_count": null,
   "id": "f86ab7d0",
   "metadata": {},
   "outputs": [],
   "source": [
    "pd.DataFrame(visitor.components)"
   ]
  },
  {
   "cell_type": "code",
   "execution_count": null,
   "id": "649bc81d",
   "metadata": {},
   "outputs": [],
   "source": [
    "type(tree.body[-1])"
   ]
  },
  {
   "cell_type": "code",
   "execution_count": null,
   "id": "c01f6ec4",
   "metadata": {},
   "outputs": [],
   "source": [
    "dict(ast.iter_fields(child_node))"
   ]
  },
  {
   "cell_type": "code",
   "execution_count": null,
   "id": "2e919220",
   "metadata": {},
   "outputs": [],
   "source": [
    "components = []\n",
    "for child_node in ast.iter_child_nodes(tree.body[-1]):\n",
    "    comp_i = {\n",
    "        \"component_type\": type(child_node).__name__\n",
    "    }\n",
    "    components.append(comp_i)\n",
    "\n",
    "components"
   ]
  },
  {
   "cell_type": "code",
   "execution_count": null,
   "id": "79e8ff08",
   "metadata": {},
   "outputs": [],
   "source": [
    "tree.body[-1].__dir__()"
   ]
  },
  {
   "cell_type": "code",
   "execution_count": null,
   "id": "afc61d6a",
   "metadata": {},
   "outputs": [],
   "source": []
  },
  {
   "cell_type": "code",
   "execution_count": null,
   "id": "836f8c24",
   "metadata": {},
   "outputs": [],
   "source": [
    "for item in ast.iter_fields(tree.body[-1].body[-1]):\n",
    "    print(item)"
   ]
  },
  {
   "cell_type": "code",
   "execution_count": null,
   "id": "eb91955e",
   "metadata": {},
   "outputs": [],
   "source": [
    "visitor.visit(tree.body[-1])"
   ]
  },
  {
   "cell_type": "code",
   "execution_count": null,
   "id": "ca2adbda",
   "metadata": {},
   "outputs": [],
   "source": [
    "ast.walk(visitor.visit(tree))"
   ]
  },
  {
   "cell_type": "code",
   "execution_count": null,
   "id": "cac97308",
   "metadata": {},
   "outputs": [],
   "source": [
    "for item in ast.walk(tree):\n",
    "    print(item)"
   ]
  },
  {
   "cell_type": "code",
   "execution_count": null,
   "id": "750796db",
   "metadata": {},
   "outputs": [],
   "source": [
    "visitor.visit_Constant(tree)"
   ]
  },
  {
   "cell_type": "code",
   "execution_count": null,
   "id": "2b642bac",
   "metadata": {},
   "outputs": [],
   "source": [
    "components = {}\n",
    "for field, value in ast.iter_fields(tree):\n",
    "    print(field, value)\n",
    "    if isinstance(value, str)"
   ]
  },
  {
   "cell_type": "code",
   "execution_count": null,
   "id": "0bf1ed17",
   "metadata": {},
   "outputs": [],
   "source": [
    "for item in ast.iter_child_nodes(transform_sys_tree):\n",
    "    print(item)"
   ]
  },
  {
   "cell_type": "code",
   "execution_count": null,
   "id": "61c1d237",
   "metadata": {},
   "outputs": [],
   "source": [
    "ast.get_source_segment(source, transform_sys_tree)"
   ]
  },
  {
   "cell_type": "code",
   "execution_count": null,
   "id": "2e2de8e6",
   "metadata": {},
   "outputs": [],
   "source": [
    "ast.get_docstring(transform_sys_tree)"
   ]
  },
  {
   "cell_type": "code",
   "execution_count": null,
   "id": "27060240",
   "metadata": {},
   "outputs": [],
   "source": [
    "isinstance(transform_sys_tree, ast.AST)"
   ]
  },
  {
   "cell_type": "code",
   "execution_count": null,
   "id": "704eab93",
   "metadata": {},
   "outputs": [],
   "source": []
  }
 ],
 "metadata": {
  "kernelspec": {
   "display_name": "iac-sketch",
   "language": "python",
   "name": "python3"
  },
  "language_info": {
   "codemirror_mode": {
    "name": "ipython",
    "version": 3
   },
   "file_extension": ".py",
   "mimetype": "text/x-python",
   "name": "python",
   "nbconvert_exporter": "python",
   "pygments_lexer": "ipython3",
   "version": "3.13.1"
  }
 },
 "nbformat": 4,
 "nbformat_minor": 5
}
