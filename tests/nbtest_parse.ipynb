{
 "cells": [
  {
   "cell_type": "code",
   "execution_count": null,
   "id": "b360b827",
   "metadata": {},
   "outputs": [],
   "source": [
    "import pandas as pd"
   ]
  },
  {
   "cell_type": "code",
   "execution_count": null,
   "id": "5c5aebc7",
   "metadata": {},
   "outputs": [],
   "source": [
    "from iac_sketch import parse"
   ]
  },
  {
   "cell_type": "code",
   "execution_count": null,
   "id": "ac98ff0e",
   "metadata": {},
   "outputs": [],
   "source": [
    "# DEBUG\n",
    "import importlib\n",
    "importlib.reload(parse)\n",
    "parser = parse.Parser(\"../public/components\")"
   ]
  },
  {
   "cell_type": "code",
   "execution_count": null,
   "id": "49780048",
   "metadata": {},
   "outputs": [],
   "source": [
    "parser.extract()"
   ]
  },
  {
   "cell_type": "code",
   "execution_count": null,
   "id": "921aa61e",
   "metadata": {},
   "outputs": [],
   "source": [
    "parser.transform()"
   ]
  },
  {
   "cell_type": "code",
   "execution_count": null,
   "id": "f71b8d61",
   "metadata": {},
   "outputs": [],
   "source": [
    "comps = parser.components[\"component\"]"
   ]
  },
  {
   "cell_type": "code",
   "execution_count": null,
   "id": "3af16ad7",
   "metadata": {},
   "outputs": [],
   "source": [
    "comps"
   ]
  },
  {
   "cell_type": "code",
   "execution_count": null,
   "id": "d9901471",
   "metadata": {},
   "outputs": [],
   "source": []
  }
 ],
 "metadata": {
  "kernelspec": {
   "display_name": "iac-sketch",
   "language": "python",
   "name": "python3"
  },
  "language_info": {
   "codemirror_mode": {
    "name": "ipython",
    "version": 3
   },
   "file_extension": ".py",
   "mimetype": "text/x-python",
   "name": "python",
   "nbconvert_exporter": "python",
   "pygments_lexer": "ipython3",
   "version": "3.13.2"
  }
 },
 "nbformat": 4,
 "nbformat_minor": 5
}
